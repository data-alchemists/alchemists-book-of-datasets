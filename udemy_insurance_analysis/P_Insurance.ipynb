{
  "nbformat": 4,
  "nbformat_minor": 0,
  "metadata": {
    "colab": {
      "name": "P_Insurance.ipynb",
      "version": "0.3.2",
      "provenance": [],
      "collapsed_sections": []
    },
    "kernelspec": {
      "name": "python3",
      "display_name": "Python 3"
    }
  },
  "cells": [
    {
      "metadata": {
        "id": "ESxsNr91EGx6",
        "colab_type": "code",
        "colab": {}
      },
      "cell_type": "code",
      "source": [
        "import numpy as np\n",
        "import pandas as pd\n",
        "import matplotlib.pyplot as plt\n",
        "%matplotlib inline"
      ],
      "execution_count": 0,
      "outputs": []
    },
    {
      "metadata": {
        "id": "csmkItSqEOsY",
        "colab_type": "code",
        "colab": {}
      },
      "cell_type": "code",
      "source": [
        "%%sh\n",
        "wget --quiet --output-document test.csv 'https://drive.google.com/uc?authuser=0&id=1X-jvKn6mwxmyyqFidvC2eU3GjAQyFKvx&export=download'"
      ],
      "execution_count": 0,
      "outputs": []
    },
    {
      "metadata": {
        "id": "gu5j0ihYXUg6",
        "colab_type": "code",
        "colab": {}
      },
      "cell_type": "code",
      "source": [
        "df = pd.read_csv('test.csv')\n",
        "df = df.rename(columns={\n",
        "    'Policy Number': 'policy_number'\n",
        "})"
      ],
      "execution_count": 0,
      "outputs": []
    },
    {
      "metadata": {
        "id": "5fVieOwsFNIO",
        "colab_type": "code",
        "outputId": "046e149c-5abb-4c0b-dde2-52a8783ebd40",
        "colab": {
          "base_uri": "https://localhost:8080/",
          "height": 202
        }
      },
      "cell_type": "code",
      "source": [
        "df.head()"
      ],
      "execution_count": 5,
      "outputs": [
        {
          "output_type": "execute_result",
          "data": {
            "text/html": [
              "<div>\n",
              "<style scoped>\n",
              "    .dataframe tbody tr th:only-of-type {\n",
              "        vertical-align: middle;\n",
              "    }\n",
              "\n",
              "    .dataframe tbody tr th {\n",
              "        vertical-align: top;\n",
              "    }\n",
              "\n",
              "    .dataframe thead th {\n",
              "        text-align: right;\n",
              "    }\n",
              "</style>\n",
              "<table border=\"1\" class=\"dataframe\">\n",
              "  <thead>\n",
              "    <tr style=\"text-align: right;\">\n",
              "      <th></th>\n",
              "      <th>policy_number</th>\n",
              "      <th>Age</th>\n",
              "      <th>Years of Driving Experience</th>\n",
              "      <th>Number of Vehicles</th>\n",
              "      <th>Gender</th>\n",
              "      <th>Married</th>\n",
              "      <th>Vehicle Age</th>\n",
              "      <th>Fuel Type</th>\n",
              "      <th>Losses</th>\n",
              "    </tr>\n",
              "  </thead>\n",
              "  <tbody>\n",
              "    <tr>\n",
              "      <th>0</th>\n",
              "      <td>150023</td>\n",
              "      <td>24</td>\n",
              "      <td>5</td>\n",
              "      <td>1</td>\n",
              "      <td>M</td>\n",
              "      <td>Married</td>\n",
              "      <td>11</td>\n",
              "      <td>P</td>\n",
              "      <td>203</td>\n",
              "    </tr>\n",
              "    <tr>\n",
              "      <th>1</th>\n",
              "      <td>152720</td>\n",
              "      <td>31</td>\n",
              "      <td>10</td>\n",
              "      <td>1</td>\n",
              "      <td>F</td>\n",
              "      <td>Single</td>\n",
              "      <td>6</td>\n",
              "      <td>P</td>\n",
              "      <td>402</td>\n",
              "    </tr>\n",
              "    <tr>\n",
              "      <th>2</th>\n",
              "      <td>174207</td>\n",
              "      <td>56</td>\n",
              "      <td>37</td>\n",
              "      <td>1</td>\n",
              "      <td>M</td>\n",
              "      <td>Married</td>\n",
              "      <td>0</td>\n",
              "      <td>D</td>\n",
              "      <td>553</td>\n",
              "    </tr>\n",
              "    <tr>\n",
              "      <th>3</th>\n",
              "      <td>139895</td>\n",
              "      <td>52</td>\n",
              "      <td>31</td>\n",
              "      <td>1</td>\n",
              "      <td>F</td>\n",
              "      <td>Married</td>\n",
              "      <td>15</td>\n",
              "      <td>P</td>\n",
              "      <td>292</td>\n",
              "    </tr>\n",
              "    <tr>\n",
              "      <th>4</th>\n",
              "      <td>174407</td>\n",
              "      <td>20</td>\n",
              "      <td>3</td>\n",
              "      <td>1</td>\n",
              "      <td>M</td>\n",
              "      <td>Single</td>\n",
              "      <td>15</td>\n",
              "      <td>P</td>\n",
              "      <td>247</td>\n",
              "    </tr>\n",
              "  </tbody>\n",
              "</table>\n",
              "</div>"
            ],
            "text/plain": [
              "   policy_number  Age  Years of Driving Experience  Number of Vehicles Gender  \\\n",
              "0         150023   24                            5                   1      M   \n",
              "1         152720   31                           10                   1      F   \n",
              "2         174207   56                           37                   1      M   \n",
              "3         139895   52                           31                   1      F   \n",
              "4         174407   20                            3                   1      M   \n",
              "\n",
              "   Married  Vehicle Age Fuel Type  Losses  \n",
              "0  Married           11         P     203  \n",
              "1   Single            6         P     402  \n",
              "2  Married            0         D     553  \n",
              "3  Married           15         P     292  \n",
              "4   Single           15         P     247  "
            ]
          },
          "metadata": {
            "tags": []
          },
          "execution_count": 5
        }
      ]
    },
    {
      "metadata": {
        "id": "1lVq_XHqFOsE",
        "colab_type": "code",
        "outputId": "0d127af2-4e55-46a9-dc68-17363f3f9e95",
        "colab": {
          "base_uri": "https://localhost:8080/",
          "height": 294
        }
      },
      "cell_type": "code",
      "source": [
        "df.describe()"
      ],
      "execution_count": 6,
      "outputs": [
        {
          "output_type": "execute_result",
          "data": {
            "text/html": [
              "<div>\n",
              "<style scoped>\n",
              "    .dataframe tbody tr th:only-of-type {\n",
              "        vertical-align: middle;\n",
              "    }\n",
              "\n",
              "    .dataframe tbody tr th {\n",
              "        vertical-align: top;\n",
              "    }\n",
              "\n",
              "    .dataframe thead th {\n",
              "        text-align: right;\n",
              "    }\n",
              "</style>\n",
              "<table border=\"1\" class=\"dataframe\">\n",
              "  <thead>\n",
              "    <tr style=\"text-align: right;\">\n",
              "      <th></th>\n",
              "      <th>policy_number</th>\n",
              "      <th>Age</th>\n",
              "      <th>Years of Driving Experience</th>\n",
              "      <th>Number of Vehicles</th>\n",
              "      <th>Vehicle Age</th>\n",
              "      <th>Losses</th>\n",
              "    </tr>\n",
              "  </thead>\n",
              "  <tbody>\n",
              "    <tr>\n",
              "      <th>count</th>\n",
              "      <td>15290.000000</td>\n",
              "      <td>15290.000000</td>\n",
              "      <td>15290.000000</td>\n",
              "      <td>15290.000000</td>\n",
              "      <td>15290.000000</td>\n",
              "      <td>15290.000000</td>\n",
              "    </tr>\n",
              "    <tr>\n",
              "      <th>mean</th>\n",
              "      <td>149910.276651</td>\n",
              "      <td>42.328254</td>\n",
              "      <td>23.732897</td>\n",
              "      <td>2.495880</td>\n",
              "      <td>8.655723</td>\n",
              "      <td>389.858012</td>\n",
              "    </tr>\n",
              "    <tr>\n",
              "      <th>std</th>\n",
              "      <td>28948.806631</td>\n",
              "      <td>18.280511</td>\n",
              "      <td>17.850707</td>\n",
              "      <td>0.953776</td>\n",
              "      <td>4.344536</td>\n",
              "      <td>253.729469</td>\n",
              "    </tr>\n",
              "    <tr>\n",
              "      <th>min</th>\n",
              "      <td>100002.000000</td>\n",
              "      <td>16.000000</td>\n",
              "      <td>0.000000</td>\n",
              "      <td>1.000000</td>\n",
              "      <td>0.000000</td>\n",
              "      <td>13.000000</td>\n",
              "    </tr>\n",
              "    <tr>\n",
              "      <th>25%</th>\n",
              "      <td>124842.000000</td>\n",
              "      <td>24.000000</td>\n",
              "      <td>6.000000</td>\n",
              "      <td>2.000000</td>\n",
              "      <td>6.000000</td>\n",
              "      <td>226.000000</td>\n",
              "    </tr>\n",
              "    <tr>\n",
              "      <th>50%</th>\n",
              "      <td>149872.000000</td>\n",
              "      <td>42.000000</td>\n",
              "      <td>23.000000</td>\n",
              "      <td>2.000000</td>\n",
              "      <td>9.000000</td>\n",
              "      <td>355.000000</td>\n",
              "    </tr>\n",
              "    <tr>\n",
              "      <th>75%</th>\n",
              "      <td>175011.000000</td>\n",
              "      <td>61.000000</td>\n",
              "      <td>42.000000</td>\n",
              "      <td>3.000000</td>\n",
              "      <td>12.000000</td>\n",
              "      <td>489.000000</td>\n",
              "    </tr>\n",
              "    <tr>\n",
              "      <th>max</th>\n",
              "      <td>200000.000000</td>\n",
              "      <td>70.000000</td>\n",
              "      <td>53.000000</td>\n",
              "      <td>4.000000</td>\n",
              "      <td>15.000000</td>\n",
              "      <td>3500.000000</td>\n",
              "    </tr>\n",
              "  </tbody>\n",
              "</table>\n",
              "</div>"
            ],
            "text/plain": [
              "       policy_number           Age  Years of Driving Experience  \\\n",
              "count   15290.000000  15290.000000                 15290.000000   \n",
              "mean   149910.276651     42.328254                    23.732897   \n",
              "std     28948.806631     18.280511                    17.850707   \n",
              "min    100002.000000     16.000000                     0.000000   \n",
              "25%    124842.000000     24.000000                     6.000000   \n",
              "50%    149872.000000     42.000000                    23.000000   \n",
              "75%    175011.000000     61.000000                    42.000000   \n",
              "max    200000.000000     70.000000                    53.000000   \n",
              "\n",
              "       Number of Vehicles   Vehicle Age        Losses  \n",
              "count        15290.000000  15290.000000  15290.000000  \n",
              "mean             2.495880      8.655723    389.858012  \n",
              "std              0.953776      4.344536    253.729469  \n",
              "min              1.000000      0.000000     13.000000  \n",
              "25%              2.000000      6.000000    226.000000  \n",
              "50%              2.000000      9.000000    355.000000  \n",
              "75%              3.000000     12.000000    489.000000  \n",
              "max              4.000000     15.000000   3500.000000  "
            ]
          },
          "metadata": {
            "tags": []
          },
          "execution_count": 6
        }
      ]
    },
    {
      "metadata": {
        "id": "QHmpiRzjFtc9",
        "colab_type": "code",
        "outputId": "f719f9b9-e79d-455e-f629-65a3820fe81e",
        "colab": {
          "base_uri": "https://localhost:8080/",
          "height": 316
        }
      },
      "cell_type": "code",
      "source": [
        "df.hist('Losses', bins=25)"
      ],
      "execution_count": 7,
      "outputs": [
        {
          "output_type": "execute_result",
          "data": {
            "text/plain": [
              "array([[<matplotlib.axes._subplots.AxesSubplot object at 0x7f949f548b70>]],\n",
              "      dtype=object)"
            ]
          },
          "metadata": {
            "tags": []
          },
          "execution_count": 7
        },
        {
          "output_type": "display_data",
          "data": {
            "image/png": "[encoded data removed]",
            "text/plain": [
              "<Figure size 432x288 with 1 Axes>"
            ]
          },
          "metadata": {
            "tags": []
          }
        }
      ]
    },
    {
      "metadata": {
        "id": "Y-VySCLdIlt7",
        "colab_type": "code",
        "outputId": "92fb7b31-538e-43d8-ca41-60b0620845be",
        "colab": {
          "base_uri": "https://localhost:8080/",
          "height": 318
        }
      },
      "cell_type": "code",
      "source": [
        "df.boxplot(column=['Losses'], by='Married')"
      ],
      "execution_count": 8,
      "outputs": [
        {
          "output_type": "execute_result",
          "data": {
            "text/plain": [
              "<matplotlib.axes._subplots.AxesSubplot at 0x7f949d3d50b8>"
            ]
          },
          "metadata": {
            "tags": []
          },
          "execution_count": 8
        },
        {
          "output_type": "display_data",
          "data": {
            "image/png": "[encoded data removed]",
            "text/plain": [
              "<Figure size 432x288 with 1 Axes>"
            ]
          },
          "metadata": {
            "tags": []
          }
        }
      ]
    },
    {
      "metadata": {
        "id": "2AP4CKocJQiW",
        "colab_type": "code",
        "outputId": "e9d53afa-fc43-47ed-b599-63e9056b934d",
        "colab": {
          "base_uri": "https://localhost:8080/",
          "height": 173
        }
      },
      "cell_type": "code",
      "source": [
        "list(df)"
      ],
      "execution_count": 9,
      "outputs": [
        {
          "output_type": "execute_result",
          "data": {
            "text/plain": [
              "['policy_number',\n",
              " 'Age',\n",
              " 'Years of Driving Experience',\n",
              " 'Number of Vehicles',\n",
              " 'Gender',\n",
              " 'Married',\n",
              " 'Vehicle Age',\n",
              " 'Fuel Type',\n",
              " 'Losses']"
            ]
          },
          "metadata": {
            "tags": []
          },
          "execution_count": 9
        }
      ]
    },
    {
      "metadata": {
        "id": "AkKreacQKjNj",
        "colab_type": "code",
        "outputId": "bccd348e-d5d7-4d7f-e7fd-7268eba1cebf",
        "colab": {
          "base_uri": "https://localhost:8080/",
          "height": 34
        }
      },
      "cell_type": "code",
      "source": [
        "x = df[(df['Losses']>= 300) & (df['Losses'] <= 340)]\n",
        "x['Losses'].count()"
      ],
      "execution_count": 10,
      "outputs": [
        {
          "output_type": "execute_result",
          "data": {
            "text/plain": [
              "1471"
            ]
          },
          "metadata": {
            "tags": []
          },
          "execution_count": 10
        }
      ]
    },
    {
      "metadata": {
        "id": "irJ6BlbHN2kl",
        "colab_type": "code",
        "outputId": "2f91133d-e94f-4f6f-a56d-6b3b1b70c114",
        "colab": {
          "base_uri": "https://localhost:8080/",
          "height": 34
        }
      },
      "cell_type": "code",
      "source": [
        "df['Age'].count()"
      ],
      "execution_count": 11,
      "outputs": [
        {
          "output_type": "execute_result",
          "data": {
            "text/plain": [
              "15290"
            ]
          },
          "metadata": {
            "tags": []
          },
          "execution_count": 11
        }
      ]
    },
    {
      "metadata": {
        "id": "_OaHbE39PuHM",
        "colab_type": "code",
        "outputId": "eff60360-7fd5-43c5-ae27-78b949703a18",
        "colab": {
          "base_uri": "https://localhost:8080/",
          "height": 301
        }
      },
      "cell_type": "code",
      "source": [
        "df.groupby(['Losses']).size().plot()"
      ],
      "execution_count": 12,
      "outputs": [
        {
          "output_type": "execute_result",
          "data": {
            "text/plain": [
              "<matplotlib.axes._subplots.AxesSubplot at 0x7f949d36bb38>"
            ]
          },
          "metadata": {
            "tags": []
          },
          "execution_count": 12
        },
        {
          "output_type": "display_data",
          "data": {
            "image/png": "[encoded data removed]",
            "text/plain": [
              "<Figure size 432x288 with 1 Axes>"
            ]
          },
          "metadata": {
            "tags": []
          }
        }
      ]
    },
    {
      "metadata": {
        "id": "JnG_cPz-UFgT",
        "colab_type": "code",
        "colab": {}
      },
      "cell_type": "code",
      "source": [
        "df = df.replace('F', 0).replace('M', 1).replace('P', 0).replace('D', 1)"
      ],
      "execution_count": 0,
      "outputs": []
    },
    {
      "metadata": {
        "id": "MN1LSM7nUW_1",
        "colab_type": "code",
        "outputId": "fb491b4a-e22c-47d2-dbb0-a013b53bdff5",
        "colab": {
          "base_uri": "https://localhost:8080/",
          "height": 34
        }
      },
      "cell_type": "code",
      "source": [
        "df['Age'].corr(df['Losses'])\n"
      ],
      "execution_count": 14,
      "outputs": [
        {
          "output_type": "execute_result",
          "data": {
            "text/plain": [
              "-0.44295052487397957"
            ]
          },
          "metadata": {
            "tags": []
          },
          "execution_count": 14
        }
      ]
    },
    {
      "metadata": {
        "id": "aGHkZPg9xmVm",
        "colab_type": "code",
        "outputId": "4514f8e7-b329-4d1c-d5e3-56b89110bc6d",
        "colab": {
          "base_uri": "https://localhost:8080/",
          "height": 210
        }
      },
      "cell_type": "code",
      "source": [
        "# 287 720\n",
        "print(df.groupby('Fuel Type').size())\n",
        "df[['Fuel Type', 'Losses']].groupby('Fuel Type').sum()"
      ],
      "execution_count": 15,
      "outputs": [
        {
          "output_type": "stream",
          "text": [
            "Fuel Type\n",
            "0    11670\n",
            "1     3620\n",
            "dtype: int64\n"
          ],
          "name": "stdout"
        },
        {
          "output_type": "execute_result",
          "data": {
            "text/html": [
              "<div>\n",
              "<style scoped>\n",
              "    .dataframe tbody tr th:only-of-type {\n",
              "        vertical-align: middle;\n",
              "    }\n",
              "\n",
              "    .dataframe tbody tr th {\n",
              "        vertical-align: top;\n",
              "    }\n",
              "\n",
              "    .dataframe thead th {\n",
              "        text-align: right;\n",
              "    }\n",
              "</style>\n",
              "<table border=\"1\" class=\"dataframe\">\n",
              "  <thead>\n",
              "    <tr style=\"text-align: right;\">\n",
              "      <th></th>\n",
              "      <th>Losses</th>\n",
              "    </tr>\n",
              "    <tr>\n",
              "      <th>Fuel Type</th>\n",
              "      <th></th>\n",
              "    </tr>\n",
              "  </thead>\n",
              "  <tbody>\n",
              "    <tr>\n",
              "      <th>0</th>\n",
              "      <td>3354466</td>\n",
              "    </tr>\n",
              "    <tr>\n",
              "      <th>1</th>\n",
              "      <td>2606463</td>\n",
              "    </tr>\n",
              "  </tbody>\n",
              "</table>\n",
              "</div>"
            ],
            "text/plain": [
              "            Losses\n",
              "Fuel Type         \n",
              "0          3354466\n",
              "1          2606463"
            ]
          },
          "metadata": {
            "tags": []
          },
          "execution_count": 15
        }
      ]
    },
    {
      "metadata": {
        "id": "Z_booehNeywu",
        "colab_type": "code",
        "outputId": "2c6ce61f-c480-4234-c367-d0f9922dfd34",
        "colab": {
          "base_uri": "https://localhost:8080/",
          "height": 784
        }
      },
      "cell_type": "code",
      "source": [
        "df = df.replace('Married', 1).replace('Single', 0)\n",
        "corr = df.corr()\n",
        "            \n",
        "fig, ax = plt.subplots(figsize=(10, 10))\n",
        "ax.matshow(corr)\n",
        "plt.xticks(range(len(corr.columns)), corr.columns)\n",
        "plt.yticks(range(len(corr.columns)), corr.columns)\n",
        "corr.style.background_gradient(cmap='coolwarm').set_precision(2)"
      ],
      "execution_count": 16,
      "outputs": [
        {
          "output_type": "execute_result",
          "data": {
            "text/html": [
              "<style  type=\"text/css\" >\n",
              "    #T_281c058c_5fd5_11e9_9e1d_0242ac1c0002row0_col0 {\n",
              "            background-color:  #b40426;\n",
              "        }    #T_281c058c_5fd5_11e9_9e1d_0242ac1c0002row0_col1 {\n",
              "            background-color:  #a1c0ff;\n",
              "        }    #T_281c058c_5fd5_11e9_9e1d_0242ac1c0002row0_col2 {\n",
              "            background-color:  #a1c0ff;\n",
              "        }    #T_281c058c_5fd5_11e9_9e1d_0242ac1c0002row0_col3 {\n",
              "            background-color:  #4257c9;\n",
              "        }    #T_281c058c_5fd5_11e9_9e1d_0242ac1c0002row0_col4 {\n",
              "            background-color:  #3b4cc0;\n",
              "        }    #T_281c058c_5fd5_11e9_9e1d_0242ac1c0002row0_col5 {\n",
              "            background-color:  #80a3fa;\n",
              "        }    #T_281c058c_5fd5_11e9_9e1d_0242ac1c0002row0_col6 {\n",
              "            background-color:  #84a7fc;\n",
              "        }    #T_281c058c_5fd5_11e9_9e1d_0242ac1c0002row0_col7 {\n",
              "            background-color:  #8caffe;\n",
              "        }    #T_281c058c_5fd5_11e9_9e1d_0242ac1c0002row0_col8 {\n",
              "            background-color:  #a2c1ff;\n",
              "        }    #T_281c058c_5fd5_11e9_9e1d_0242ac1c0002row1_col0 {\n",
              "            background-color:  #3d50c3;\n",
              "        }    #T_281c058c_5fd5_11e9_9e1d_0242ac1c0002row1_col1 {\n",
              "            background-color:  #b40426;\n",
              "        }    #T_281c058c_5fd5_11e9_9e1d_0242ac1c0002row1_col2 {\n",
              "            background-color:  #b40426;\n",
              "        }    #T_281c058c_5fd5_11e9_9e1d_0242ac1c0002row1_col3 {\n",
              "            background-color:  #4055c8;\n",
              "        }    #T_281c058c_5fd5_11e9_9e1d_0242ac1c0002row1_col4 {\n",
              "            background-color:  #3e51c5;\n",
              "        }    #T_281c058c_5fd5_11e9_9e1d_0242ac1c0002row1_col5 {\n",
              "            background-color:  #7da0f9;\n",
              "        }    #T_281c058c_5fd5_11e9_9e1d_0242ac1c0002row1_col6 {\n",
              "            background-color:  #455cce;\n",
              "        }    #T_281c058c_5fd5_11e9_9e1d_0242ac1c0002row1_col7 {\n",
              "            background-color:  #3b4cc0;\n",
              "        }    #T_281c058c_5fd5_11e9_9e1d_0242ac1c0002row1_col8 {\n",
              "            background-color:  #3b4cc0;\n",
              "        }    #T_281c058c_5fd5_11e9_9e1d_0242ac1c0002row2_col0 {\n",
              "            background-color:  #3d50c3;\n",
              "        }    #T_281c058c_5fd5_11e9_9e1d_0242ac1c0002row2_col1 {\n",
              "            background-color:  #b40426;\n",
              "        }    #T_281c058c_5fd5_11e9_9e1d_0242ac1c0002row2_col2 {\n",
              "            background-color:  #b40426;\n",
              "        }    #T_281c058c_5fd5_11e9_9e1d_0242ac1c0002row2_col3 {\n",
              "            background-color:  #4055c8;\n",
              "        }    #T_281c058c_5fd5_11e9_9e1d_0242ac1c0002row2_col4 {\n",
              "            background-color:  #3f53c6;\n",
              "        }    #T_281c058c_5fd5_11e9_9e1d_0242ac1c0002row2_col5 {\n",
              "            background-color:  #7da0f9;\n",
              "        }    #T_281c058c_5fd5_11e9_9e1d_0242ac1c0002row2_col6 {\n",
              "            background-color:  #465ecf;\n",
              "        }    #T_281c058c_5fd5_11e9_9e1d_0242ac1c0002row2_col7 {\n",
              "            background-color:  #3b4cc0;\n",
              "        }    #T_281c058c_5fd5_11e9_9e1d_0242ac1c0002row2_col8 {\n",
              "            background-color:  #3b4cc0;\n",
              "        }    #T_281c058c_5fd5_11e9_9e1d_0242ac1c0002row3_col0 {\n",
              "            background-color:  #4055c8;\n",
              "        }    #T_281c058c_5fd5_11e9_9e1d_0242ac1c0002row3_col1 {\n",
              "            background-color:  #a3c2fe;\n",
              "        }    #T_281c058c_5fd5_11e9_9e1d_0242ac1c0002row3_col2 {\n",
              "            background-color:  #a2c1ff;\n",
              "        }    #T_281c058c_5fd5_11e9_9e1d_0242ac1c0002row3_col3 {\n",
              "            background-color:  #b40426;\n",
              "        }    #T_281c058c_5fd5_11e9_9e1d_0242ac1c0002row3_col4 {\n",
              "            background-color:  #3d50c3;\n",
              "        }    #T_281c058c_5fd5_11e9_9e1d_0242ac1c0002row3_col5 {\n",
              "            background-color:  #7b9ff9;\n",
              "        }    #T_281c058c_5fd5_11e9_9e1d_0242ac1c0002row3_col6 {\n",
              "            background-color:  #85a8fc;\n",
              "        }    #T_281c058c_5fd5_11e9_9e1d_0242ac1c0002row3_col7 {\n",
              "            background-color:  #8badfd;\n",
              "        }    #T_281c058c_5fd5_11e9_9e1d_0242ac1c0002row3_col8 {\n",
              "            background-color:  #9ebeff;\n",
              "        }    #T_281c058c_5fd5_11e9_9e1d_0242ac1c0002row4_col0 {\n",
              "            background-color:  #3b4cc0;\n",
              "        }    #T_281c058c_5fd5_11e9_9e1d_0242ac1c0002row4_col1 {\n",
              "            background-color:  #a2c1ff;\n",
              "        }    #T_281c058c_5fd5_11e9_9e1d_0242ac1c0002row4_col2 {\n",
              "            background-color:  #a2c1ff;\n",
              "        }    #T_281c058c_5fd5_11e9_9e1d_0242ac1c0002row4_col3 {\n",
              "            background-color:  #3d50c3;\n",
              "        }    #T_281c058c_5fd5_11e9_9e1d_0242ac1c0002row4_col4 {\n",
              "            background-color:  #b40426;\n",
              "        }    #T_281c058c_5fd5_11e9_9e1d_0242ac1c0002row4_col5 {\n",
              "            background-color:  #7da0f9;\n",
              "        }    #T_281c058c_5fd5_11e9_9e1d_0242ac1c0002row4_col6 {\n",
              "            background-color:  #82a6fb;\n",
              "        }    #T_281c058c_5fd5_11e9_9e1d_0242ac1c0002row4_col7 {\n",
              "            background-color:  #b7cff9;\n",
              "        }    #T_281c058c_5fd5_11e9_9e1d_0242ac1c0002row4_col8 {\n",
              "            background-color:  #cbd8ee;\n",
              "        }    #T_281c058c_5fd5_11e9_9e1d_0242ac1c0002row5_col0 {\n",
              "            background-color:  #3e51c5;\n",
              "        }    #T_281c058c_5fd5_11e9_9e1d_0242ac1c0002row5_col1 {\n",
              "            background-color:  #9fbfff;\n",
              "        }    #T_281c058c_5fd5_11e9_9e1d_0242ac1c0002row5_col2 {\n",
              "            background-color:  #9fbfff;\n",
              "        }    #T_281c058c_5fd5_11e9_9e1d_0242ac1c0002row5_col3 {\n",
              "            background-color:  #3b4cc0;\n",
              "        }    #T_281c058c_5fd5_11e9_9e1d_0242ac1c0002row5_col4 {\n",
              "            background-color:  #3b4cc0;\n",
              "        }    #T_281c058c_5fd5_11e9_9e1d_0242ac1c0002row5_col5 {\n",
              "            background-color:  #b40426;\n",
              "        }    #T_281c058c_5fd5_11e9_9e1d_0242ac1c0002row5_col6 {\n",
              "            background-color:  #81a4fb;\n",
              "        }    #T_281c058c_5fd5_11e9_9e1d_0242ac1c0002row5_col7 {\n",
              "            background-color:  #536edd;\n",
              "        }    #T_281c058c_5fd5_11e9_9e1d_0242ac1c0002row5_col8 {\n",
              "            background-color:  #6180e9;\n",
              "        }    #T_281c058c_5fd5_11e9_9e1d_0242ac1c0002row6_col0 {\n",
              "            background-color:  #3d50c3;\n",
              "        }    #T_281c058c_5fd5_11e9_9e1d_0242ac1c0002row6_col1 {\n",
              "            background-color:  #6687ed;\n",
              "        }    #T_281c058c_5fd5_11e9_9e1d_0242ac1c0002row6_col2 {\n",
              "            background-color:  #6788ee;\n",
              "        }    #T_281c058c_5fd5_11e9_9e1d_0242ac1c0002row6_col3 {\n",
              "            background-color:  #3f53c6;\n",
              "        }    #T_281c058c_5fd5_11e9_9e1d_0242ac1c0002row6_col4 {\n",
              "            background-color:  #3c4ec2;\n",
              "        }    #T_281c058c_5fd5_11e9_9e1d_0242ac1c0002row6_col5 {\n",
              "            background-color:  #7da0f9;\n",
              "        }    #T_281c058c_5fd5_11e9_9e1d_0242ac1c0002row6_col6 {\n",
              "            background-color:  #b40426;\n",
              "        }    #T_281c058c_5fd5_11e9_9e1d_0242ac1c0002row6_col7 {\n",
              "            background-color:  #4358cb;\n",
              "        }    #T_281c058c_5fd5_11e9_9e1d_0242ac1c0002row6_col8 {\n",
              "            background-color:  #5e7de7;\n",
              "        }    #T_281c058c_5fd5_11e9_9e1d_0242ac1c0002row7_col0 {\n",
              "            background-color:  #3d50c3;\n",
              "        }    #T_281c058c_5fd5_11e9_9e1d_0242ac1c0002row7_col1 {\n",
              "            background-color:  #536edd;\n",
              "        }    #T_281c058c_5fd5_11e9_9e1d_0242ac1c0002row7_col2 {\n",
              "            background-color:  #536edd;\n",
              "        }    #T_281c058c_5fd5_11e9_9e1d_0242ac1c0002row7_col3 {\n",
              "            background-color:  #3d50c3;\n",
              "        }    #T_281c058c_5fd5_11e9_9e1d_0242ac1c0002row7_col4 {\n",
              "            background-color:  #7295f4;\n",
              "        }    #T_281c058c_5fd5_11e9_9e1d_0242ac1c0002row7_col5 {\n",
              "            background-color:  #455cce;\n",
              "        }    #T_281c058c_5fd5_11e9_9e1d_0242ac1c0002row7_col6 {\n",
              "            background-color:  #3b4cc0;\n",
              "        }    #T_281c058c_5fd5_11e9_9e1d_0242ac1c0002row7_col7 {\n",
              "            background-color:  #b40426;\n",
              "        }    #T_281c058c_5fd5_11e9_9e1d_0242ac1c0002row7_col8 {\n",
              "            background-color:  #ec7f63;\n",
              "        }    #T_281c058c_5fd5_11e9_9e1d_0242ac1c0002row8_col0 {\n",
              "            background-color:  #3e51c5;\n",
              "        }    #T_281c058c_5fd5_11e9_9e1d_0242ac1c0002row8_col1 {\n",
              "            background-color:  #3b4cc0;\n",
              "        }    #T_281c058c_5fd5_11e9_9e1d_0242ac1c0002row8_col2 {\n",
              "            background-color:  #3b4cc0;\n",
              "        }    #T_281c058c_5fd5_11e9_9e1d_0242ac1c0002row8_col3 {\n",
              "            background-color:  #3b4cc0;\n",
              "        }    #T_281c058c_5fd5_11e9_9e1d_0242ac1c0002row8_col4 {\n",
              "            background-color:  #799cf8;\n",
              "        }    #T_281c058c_5fd5_11e9_9e1d_0242ac1c0002row8_col5 {\n",
              "            background-color:  #3b4cc0;\n",
              "        }    #T_281c058c_5fd5_11e9_9e1d_0242ac1c0002row8_col6 {\n",
              "            background-color:  #3d50c3;\n",
              "        }    #T_281c058c_5fd5_11e9_9e1d_0242ac1c0002row8_col7 {\n",
              "            background-color:  #ef886b;\n",
              "        }    #T_281c058c_5fd5_11e9_9e1d_0242ac1c0002row8_col8 {\n",
              "            background-color:  #b40426;\n",
              "        }</style>  \n",
              "<table id=\"T_281c058c_5fd5_11e9_9e1d_0242ac1c0002\" > \n",
              "<thead>    <tr> \n",
              "        <th class=\"blank level0\" ></th> \n",
              "        <th class=\"col_heading level0 col0\" >policy_number</th> \n",
              "        <th class=\"col_heading level0 col1\" >Age</th> \n",
              "        <th class=\"col_heading level0 col2\" >Years of Driving Experience</th> \n",
              "        <th class=\"col_heading level0 col3\" >Number of Vehicles</th> \n",
              "        <th class=\"col_heading level0 col4\" >Gender</th> \n",
              "        <th class=\"col_heading level0 col5\" >Married</th> \n",
              "        <th class=\"col_heading level0 col6\" >Vehicle Age</th> \n",
              "        <th class=\"col_heading level0 col7\" >Fuel Type</th> \n",
              "        <th class=\"col_heading level0 col8\" >Losses</th> \n",
              "    </tr></thead> \n",
              "<tbody>    <tr> \n",
              "        <th id=\"T_281c058c_5fd5_11e9_9e1d_0242ac1c0002level0_row0\" class=\"row_heading level0 row0\" >policy_number</th> \n",
              "        <td id=\"T_281c058c_5fd5_11e9_9e1d_0242ac1c0002row0_col0\" class=\"data row0 col0\" >1</td> \n",
              "        <td id=\"T_281c058c_5fd5_11e9_9e1d_0242ac1c0002row0_col1\" class=\"data row0 col1\" >0.00066</td> \n",
              "        <td id=\"T_281c058c_5fd5_11e9_9e1d_0242ac1c0002row0_col2\" class=\"data row0 col2\" >0.0013</td> \n",
              "        <td id=\"T_281c058c_5fd5_11e9_9e1d_0242ac1c0002row0_col3\" class=\"data row0 col3\" >0.013</td> \n",
              "        <td id=\"T_281c058c_5fd5_11e9_9e1d_0242ac1c0002row0_col4\" class=\"data row0 col4\" >-0.0092</td> \n",
              "        <td id=\"T_281c058c_5fd5_11e9_9e1d_0242ac1c0002row0_col5\" class=\"data row0 col5\" >0.0051</td> \n",
              "        <td id=\"T_281c058c_5fd5_11e9_9e1d_0242ac1c0002row0_col6\" class=\"data row0 col6\" >-0.0013</td> \n",
              "        <td id=\"T_281c058c_5fd5_11e9_9e1d_0242ac1c0002row0_col7\" class=\"data row0 col7\" >0.0024</td> \n",
              "        <td id=\"T_281c058c_5fd5_11e9_9e1d_0242ac1c0002row0_col8\" class=\"data row0 col8\" >0.0046</td> \n",
              "    </tr>    <tr> \n",
              "        <th id=\"T_281c058c_5fd5_11e9_9e1d_0242ac1c0002level0_row1\" class=\"row_heading level0 row1\" >Age</th> \n",
              "        <td id=\"T_281c058c_5fd5_11e9_9e1d_0242ac1c0002row1_col0\" class=\"data row1 col0\" >0.00066</td> \n",
              "        <td id=\"T_281c058c_5fd5_11e9_9e1d_0242ac1c0002row1_col1\" class=\"data row1 col1\" >1</td> \n",
              "        <td id=\"T_281c058c_5fd5_11e9_9e1d_0242ac1c0002row1_col2\" class=\"data row1 col2\" >1</td> \n",
              "        <td id=\"T_281c058c_5fd5_11e9_9e1d_0242ac1c0002row1_col3\" class=\"data row1 col3\" >0.0084</td> \n",
              "        <td id=\"T_281c058c_5fd5_11e9_9e1d_0242ac1c0002row1_col4\" class=\"data row1 col4\" >0.0054</td> \n",
              "        <td id=\"T_281c058c_5fd5_11e9_9e1d_0242ac1c0002row1_col5\" class=\"data row1 col5\" >-0.0043</td> \n",
              "        <td id=\"T_281c058c_5fd5_11e9_9e1d_0242ac1c0002row1_col6\" class=\"data row1 col6\" >-0.24</td> \n",
              "        <td id=\"T_281c058c_5fd5_11e9_9e1d_0242ac1c0002row1_col7\" class=\"data row1 col7\" >-0.33</td> \n",
              "        <td id=\"T_281c058c_5fd5_11e9_9e1d_0242ac1c0002row1_col8\" class=\"data row1 col8\" >-0.44</td> \n",
              "    </tr>    <tr> \n",
              "        <th id=\"T_281c058c_5fd5_11e9_9e1d_0242ac1c0002level0_row2\" class=\"row_heading level0 row2\" >Years of Driving Experience</th> \n",
              "        <td id=\"T_281c058c_5fd5_11e9_9e1d_0242ac1c0002row2_col0\" class=\"data row2 col0\" >0.0013</td> \n",
              "        <td id=\"T_281c058c_5fd5_11e9_9e1d_0242ac1c0002row2_col1\" class=\"data row2 col1\" >1</td> \n",
              "        <td id=\"T_281c058c_5fd5_11e9_9e1d_0242ac1c0002row2_col2\" class=\"data row2 col2\" >1</td> \n",
              "        <td id=\"T_281c058c_5fd5_11e9_9e1d_0242ac1c0002row2_col3\" class=\"data row2 col3\" >0.0085</td> \n",
              "        <td id=\"T_281c058c_5fd5_11e9_9e1d_0242ac1c0002row2_col4\" class=\"data row2 col4\" >0.0074</td> \n",
              "        <td id=\"T_281c058c_5fd5_11e9_9e1d_0242ac1c0002row2_col5\" class=\"data row2 col5\" >-0.005</td> \n",
              "        <td id=\"T_281c058c_5fd5_11e9_9e1d_0242ac1c0002row2_col6\" class=\"data row2 col6\" >-0.24</td> \n",
              "        <td id=\"T_281c058c_5fd5_11e9_9e1d_0242ac1c0002row2_col7\" class=\"data row2 col7\" >-0.33</td> \n",
              "        <td id=\"T_281c058c_5fd5_11e9_9e1d_0242ac1c0002row2_col8\" class=\"data row2 col8\" >-0.44</td> \n",
              "    </tr>    <tr> \n",
              "        <th id=\"T_281c058c_5fd5_11e9_9e1d_0242ac1c0002level0_row3\" class=\"row_heading level0 row3\" >Number of Vehicles</th> \n",
              "        <td id=\"T_281c058c_5fd5_11e9_9e1d_0242ac1c0002row3_col0\" class=\"data row3 col0\" >0.013</td> \n",
              "        <td id=\"T_281c058c_5fd5_11e9_9e1d_0242ac1c0002row3_col1\" class=\"data row3 col1\" >0.0084</td> \n",
              "        <td id=\"T_281c058c_5fd5_11e9_9e1d_0242ac1c0002row3_col2\" class=\"data row3 col2\" >0.0085</td> \n",
              "        <td id=\"T_281c058c_5fd5_11e9_9e1d_0242ac1c0002row3_col3\" class=\"data row3 col3\" >1</td> \n",
              "        <td id=\"T_281c058c_5fd5_11e9_9e1d_0242ac1c0002row3_col4\" class=\"data row3 col4\" >-0.0012</td> \n",
              "        <td id=\"T_281c058c_5fd5_11e9_9e1d_0242ac1c0002row3_col5\" class=\"data row3 col5\" >-0.0095</td> \n",
              "        <td id=\"T_281c058c_5fd5_11e9_9e1d_0242ac1c0002row3_col6\" class=\"data row3 col6\" >0.0059</td> \n",
              "        <td id=\"T_281c058c_5fd5_11e9_9e1d_0242ac1c0002row3_col7\" class=\"data row3 col7\" >-0.0034</td> \n",
              "        <td id=\"T_281c058c_5fd5_11e9_9e1d_0242ac1c0002row3_col8\" class=\"data row3 col8\" >-0.012</td> \n",
              "    </tr>    <tr> \n",
              "        <th id=\"T_281c058c_5fd5_11e9_9e1d_0242ac1c0002level0_row4\" class=\"row_heading level0 row4\" >Gender</th> \n",
              "        <td id=\"T_281c058c_5fd5_11e9_9e1d_0242ac1c0002row4_col0\" class=\"data row4 col0\" >-0.0092</td> \n",
              "        <td id=\"T_281c058c_5fd5_11e9_9e1d_0242ac1c0002row4_col1\" class=\"data row4 col1\" >0.0054</td> \n",
              "        <td id=\"T_281c058c_5fd5_11e9_9e1d_0242ac1c0002row4_col2\" class=\"data row4 col2\" >0.0074</td> \n",
              "        <td id=\"T_281c058c_5fd5_11e9_9e1d_0242ac1c0002row4_col3\" class=\"data row4 col3\" >-0.0012</td> \n",
              "        <td id=\"T_281c058c_5fd5_11e9_9e1d_0242ac1c0002row4_col4\" class=\"data row4 col4\" >1</td> \n",
              "        <td id=\"T_281c058c_5fd5_11e9_9e1d_0242ac1c0002row4_col5\" class=\"data row4 col5\" >-0.008</td> \n",
              "        <td id=\"T_281c058c_5fd5_11e9_9e1d_0242ac1c0002row4_col6\" class=\"data row4 col6\" >-0.0035</td> \n",
              "        <td id=\"T_281c058c_5fd5_11e9_9e1d_0242ac1c0002row4_col7\" class=\"data row4 col7\" >0.17</td> \n",
              "        <td id=\"T_281c058c_5fd5_11e9_9e1d_0242ac1c0002row4_col8\" class=\"data row4 col8\" >0.18</td> \n",
              "    </tr>    <tr> \n",
              "        <th id=\"T_281c058c_5fd5_11e9_9e1d_0242ac1c0002level0_row5\" class=\"row_heading level0 row5\" >Married</th> \n",
              "        <td id=\"T_281c058c_5fd5_11e9_9e1d_0242ac1c0002row5_col0\" class=\"data row5 col0\" >0.0051</td> \n",
              "        <td id=\"T_281c058c_5fd5_11e9_9e1d_0242ac1c0002row5_col1\" class=\"data row5 col1\" >-0.0043</td> \n",
              "        <td id=\"T_281c058c_5fd5_11e9_9e1d_0242ac1c0002row5_col2\" class=\"data row5 col2\" >-0.005</td> \n",
              "        <td id=\"T_281c058c_5fd5_11e9_9e1d_0242ac1c0002row5_col3\" class=\"data row5 col3\" >-0.0095</td> \n",
              "        <td id=\"T_281c058c_5fd5_11e9_9e1d_0242ac1c0002row5_col4\" class=\"data row5 col4\" >-0.008</td> \n",
              "        <td id=\"T_281c058c_5fd5_11e9_9e1d_0242ac1c0002row5_col5\" class=\"data row5 col5\" >1</td> \n",
              "        <td id=\"T_281c058c_5fd5_11e9_9e1d_0242ac1c0002row5_col6\" class=\"data row5 col6\" >-0.0083</td> \n",
              "        <td id=\"T_281c058c_5fd5_11e9_9e1d_0242ac1c0002row5_col7\" class=\"data row5 col7\" >-0.22</td> \n",
              "        <td id=\"T_281c058c_5fd5_11e9_9e1d_0242ac1c0002row5_col8\" class=\"data row5 col8\" >-0.27</td> \n",
              "    </tr>    <tr> \n",
              "        <th id=\"T_281c058c_5fd5_11e9_9e1d_0242ac1c0002level0_row6\" class=\"row_heading level0 row6\" >Vehicle Age</th> \n",
              "        <td id=\"T_281c058c_5fd5_11e9_9e1d_0242ac1c0002row6_col0\" class=\"data row6 col0\" >-0.0013</td> \n",
              "        <td id=\"T_281c058c_5fd5_11e9_9e1d_0242ac1c0002row6_col1\" class=\"data row6 col1\" >-0.24</td> \n",
              "        <td id=\"T_281c058c_5fd5_11e9_9e1d_0242ac1c0002row6_col2\" class=\"data row6 col2\" >-0.24</td> \n",
              "        <td id=\"T_281c058c_5fd5_11e9_9e1d_0242ac1c0002row6_col3\" class=\"data row6 col3\" >0.0059</td> \n",
              "        <td id=\"T_281c058c_5fd5_11e9_9e1d_0242ac1c0002row6_col4\" class=\"data row6 col4\" >-0.0035</td> \n",
              "        <td id=\"T_281c058c_5fd5_11e9_9e1d_0242ac1c0002row6_col5\" class=\"data row6 col5\" >-0.0083</td> \n",
              "        <td id=\"T_281c058c_5fd5_11e9_9e1d_0242ac1c0002row6_col6\" class=\"data row6 col6\" >1</td> \n",
              "        <td id=\"T_281c058c_5fd5_11e9_9e1d_0242ac1c0002row6_col7\" class=\"data row6 col7\" >-0.29</td> \n",
              "        <td id=\"T_281c058c_5fd5_11e9_9e1d_0242ac1c0002row6_col8\" class=\"data row6 col8\" >-0.27</td> \n",
              "    </tr>    <tr> \n",
              "        <th id=\"T_281c058c_5fd5_11e9_9e1d_0242ac1c0002level0_row7\" class=\"row_heading level0 row7\" >Fuel Type</th> \n",
              "        <td id=\"T_281c058c_5fd5_11e9_9e1d_0242ac1c0002row7_col0\" class=\"data row7 col0\" >0.0024</td> \n",
              "        <td id=\"T_281c058c_5fd5_11e9_9e1d_0242ac1c0002row7_col1\" class=\"data row7 col1\" >-0.33</td> \n",
              "        <td id=\"T_281c058c_5fd5_11e9_9e1d_0242ac1c0002row7_col2\" class=\"data row7 col2\" >-0.33</td> \n",
              "        <td id=\"T_281c058c_5fd5_11e9_9e1d_0242ac1c0002row7_col3\" class=\"data row7 col3\" >-0.0034</td> \n",
              "        <td id=\"T_281c058c_5fd5_11e9_9e1d_0242ac1c0002row7_col4\" class=\"data row7 col4\" >0.17</td> \n",
              "        <td id=\"T_281c058c_5fd5_11e9_9e1d_0242ac1c0002row7_col5\" class=\"data row7 col5\" >-0.22</td> \n",
              "        <td id=\"T_281c058c_5fd5_11e9_9e1d_0242ac1c0002row7_col6\" class=\"data row7 col6\" >-0.29</td> \n",
              "        <td id=\"T_281c058c_5fd5_11e9_9e1d_0242ac1c0002row7_col7\" class=\"data row7 col7\" >1</td> \n",
              "        <td id=\"T_281c058c_5fd5_11e9_9e1d_0242ac1c0002row7_col8\" class=\"data row7 col8\" >0.72</td> \n",
              "    </tr>    <tr> \n",
              "        <th id=\"T_281c058c_5fd5_11e9_9e1d_0242ac1c0002level0_row8\" class=\"row_heading level0 row8\" >Losses</th> \n",
              "        <td id=\"T_281c058c_5fd5_11e9_9e1d_0242ac1c0002row8_col0\" class=\"data row8 col0\" >0.0046</td> \n",
              "        <td id=\"T_281c058c_5fd5_11e9_9e1d_0242ac1c0002row8_col1\" class=\"data row8 col1\" >-0.44</td> \n",
              "        <td id=\"T_281c058c_5fd5_11e9_9e1d_0242ac1c0002row8_col2\" class=\"data row8 col2\" >-0.44</td> \n",
              "        <td id=\"T_281c058c_5fd5_11e9_9e1d_0242ac1c0002row8_col3\" class=\"data row8 col3\" >-0.012</td> \n",
              "        <td id=\"T_281c058c_5fd5_11e9_9e1d_0242ac1c0002row8_col4\" class=\"data row8 col4\" >0.18</td> \n",
              "        <td id=\"T_281c058c_5fd5_11e9_9e1d_0242ac1c0002row8_col5\" class=\"data row8 col5\" >-0.27</td> \n",
              "        <td id=\"T_281c058c_5fd5_11e9_9e1d_0242ac1c0002row8_col6\" class=\"data row8 col6\" >-0.27</td> \n",
              "        <td id=\"T_281c058c_5fd5_11e9_9e1d_0242ac1c0002row8_col7\" class=\"data row8 col7\" >0.72</td> \n",
              "        <td id=\"T_281c058c_5fd5_11e9_9e1d_0242ac1c0002row8_col8\" class=\"data row8 col8\" >1</td> \n",
              "    </tr></tbody> \n",
              "</table> "
            ],
            "text/plain": [
              "<pandas.io.formats.style.Styler at 0x7f949d2f8c50>"
            ]
          },
          "metadata": {
            "tags": []
          },
          "execution_count": 16
        },
        {
          "output_type": "display_data",
          "data": {
            "image/png": "[encoded data removed]",
            "text/plain": [
              "<Figure size 720x720 with 1 Axes>"
            ]
          },
          "metadata": {
            "tags": []
          }
        }
      ]
    },
    {
      "metadata": {
        "id": "85behNW_cv1P",
        "colab_type": "code",
        "colab": {}
      },
      "cell_type": "code",
      "source": [
        ""
      ],
      "execution_count": 0,
      "outputs": []
    },
    {
      "metadata": {
        "id": "yLp04j_8tT4U",
        "colab_type": "code",
        "outputId": "97eb29fd-1667-4c4a-ba47-db23d883e069",
        "colab": {
          "base_uri": "https://localhost:8080/",
          "height": 286
        }
      },
      "cell_type": "code",
      "source": [
        "# plt.scatter(df['Years of Driving Experience'], df['Losses'])\n",
        "# plt.scatter(df['Age'], df['Losses'])\n",
        "plt.scatter(df['Fuel Type'], df['Losses'])\n"
      ],
      "execution_count": 17,
      "outputs": [
        {
          "output_type": "execute_result",
          "data": {
            "text/plain": [
              "<matplotlib.collections.PathCollection at 0x7f949cc460b8>"
            ]
          },
          "metadata": {
            "tags": []
          },
          "execution_count": 17
        },
        {
          "output_type": "display_data",
          "data": {
            "image/png": "[encoded data removed]",
            "text/plain": [
              "<Figure size 432x288 with 1 Axes>"
            ]
          },
          "metadata": {
            "tags": []
          }
        }
      ]
    },
    {
      "metadata": {
        "id": "ctQ_h__rcQ5O",
        "colab_type": "code",
        "outputId": "2ebdb7ec-32ed-4959-8ea2-7ea76288a026",
        "colab": {
          "base_uri": "https://localhost:8080/",
          "height": 34
        }
      },
      "cell_type": "code",
      "source": [
        "df.duplicated(['policy_number']).loc[df['policy_number'] == True]\n"
      ],
      "execution_count": 18,
      "outputs": [
        {
          "output_type": "execute_result",
          "data": {
            "text/plain": [
              "Series([], dtype: bool)"
            ]
          },
          "metadata": {
            "tags": []
          },
          "execution_count": 18
        }
      ]
    },
    {
      "metadata": {
        "id": "xjN8WHTCcZs-",
        "colab_type": "code",
        "colab": {
          "base_uri": "https://localhost:8080/",
          "height": 34
        },
        "outputId": "c6452963-edaf-4413-8e97-5c4ed8348053"
      },
      "cell_type": "code",
      "source": [
        "df['policy_number'].duplicated().count()"
      ],
      "execution_count": 19,
      "outputs": [
        {
          "output_type": "execute_result",
          "data": {
            "text/plain": [
              "15290"
            ]
          },
          "metadata": {
            "tags": []
          },
          "execution_count": 19
        }
      ]
    },
    {
      "metadata": {
        "id": "A1MgmHlmpWIR",
        "colab_type": "code",
        "colab": {
          "base_uri": "https://localhost:8080/",
          "height": 34
        },
        "outputId": "12bca4f2-3e72-4dae-8ccd-0348b606763e"
      },
      "cell_type": "code",
      "source": [
        "x = df.groupby(['policy_number']).size()\n",
        "len(x)"
      ],
      "execution_count": 20,
      "outputs": [
        {
          "output_type": "execute_result",
          "data": {
            "text/plain": [
              "14138"
            ]
          },
          "metadata": {
            "tags": []
          },
          "execution_count": 20
        }
      ]
    },
    {
      "metadata": {
        "id": "_NtquzY-vy3U",
        "colab_type": "code",
        "colab": {
          "base_uri": "https://localhost:8080/",
          "height": 34
        },
        "outputId": "9b106746-d590-45a0-92dc-f7e3df3b8001"
      },
      "cell_type": "code",
      "source": [
        "crashed_df = df[df.duplicated(subset=['policy_number'])]\n",
        "unique_pn_array = crashed_df.policy_number.unique()\n",
        "unique_pn_array"
      ],
      "execution_count": 21,
      "outputs": [
        {
          "output_type": "execute_result",
          "data": {
            "text/plain": [
              "array([168484, 146750, 165557, ..., 131780, 147889, 175986])"
            ]
          },
          "metadata": {
            "tags": []
          },
          "execution_count": 21
        }
      ]
    },
    {
      "metadata": {
        "id": "y2sEBVW72ddZ",
        "colab_type": "text"
      },
      "cell_type": "markdown",
      "source": [
        ""
      ]
    },
    {
      "metadata": {
        "id": "0b6ChEGcqI0V",
        "colab_type": "code",
        "colab": {
          "base_uri": "https://localhost:8080/",
          "height": 1109
        },
        "outputId": "5b5591b5-d1cf-44f8-e9fc-b6e99cb4d5ec"
      },
      "cell_type": "code",
      "source": [
        "df.groupby('policy_number').size()"
      ],
      "execution_count": 22,
      "outputs": [
        {
          "output_type": "execute_result",
          "data": {
            "text/plain": [
              "policy_number\n",
              "100002    1\n",
              "100015    1\n",
              "100018    1\n",
              "100019    1\n",
              "100029    1\n",
              "100032    1\n",
              "100066    1\n",
              "100067    1\n",
              "100073    1\n",
              "100079    1\n",
              "100081    1\n",
              "100087    1\n",
              "100094    1\n",
              "100110    1\n",
              "100120    1\n",
              "100122    1\n",
              "100128    1\n",
              "100137    1\n",
              "100144    1\n",
              "100151    1\n",
              "100163    1\n",
              "100164    2\n",
              "100165    2\n",
              "100171    1\n",
              "100174    1\n",
              "100175    1\n",
              "100178    1\n",
              "100180    1\n",
              "100210    1\n",
              "100217    1\n",
              "         ..\n",
              "199800    1\n",
              "199813    1\n",
              "199819    2\n",
              "199822    1\n",
              "199826    1\n",
              "199841    1\n",
              "199850    1\n",
              "199853    1\n",
              "199860    1\n",
              "199869    1\n",
              "199870    1\n",
              "199871    1\n",
              "199878    2\n",
              "199879    1\n",
              "199880    2\n",
              "199881    1\n",
              "199887    1\n",
              "199893    1\n",
              "199904    2\n",
              "199906    1\n",
              "199907    1\n",
              "199913    1\n",
              "199916    1\n",
              "199927    1\n",
              "199940    1\n",
              "199969    1\n",
              "199975    1\n",
              "199990    1\n",
              "199991    2\n",
              "200000    1\n",
              "Length: 14138, dtype: int64"
            ]
          },
          "metadata": {
            "tags": []
          },
          "execution_count": 22
        }
      ]
    },
    {
      "metadata": {
        "id": "NO3_k3I-3QjE",
        "colab_type": "code",
        "colab": {
          "base_uri": "https://localhost:8080/",
          "height": 104
        },
        "outputId": "ed276049-df79-4340-89ab-65f1fac4f7c8"
      },
      "cell_type": "code",
      "source": [
        "df[df.policy_number.isin(unique_pn_array)].sort_values('policy_number').groupby('policy_number').size().to_frame('size').sort_values('size').groupby('size').size()"
      ],
      "execution_count": 23,
      "outputs": [
        {
          "output_type": "execute_result",
          "data": {
            "text/plain": [
              "size\n",
              "2    1034\n",
              "3      56\n",
              "4       2\n",
              "dtype: int64"
            ]
          },
          "metadata": {
            "tags": []
          },
          "execution_count": 23
        }
      ]
    },
    {
      "metadata": {
        "id": "-H3SOPr7kA8h",
        "colab_type": "code",
        "colab": {}
      },
      "cell_type": "code",
      "source": [
        "\n"
      ],
      "execution_count": 0,
      "outputs": []
    },
    {
      "metadata": {
        "id": "oBKQH8x7z4jK",
        "colab_type": "code",
        "colab": {
          "base_uri": "https://localhost:8080/",
          "height": 784
        },
        "outputId": "34cc68cb-64d9-4ecf-97d2-33a923b94f3b"
      },
      "cell_type": "code",
      "source": [
        "cr = df[df.policy_number.isin(unique_pn_array)]\n",
        "\n",
        "corr = cr.corr()\n",
        "            \n",
        "fig, ax = plt.subplots(figsize=(10, 10))\n",
        "ax.matshow(corr)\n",
        "plt.xticks(range(len(corr.columns)), corr.columns)\n",
        "plt.yticks(range(len(corr.columns)), corr.columns)\n",
        "corr.style.background_gradient(cmap='coolwarm').set_precision(2)"
      ],
      "execution_count": 24,
      "outputs": [
        {
          "output_type": "execute_result",
          "data": {
            "text/html": [
              "<style  type=\"text/css\" >\n",
              "    #T_28bec808_5fd5_11e9_9e1d_0242ac1c0002row0_col0 {\n",
              "            background-color:  #b40426;\n",
              "        }    #T_28bec808_5fd5_11e9_9e1d_0242ac1c0002row0_col1 {\n",
              "            background-color:  #96b7ff;\n",
              "        }    #T_28bec808_5fd5_11e9_9e1d_0242ac1c0002row0_col2 {\n",
              "            background-color:  #96b7ff;\n",
              "        }    #T_28bec808_5fd5_11e9_9e1d_0242ac1c0002row0_col3 {\n",
              "            background-color:  #3e51c5;\n",
              "        }    #T_28bec808_5fd5_11e9_9e1d_0242ac1c0002row0_col4 {\n",
              "            background-color:  #445acc;\n",
              "        }    #T_28bec808_5fd5_11e9_9e1d_0242ac1c0002row0_col5 {\n",
              "            background-color:  #7da0f9;\n",
              "        }    #T_28bec808_5fd5_11e9_9e1d_0242ac1c0002row0_col6 {\n",
              "            background-color:  #8caffe;\n",
              "        }    #T_28bec808_5fd5_11e9_9e1d_0242ac1c0002row0_col7 {\n",
              "            background-color:  #86a9fc;\n",
              "        }    #T_28bec808_5fd5_11e9_9e1d_0242ac1c0002row0_col8 {\n",
              "            background-color:  #98b9ff;\n",
              "        }    #T_28bec808_5fd5_11e9_9e1d_0242ac1c0002row1_col0 {\n",
              "            background-color:  #3b4cc0;\n",
              "        }    #T_28bec808_5fd5_11e9_9e1d_0242ac1c0002row1_col1 {\n",
              "            background-color:  #b40426;\n",
              "        }    #T_28bec808_5fd5_11e9_9e1d_0242ac1c0002row1_col2 {\n",
              "            background-color:  #b40426;\n",
              "        }    #T_28bec808_5fd5_11e9_9e1d_0242ac1c0002row1_col3 {\n",
              "            background-color:  #3e51c5;\n",
              "        }    #T_28bec808_5fd5_11e9_9e1d_0242ac1c0002row1_col4 {\n",
              "            background-color:  #4055c8;\n",
              "        }    #T_28bec808_5fd5_11e9_9e1d_0242ac1c0002row1_col5 {\n",
              "            background-color:  #7ea1fa;\n",
              "        }    #T_28bec808_5fd5_11e9_9e1d_0242ac1c0002row1_col6 {\n",
              "            background-color:  #4257c9;\n",
              "        }    #T_28bec808_5fd5_11e9_9e1d_0242ac1c0002row1_col7 {\n",
              "            background-color:  #3c4ec2;\n",
              "        }    #T_28bec808_5fd5_11e9_9e1d_0242ac1c0002row1_col8 {\n",
              "            background-color:  #3b4cc0;\n",
              "        }    #T_28bec808_5fd5_11e9_9e1d_0242ac1c0002row2_col0 {\n",
              "            background-color:  #3b4cc0;\n",
              "        }    #T_28bec808_5fd5_11e9_9e1d_0242ac1c0002row2_col1 {\n",
              "            background-color:  #b40426;\n",
              "        }    #T_28bec808_5fd5_11e9_9e1d_0242ac1c0002row2_col2 {\n",
              "            background-color:  #b40426;\n",
              "        }    #T_28bec808_5fd5_11e9_9e1d_0242ac1c0002row2_col3 {\n",
              "            background-color:  #3e51c5;\n",
              "        }    #T_28bec808_5fd5_11e9_9e1d_0242ac1c0002row2_col4 {\n",
              "            background-color:  #4055c8;\n",
              "        }    #T_28bec808_5fd5_11e9_9e1d_0242ac1c0002row2_col5 {\n",
              "            background-color:  #7ea1fa;\n",
              "        }    #T_28bec808_5fd5_11e9_9e1d_0242ac1c0002row2_col6 {\n",
              "            background-color:  #445acc;\n",
              "        }    #T_28bec808_5fd5_11e9_9e1d_0242ac1c0002row2_col7 {\n",
              "            background-color:  #3c4ec2;\n",
              "        }    #T_28bec808_5fd5_11e9_9e1d_0242ac1c0002row2_col8 {\n",
              "            background-color:  #3b4cc0;\n",
              "        }    #T_28bec808_5fd5_11e9_9e1d_0242ac1c0002row3_col0 {\n",
              "            background-color:  #3f53c6;\n",
              "        }    #T_28bec808_5fd5_11e9_9e1d_0242ac1c0002row3_col1 {\n",
              "            background-color:  #9abbff;\n",
              "        }    #T_28bec808_5fd5_11e9_9e1d_0242ac1c0002row3_col2 {\n",
              "            background-color:  #9abbff;\n",
              "        }    #T_28bec808_5fd5_11e9_9e1d_0242ac1c0002row3_col3 {\n",
              "            background-color:  #b40426;\n",
              "        }    #T_28bec808_5fd5_11e9_9e1d_0242ac1c0002row3_col4 {\n",
              "            background-color:  #4257c9;\n",
              "        }    #T_28bec808_5fd5_11e9_9e1d_0242ac1c0002row3_col5 {\n",
              "            background-color:  #7da0f9;\n",
              "        }    #T_28bec808_5fd5_11e9_9e1d_0242ac1c0002row3_col6 {\n",
              "            background-color:  #89acfd;\n",
              "        }    #T_28bec808_5fd5_11e9_9e1d_0242ac1c0002row3_col7 {\n",
              "            background-color:  #86a9fc;\n",
              "        }    #T_28bec808_5fd5_11e9_9e1d_0242ac1c0002row3_col8 {\n",
              "            background-color:  #96b7ff;\n",
              "        }    #T_28bec808_5fd5_11e9_9e1d_0242ac1c0002row4_col0 {\n",
              "            background-color:  #3f53c6;\n",
              "        }    #T_28bec808_5fd5_11e9_9e1d_0242ac1c0002row4_col1 {\n",
              "            background-color:  #96b7ff;\n",
              "        }    #T_28bec808_5fd5_11e9_9e1d_0242ac1c0002row4_col2 {\n",
              "            background-color:  #96b7ff;\n",
              "        }    #T_28bec808_5fd5_11e9_9e1d_0242ac1c0002row4_col3 {\n",
              "            background-color:  #3c4ec2;\n",
              "        }    #T_28bec808_5fd5_11e9_9e1d_0242ac1c0002row4_col4 {\n",
              "            background-color:  #b40426;\n",
              "        }    #T_28bec808_5fd5_11e9_9e1d_0242ac1c0002row4_col5 {\n",
              "            background-color:  #7699f6;\n",
              "        }    #T_28bec808_5fd5_11e9_9e1d_0242ac1c0002row4_col6 {\n",
              "            background-color:  #8badfd;\n",
              "        }    #T_28bec808_5fd5_11e9_9e1d_0242ac1c0002row4_col7 {\n",
              "            background-color:  #aec9fc;\n",
              "        }    #T_28bec808_5fd5_11e9_9e1d_0242ac1c0002row4_col8 {\n",
              "            background-color:  #c6d6f1;\n",
              "        }    #T_28bec808_5fd5_11e9_9e1d_0242ac1c0002row5_col0 {\n",
              "            background-color:  #3c4ec2;\n",
              "        }    #T_28bec808_5fd5_11e9_9e1d_0242ac1c0002row5_col1 {\n",
              "            background-color:  #98b9ff;\n",
              "        }    #T_28bec808_5fd5_11e9_9e1d_0242ac1c0002row5_col2 {\n",
              "            background-color:  #98b9ff;\n",
              "        }    #T_28bec808_5fd5_11e9_9e1d_0242ac1c0002row5_col3 {\n",
              "            background-color:  #3c4ec2;\n",
              "        }    #T_28bec808_5fd5_11e9_9e1d_0242ac1c0002row5_col4 {\n",
              "            background-color:  #3b4cc0;\n",
              "        }    #T_28bec808_5fd5_11e9_9e1d_0242ac1c0002row5_col5 {\n",
              "            background-color:  #b40426;\n",
              "        }    #T_28bec808_5fd5_11e9_9e1d_0242ac1c0002row5_col6 {\n",
              "            background-color:  #86a9fc;\n",
              "        }    #T_28bec808_5fd5_11e9_9e1d_0242ac1c0002row5_col7 {\n",
              "            background-color:  #4f69d9;\n",
              "        }    #T_28bec808_5fd5_11e9_9e1d_0242ac1c0002row5_col8 {\n",
              "            background-color:  #5673e0;\n",
              "        }    #T_28bec808_5fd5_11e9_9e1d_0242ac1c0002row6_col0 {\n",
              "            background-color:  #465ecf;\n",
              "        }    #T_28bec808_5fd5_11e9_9e1d_0242ac1c0002row6_col1 {\n",
              "            background-color:  #5875e1;\n",
              "        }    #T_28bec808_5fd5_11e9_9e1d_0242ac1c0002row6_col2 {\n",
              "            background-color:  #5a78e4;\n",
              "        }    #T_28bec808_5fd5_11e9_9e1d_0242ac1c0002row6_col3 {\n",
              "            background-color:  #4055c8;\n",
              "        }    #T_28bec808_5fd5_11e9_9e1d_0242ac1c0002row6_col4 {\n",
              "            background-color:  #4961d2;\n",
              "        }    #T_28bec808_5fd5_11e9_9e1d_0242ac1c0002row6_col5 {\n",
              "            background-color:  #81a4fb;\n",
              "        }    #T_28bec808_5fd5_11e9_9e1d_0242ac1c0002row6_col6 {\n",
              "            background-color:  #b40426;\n",
              "        }    #T_28bec808_5fd5_11e9_9e1d_0242ac1c0002row6_col7 {\n",
              "            background-color:  #3b4cc0;\n",
              "        }    #T_28bec808_5fd5_11e9_9e1d_0242ac1c0002row6_col8 {\n",
              "            background-color:  #5977e3;\n",
              "        }    #T_28bec808_5fd5_11e9_9e1d_0242ac1c0002row7_col0 {\n",
              "            background-color:  #3f53c6;\n",
              "        }    #T_28bec808_5fd5_11e9_9e1d_0242ac1c0002row7_col1 {\n",
              "            background-color:  #516ddb;\n",
              "        }    #T_28bec808_5fd5_11e9_9e1d_0242ac1c0002row7_col2 {\n",
              "            background-color:  #516ddb;\n",
              "        }    #T_28bec808_5fd5_11e9_9e1d_0242ac1c0002row7_col3 {\n",
              "            background-color:  #3f53c6;\n",
              "        }    #T_28bec808_5fd5_11e9_9e1d_0242ac1c0002row7_col4 {\n",
              "            background-color:  #7396f5;\n",
              "        }    #T_28bec808_5fd5_11e9_9e1d_0242ac1c0002row7_col5 {\n",
              "            background-color:  #485fd1;\n",
              "        }    #T_28bec808_5fd5_11e9_9e1d_0242ac1c0002row7_col6 {\n",
              "            background-color:  #3b4cc0;\n",
              "        }    #T_28bec808_5fd5_11e9_9e1d_0242ac1c0002row7_col7 {\n",
              "            background-color:  #b40426;\n",
              "        }    #T_28bec808_5fd5_11e9_9e1d_0242ac1c0002row7_col8 {\n",
              "            background-color:  #ee8468;\n",
              "        }    #T_28bec808_5fd5_11e9_9e1d_0242ac1c0002row8_col0 {\n",
              "            background-color:  #3e51c5;\n",
              "        }    #T_28bec808_5fd5_11e9_9e1d_0242ac1c0002row8_col1 {\n",
              "            background-color:  #3b4cc0;\n",
              "        }    #T_28bec808_5fd5_11e9_9e1d_0242ac1c0002row8_col2 {\n",
              "            background-color:  #3b4cc0;\n",
              "        }    #T_28bec808_5fd5_11e9_9e1d_0242ac1c0002row8_col3 {\n",
              "            background-color:  #3b4cc0;\n",
              "        }    #T_28bec808_5fd5_11e9_9e1d_0242ac1c0002row8_col4 {\n",
              "            background-color:  #81a4fb;\n",
              "        }    #T_28bec808_5fd5_11e9_9e1d_0242ac1c0002row8_col5 {\n",
              "            background-color:  #3b4cc0;\n",
              "        }    #T_28bec808_5fd5_11e9_9e1d_0242ac1c0002row8_col6 {\n",
              "            background-color:  #4358cb;\n",
              "        }    #T_28bec808_5fd5_11e9_9e1d_0242ac1c0002row8_col7 {\n",
              "            background-color:  #f08b6e;\n",
              "        }    #T_28bec808_5fd5_11e9_9e1d_0242ac1c0002row8_col8 {\n",
              "            background-color:  #b40426;\n",
              "        }</style>  \n",
              "<table id=\"T_28bec808_5fd5_11e9_9e1d_0242ac1c0002\" > \n",
              "<thead>    <tr> \n",
              "        <th class=\"blank level0\" ></th> \n",
              "        <th class=\"col_heading level0 col0\" >policy_number</th> \n",
              "        <th class=\"col_heading level0 col1\" >Age</th> \n",
              "        <th class=\"col_heading level0 col2\" >Years of Driving Experience</th> \n",
              "        <th class=\"col_heading level0 col3\" >Number of Vehicles</th> \n",
              "        <th class=\"col_heading level0 col4\" >Gender</th> \n",
              "        <th class=\"col_heading level0 col5\" >Married</th> \n",
              "        <th class=\"col_heading level0 col6\" >Vehicle Age</th> \n",
              "        <th class=\"col_heading level0 col7\" >Fuel Type</th> \n",
              "        <th class=\"col_heading level0 col8\" >Losses</th> \n",
              "    </tr></thead> \n",
              "<tbody>    <tr> \n",
              "        <th id=\"T_28bec808_5fd5_11e9_9e1d_0242ac1c0002level0_row0\" class=\"row_heading level0 row0\" >policy_number</th> \n",
              "        <td id=\"T_28bec808_5fd5_11e9_9e1d_0242ac1c0002row0_col0\" class=\"data row0 col0\" >1</td> \n",
              "        <td id=\"T_28bec808_5fd5_11e9_9e1d_0242ac1c0002row0_col1\" class=\"data row0 col1\" >-0.02</td> \n",
              "        <td id=\"T_28bec808_5fd5_11e9_9e1d_0242ac1c0002row0_col2\" class=\"data row0 col2\" >-0.021</td> \n",
              "        <td id=\"T_28bec808_5fd5_11e9_9e1d_0242ac1c0002row0_col3\" class=\"data row0 col3\" >-0.0031</td> \n",
              "        <td id=\"T_28bec808_5fd5_11e9_9e1d_0242ac1c0002row0_col4\" class=\"data row0 col4\" >-0.0038</td> \n",
              "        <td id=\"T_28bec808_5fd5_11e9_9e1d_0242ac1c0002row0_col5\" class=\"data row0 col5\" >-0.015</td> \n",
              "        <td id=\"T_28bec808_5fd5_11e9_9e1d_0242ac1c0002row0_col6\" class=\"data row0 col6\" >0.02</td> \n",
              "        <td id=\"T_28bec808_5fd5_11e9_9e1d_0242ac1c0002row0_col7\" class=\"data row0 col7\" >-0.002</td> \n",
              "        <td id=\"T_28bec808_5fd5_11e9_9e1d_0242ac1c0002row0_col8\" class=\"data row0 col8\" >-0.0065</td> \n",
              "    </tr>    <tr> \n",
              "        <th id=\"T_28bec808_5fd5_11e9_9e1d_0242ac1c0002level0_row1\" class=\"row_heading level0 row1\" >Age</th> \n",
              "        <td id=\"T_28bec808_5fd5_11e9_9e1d_0242ac1c0002row1_col0\" class=\"data row1 col0\" >-0.02</td> \n",
              "        <td id=\"T_28bec808_5fd5_11e9_9e1d_0242ac1c0002row1_col1\" class=\"data row1 col1\" >1</td> \n",
              "        <td id=\"T_28bec808_5fd5_11e9_9e1d_0242ac1c0002row1_col2\" class=\"data row1 col2\" >1</td> \n",
              "        <td id=\"T_28bec808_5fd5_11e9_9e1d_0242ac1c0002row1_col3\" class=\"data row1 col3\" >-0.0035</td> \n",
              "        <td id=\"T_28bec808_5fd5_11e9_9e1d_0242ac1c0002row1_col4\" class=\"data row1 col4\" >-0.016</td> \n",
              "        <td id=\"T_28bec808_5fd5_11e9_9e1d_0242ac1c0002row1_col5\" class=\"data row1 col5\" >-0.0068</td> \n",
              "        <td id=\"T_28bec808_5fd5_11e9_9e1d_0242ac1c0002row1_col6\" class=\"data row1 col6\" >-0.27</td> \n",
              "        <td id=\"T_28bec808_5fd5_11e9_9e1d_0242ac1c0002row1_col7\" class=\"data row1 col7\" >-0.3</td> \n",
              "        <td id=\"T_28bec808_5fd5_11e9_9e1d_0242ac1c0002row1_col8\" class=\"data row1 col8\" >-0.41</td> \n",
              "    </tr>    <tr> \n",
              "        <th id=\"T_28bec808_5fd5_11e9_9e1d_0242ac1c0002level0_row2\" class=\"row_heading level0 row2\" >Years of Driving Experience</th> \n",
              "        <td id=\"T_28bec808_5fd5_11e9_9e1d_0242ac1c0002row2_col0\" class=\"data row2 col0\" >-0.021</td> \n",
              "        <td id=\"T_28bec808_5fd5_11e9_9e1d_0242ac1c0002row2_col1\" class=\"data row2 col1\" >1</td> \n",
              "        <td id=\"T_28bec808_5fd5_11e9_9e1d_0242ac1c0002row2_col2\" class=\"data row2 col2\" >1</td> \n",
              "        <td id=\"T_28bec808_5fd5_11e9_9e1d_0242ac1c0002row2_col3\" class=\"data row2 col3\" >-0.0026</td> \n",
              "        <td id=\"T_28bec808_5fd5_11e9_9e1d_0242ac1c0002row2_col4\" class=\"data row2 col4\" >-0.017</td> \n",
              "        <td id=\"T_28bec808_5fd5_11e9_9e1d_0242ac1c0002row2_col5\" class=\"data row2 col5\" >-0.0067</td> \n",
              "        <td id=\"T_28bec808_5fd5_11e9_9e1d_0242ac1c0002row2_col6\" class=\"data row2 col6\" >-0.26</td> \n",
              "        <td id=\"T_28bec808_5fd5_11e9_9e1d_0242ac1c0002row2_col7\" class=\"data row2 col7\" >-0.3</td> \n",
              "        <td id=\"T_28bec808_5fd5_11e9_9e1d_0242ac1c0002row2_col8\" class=\"data row2 col8\" >-0.41</td> \n",
              "    </tr>    <tr> \n",
              "        <th id=\"T_28bec808_5fd5_11e9_9e1d_0242ac1c0002level0_row3\" class=\"row_heading level0 row3\" >Number of Vehicles</th> \n",
              "        <td id=\"T_28bec808_5fd5_11e9_9e1d_0242ac1c0002row3_col0\" class=\"data row3 col0\" >-0.0031</td> \n",
              "        <td id=\"T_28bec808_5fd5_11e9_9e1d_0242ac1c0002row3_col1\" class=\"data row3 col1\" >-0.0035</td> \n",
              "        <td id=\"T_28bec808_5fd5_11e9_9e1d_0242ac1c0002row3_col2\" class=\"data row3 col2\" >-0.0026</td> \n",
              "        <td id=\"T_28bec808_5fd5_11e9_9e1d_0242ac1c0002row3_col3\" class=\"data row3 col3\" >1</td> \n",
              "        <td id=\"T_28bec808_5fd5_11e9_9e1d_0242ac1c0002row3_col4\" class=\"data row3 col4\" >-0.012</td> \n",
              "        <td id=\"T_28bec808_5fd5_11e9_9e1d_0242ac1c0002row3_col5\" class=\"data row3 col5\" >-0.013</td> \n",
              "        <td id=\"T_28bec808_5fd5_11e9_9e1d_0242ac1c0002row3_col6\" class=\"data row3 col6\" >0.0065</td> \n",
              "        <td id=\"T_28bec808_5fd5_11e9_9e1d_0242ac1c0002row3_col7\" class=\"data row3 col7\" >-0.00091</td> \n",
              "        <td id=\"T_28bec808_5fd5_11e9_9e1d_0242ac1c0002row3_col8\" class=\"data row3 col8\" >-0.017</td> \n",
              "    </tr>    <tr> \n",
              "        <th id=\"T_28bec808_5fd5_11e9_9e1d_0242ac1c0002level0_row4\" class=\"row_heading level0 row4\" >Gender</th> \n",
              "        <td id=\"T_28bec808_5fd5_11e9_9e1d_0242ac1c0002row4_col0\" class=\"data row4 col0\" >-0.0038</td> \n",
              "        <td id=\"T_28bec808_5fd5_11e9_9e1d_0242ac1c0002row4_col1\" class=\"data row4 col1\" >-0.016</td> \n",
              "        <td id=\"T_28bec808_5fd5_11e9_9e1d_0242ac1c0002row4_col2\" class=\"data row4 col2\" >-0.017</td> \n",
              "        <td id=\"T_28bec808_5fd5_11e9_9e1d_0242ac1c0002row4_col3\" class=\"data row4 col3\" >-0.012</td> \n",
              "        <td id=\"T_28bec808_5fd5_11e9_9e1d_0242ac1c0002row4_col4\" class=\"data row4 col4\" >1</td> \n",
              "        <td id=\"T_28bec808_5fd5_11e9_9e1d_0242ac1c0002row4_col5\" class=\"data row4 col5\" >-0.037</td> \n",
              "        <td id=\"T_28bec808_5fd5_11e9_9e1d_0242ac1c0002row4_col6\" class=\"data row4 col6\" >0.012</td> \n",
              "        <td id=\"T_28bec808_5fd5_11e9_9e1d_0242ac1c0002row4_col7\" class=\"data row4 col7\" >0.15</td> \n",
              "        <td id=\"T_28bec808_5fd5_11e9_9e1d_0242ac1c0002row4_col8\" class=\"data row4 col8\" >0.19</td> \n",
              "    </tr>    <tr> \n",
              "        <th id=\"T_28bec808_5fd5_11e9_9e1d_0242ac1c0002level0_row5\" class=\"row_heading level0 row5\" >Married</th> \n",
              "        <td id=\"T_28bec808_5fd5_11e9_9e1d_0242ac1c0002row5_col0\" class=\"data row5 col0\" >-0.015</td> \n",
              "        <td id=\"T_28bec808_5fd5_11e9_9e1d_0242ac1c0002row5_col1\" class=\"data row5 col1\" >-0.0068</td> \n",
              "        <td id=\"T_28bec808_5fd5_11e9_9e1d_0242ac1c0002row5_col2\" class=\"data row5 col2\" >-0.0067</td> \n",
              "        <td id=\"T_28bec808_5fd5_11e9_9e1d_0242ac1c0002row5_col3\" class=\"data row5 col3\" >-0.013</td> \n",
              "        <td id=\"T_28bec808_5fd5_11e9_9e1d_0242ac1c0002row5_col4\" class=\"data row5 col4\" >-0.037</td> \n",
              "        <td id=\"T_28bec808_5fd5_11e9_9e1d_0242ac1c0002row5_col5\" class=\"data row5 col5\" >1</td> \n",
              "        <td id=\"T_28bec808_5fd5_11e9_9e1d_0242ac1c0002row5_col6\" class=\"data row5 col6\" >0.00021</td> \n",
              "        <td id=\"T_28bec808_5fd5_11e9_9e1d_0242ac1c0002row5_col7\" class=\"data row5 col7\" >-0.22</td> \n",
              "        <td id=\"T_28bec808_5fd5_11e9_9e1d_0242ac1c0002row5_col8\" class=\"data row5 col8\" >-0.28</td> \n",
              "    </tr>    <tr> \n",
              "        <th id=\"T_28bec808_5fd5_11e9_9e1d_0242ac1c0002level0_row6\" class=\"row_heading level0 row6\" >Vehicle Age</th> \n",
              "        <td id=\"T_28bec808_5fd5_11e9_9e1d_0242ac1c0002row6_col0\" class=\"data row6 col0\" >0.02</td> \n",
              "        <td id=\"T_28bec808_5fd5_11e9_9e1d_0242ac1c0002row6_col1\" class=\"data row6 col1\" >-0.27</td> \n",
              "        <td id=\"T_28bec808_5fd5_11e9_9e1d_0242ac1c0002row6_col2\" class=\"data row6 col2\" >-0.26</td> \n",
              "        <td id=\"T_28bec808_5fd5_11e9_9e1d_0242ac1c0002row6_col3\" class=\"data row6 col3\" >0.0065</td> \n",
              "        <td id=\"T_28bec808_5fd5_11e9_9e1d_0242ac1c0002row6_col4\" class=\"data row6 col4\" >0.012</td> \n",
              "        <td id=\"T_28bec808_5fd5_11e9_9e1d_0242ac1c0002row6_col5\" class=\"data row6 col5\" >0.00021</td> \n",
              "        <td id=\"T_28bec808_5fd5_11e9_9e1d_0242ac1c0002row6_col6\" class=\"data row6 col6\" >1</td> \n",
              "        <td id=\"T_28bec808_5fd5_11e9_9e1d_0242ac1c0002row6_col7\" class=\"data row6 col7\" >-0.3</td> \n",
              "        <td id=\"T_28bec808_5fd5_11e9_9e1d_0242ac1c0002row6_col8\" class=\"data row6 col8\" >-0.27</td> \n",
              "    </tr>    <tr> \n",
              "        <th id=\"T_28bec808_5fd5_11e9_9e1d_0242ac1c0002level0_row7\" class=\"row_heading level0 row7\" >Fuel Type</th> \n",
              "        <td id=\"T_28bec808_5fd5_11e9_9e1d_0242ac1c0002row7_col0\" class=\"data row7 col0\" >-0.002</td> \n",
              "        <td id=\"T_28bec808_5fd5_11e9_9e1d_0242ac1c0002row7_col1\" class=\"data row7 col1\" >-0.3</td> \n",
              "        <td id=\"T_28bec808_5fd5_11e9_9e1d_0242ac1c0002row7_col2\" class=\"data row7 col2\" >-0.3</td> \n",
              "        <td id=\"T_28bec808_5fd5_11e9_9e1d_0242ac1c0002row7_col3\" class=\"data row7 col3\" >-0.00091</td> \n",
              "        <td id=\"T_28bec808_5fd5_11e9_9e1d_0242ac1c0002row7_col4\" class=\"data row7 col4\" >0.15</td> \n",
              "        <td id=\"T_28bec808_5fd5_11e9_9e1d_0242ac1c0002row7_col5\" class=\"data row7 col5\" >-0.22</td> \n",
              "        <td id=\"T_28bec808_5fd5_11e9_9e1d_0242ac1c0002row7_col6\" class=\"data row7 col6\" >-0.3</td> \n",
              "        <td id=\"T_28bec808_5fd5_11e9_9e1d_0242ac1c0002row7_col7\" class=\"data row7 col7\" >1</td> \n",
              "        <td id=\"T_28bec808_5fd5_11e9_9e1d_0242ac1c0002row7_col8\" class=\"data row7 col8\" >0.72</td> \n",
              "    </tr>    <tr> \n",
              "        <th id=\"T_28bec808_5fd5_11e9_9e1d_0242ac1c0002level0_row8\" class=\"row_heading level0 row8\" >Losses</th> \n",
              "        <td id=\"T_28bec808_5fd5_11e9_9e1d_0242ac1c0002row8_col0\" class=\"data row8 col0\" >-0.0065</td> \n",
              "        <td id=\"T_28bec808_5fd5_11e9_9e1d_0242ac1c0002row8_col1\" class=\"data row8 col1\" >-0.41</td> \n",
              "        <td id=\"T_28bec808_5fd5_11e9_9e1d_0242ac1c0002row8_col2\" class=\"data row8 col2\" >-0.41</td> \n",
              "        <td id=\"T_28bec808_5fd5_11e9_9e1d_0242ac1c0002row8_col3\" class=\"data row8 col3\" >-0.017</td> \n",
              "        <td id=\"T_28bec808_5fd5_11e9_9e1d_0242ac1c0002row8_col4\" class=\"data row8 col4\" >0.19</td> \n",
              "        <td id=\"T_28bec808_5fd5_11e9_9e1d_0242ac1c0002row8_col5\" class=\"data row8 col5\" >-0.28</td> \n",
              "        <td id=\"T_28bec808_5fd5_11e9_9e1d_0242ac1c0002row8_col6\" class=\"data row8 col6\" >-0.27</td> \n",
              "        <td id=\"T_28bec808_5fd5_11e9_9e1d_0242ac1c0002row8_col7\" class=\"data row8 col7\" >0.72</td> \n",
              "        <td id=\"T_28bec808_5fd5_11e9_9e1d_0242ac1c0002row8_col8\" class=\"data row8 col8\" >1</td> \n",
              "    </tr></tbody> \n",
              "</table> "
            ],
            "text/plain": [
              "<pandas.io.formats.style.Styler at 0x7f949cc15860>"
            ]
          },
          "metadata": {
            "tags": []
          },
          "execution_count": 24
        },
        {
          "output_type": "display_data",
          "data": {
            "image/png": "[encoded data removed]",
            "text/plain": [
              "<Figure size 720x720 with 1 Axes>"
            ]
          },
          "metadata": {
            "tags": []
          }
        }
      ]
    },
    {
      "metadata": {
        "id": "jHqGzDDE1J4i",
        "colab_type": "code",
        "colab": {
          "base_uri": "https://localhost:8080/",
          "height": 318
        },
        "outputId": "4b022408-e9da-4d60-f497-eb6130ceab64"
      },
      "cell_type": "code",
      "source": [
        "cr.boxplot(column=['Losses'], by='Married')"
      ],
      "execution_count": 25,
      "outputs": [
        {
          "output_type": "execute_result",
          "data": {
            "text/plain": [
              "<matplotlib.axes._subplots.AxesSubplot at 0x7f949d2df2b0>"
            ]
          },
          "metadata": {
            "tags": []
          },
          "execution_count": 25
        },
        {
          "output_type": "display_data",
          "data": {
            "image/png": "[encoded data removed]",
            "text/plain": [
              "<Figure size 432x288 with 1 Axes>"
            ]
          },
          "metadata": {
            "tags": []
          }
        }
      ]
    },
    {
      "metadata": {
        "id": "54mq9jNZlM-S",
        "colab_type": "code",
        "colab": {
          "base_uri": "https://localhost:8080/",
          "height": 1188
        },
        "outputId": "b90829cb-1c9f-4055-8fc6-2e4c55143b4c"
      },
      "cell_type": "code",
      "source": [
        "fig = plt.figure()\n",
        "a = cr.boxplot(column=['Losses'], by='Vehicle Age')\n",
        "b = cr.boxplot(column=['Losses'], by='Years of Driving Experience')\n",
        "c = cr.boxplot(column=['Losses'], by='Gender')\n",
        "d = cr.boxplot(column=['Losses'], by='Fuel Type')\n",
        "\n",
        "a.plot()\n",
        "b.plot()\n",
        "c.plot()\n",
        "d.plot()"
      ],
      "execution_count": 26,
      "outputs": [
        {
          "output_type": "execute_result",
          "data": {
            "text/plain": [
              "[]"
            ]
          },
          "metadata": {
            "tags": []
          },
          "execution_count": 26
        },
        {
          "output_type": "display_data",
          "data": {
            "text/plain": [
              "<Figure size 432x288 with 0 Axes>"
            ]
          },
          "metadata": {
            "tags": []
          }
        },
        {
          "output_type": "display_data",
          "data": {
            "image/png": "[encoded data removed]",
            "text/plain": [
              "<Figure size 432x288 with 1 Axes>"
            ]
          },
          "metadata": {
            "tags": []
          }
        },
        {
          "output_type": "display_data",
          "data": {
            "image/png": "[encoded data removed]",
            "text/plain": [
              "<Figure size 432x288 with 1 Axes>"
            ]
          },
          "metadata": {
            "tags": []
          }
        },
        {
          "output_type": "display_data",
          "data": {
            "image/png": "[encoded data removed]",
            "text/plain": [
              "<Figure size 432x288 with 1 Axes>"
            ]
          },
          "metadata": {
            "tags": []
          }
        },
        {
          "output_type": "display_data",
          "data": {
            "image/png": "[encoded data removed]",
            "text/plain": [
              "<Figure size 432x288 with 1 Axes>"
            ]
          },
          "metadata": {
            "tags": []
          }
        }
      ]
    },
    {
      "metadata": {
        "id": "eJKG3Jzzlwsb",
        "colab_type": "code",
        "colab": {
          "base_uri": "https://localhost:8080/",
          "height": 676
        },
        "outputId": "d56bce9b-3723-4653-cae9-f271a2fc49de"
      },
      "cell_type": "code",
      "source": [
        "fig, ax = plt.subplots(figsize=(8, 6))\n",
        "a = cr[['Age', 'Losses']].groupby('Age').sum()\n",
        "b = cr.groupby('Age').size().plot()\n",
        "plt.grid()\n",
        "a.plot()\n",
        "plt.grid()\n",
        "b.plot()\n",
        "\n"
      ],
      "execution_count": 27,
      "outputs": [
        {
          "output_type": "execute_result",
          "data": {
            "text/plain": [
              "[]"
            ]
          },
          "metadata": {
            "tags": []
          },
          "execution_count": 27
        },
        {
          "output_type": "display_data",
          "data": {
            "image/png": "[encoded data removed]",
            "text/plain": [
              "<Figure size 576x432 with 1 Axes>"
            ]
          },
          "metadata": {
            "tags": []
          }
        },
        {
          "output_type": "display_data",
          "data": {
            "image/png": "[encoded data removed]",
            "text/plain": [
              "<Figure size 432x288 with 1 Axes>"
            ]
          },
          "metadata": {
            "tags": []
          }
        }
      ]
    },
    {
      "metadata": {
        "id": "P7qO25gPXSQ-",
        "colab_type": "code",
        "colab": {
          "base_uri": "https://localhost:8080/",
          "height": 676
        },
        "outputId": "f925de7e-d0fc-4b07-a7eb-844011ea66a3"
      },
      "cell_type": "code",
      "source": [
        "fig, ax = plt.subplots(figsize=(8, 6))\n",
        "a = df[['Age', 'Losses']].groupby('Age').sum()\n",
        "b = df.groupby('Age').size().plot()\n",
        "plt.grid()\n",
        "a.plot()\n",
        "plt.grid()\n",
        "b.plot()"
      ],
      "execution_count": 39,
      "outputs": [
        {
          "output_type": "execute_result",
          "data": {
            "text/plain": [
              "[]"
            ]
          },
          "metadata": {
            "tags": []
          },
          "execution_count": 39
        },
        {
          "output_type": "display_data",
          "data": {
            "image/png": "[encoded data removed]",
            "text/plain": [
              "<Figure size 576x432 with 1 Axes>"
            ]
          },
          "metadata": {
            "tags": []
          }
        },
        {
          "output_type": "display_data",
          "data": {
            "image/png": "[encoded data removed]",
            "text/plain": [
              "<Figure size 432x288 with 1 Axes>"
            ]
          },
          "metadata": {
            "tags": []
          }
        }
      ]
    },
    {
      "metadata": {
        "id": "8nHZLNhYm-c3",
        "colab_type": "code",
        "colab": {
          "base_uri": "https://localhost:8080/",
          "height": 86
        },
        "outputId": "5886ae7e-db14-44bc-8eed-7df5370309f9"
      },
      "cell_type": "code",
      "source": [
        "cr.groupby('Married').size()"
      ],
      "execution_count": 28,
      "outputs": [
        {
          "output_type": "execute_result",
          "data": {
            "text/plain": [
              "Married\n",
              "0    1130\n",
              "1    1114\n",
              "dtype: int64"
            ]
          },
          "metadata": {
            "tags": []
          },
          "execution_count": 28
        }
      ]
    },
    {
      "metadata": {
        "id": "XAuKmo9qo8td",
        "colab_type": "code",
        "colab": {
          "base_uri": "https://localhost:8080/",
          "height": 86
        },
        "outputId": "d31b30a3-52ef-49ec-c5a3-c13387486dcc"
      },
      "cell_type": "code",
      "source": [
        "cr.groupby('Fuel Type').size()"
      ],
      "execution_count": 29,
      "outputs": [
        {
          "output_type": "execute_result",
          "data": {
            "text/plain": [
              "Fuel Type\n",
              "0    1695\n",
              "1     549\n",
              "dtype: int64"
            ]
          },
          "metadata": {
            "tags": []
          },
          "execution_count": 29
        }
      ]
    },
    {
      "metadata": {
        "id": "IlBClyW2fF_G",
        "colab_type": "code",
        "colab": {
          "base_uri": "https://localhost:8080/",
          "height": 165
        },
        "outputId": "7452a438-e4fb-47b3-fdcc-190c1a93e75f"
      },
      "cell_type": "code",
      "source": [
        ""
      ],
      "execution_count": 38,
      "outputs": [
        {
          "output_type": "error",
          "ename": "TypeError",
          "evalue": "ignored",
          "traceback": [
            "\u001b[0;31m---------------------------------------------------------------------------\u001b[0m",
            "\u001b[0;31mTypeError\u001b[0m                                 Traceback (most recent call last)",
            "\u001b[0;32m<ipython-input-38-5098ab42f864>\u001b[0m in \u001b[0;36m<module>\u001b[0;34m()\u001b[0m\n\u001b[0;32m----> 1\u001b[0;31m \u001b[0mdf\u001b[0m\u001b[0;34m.\u001b[0m\u001b[0msize\u001b[0m\u001b[0;34m(\u001b[0m\u001b[0;34m)\u001b[0m\u001b[0;34m\u001b[0m\u001b[0;34m\u001b[0m\u001b[0m\n\u001b[0m",
            "\u001b[0;31mTypeError\u001b[0m: 'numpy.int64' object is not callable"
          ]
        }
      ]
    },
    {
      "metadata": {
        "id": "44sPr6G6UGtS",
        "colab_type": "code",
        "colab": {}
      },
      "cell_type": "code",
      "source": [
        ""
      ],
      "execution_count": 0,
      "outputs": []
    }
  ]
}