{
  "nbformat": 4,
  "nbformat_minor": 0,
  "metadata": {
    "colab": {
      "name": "P_Insurance.ipynb",
      "version": "0.3.2",
      "provenance": [],
      "collapsed_sections": []
    },
    "kernelspec": {
      "name": "python3",
      "display_name": "Python 3"
    }
  },
  "cells": [
    {
      "metadata": {
        "id": "ESxsNr91EGx6",
        "colab_type": "code",
        "colab": {}
      },
      "cell_type": "code",
      "source": [
        "import numpy as np\n",
        "import pandas as pd\n",
        "import matplotlib.pyplot as plt\n",
        "%matplotlib inline"
      ],
      "execution_count": 0,
      "outputs": []
    },
    {
      "metadata": {
        "id": "csmkItSqEOsY",
        "colab_type": "code",
        "colab": {}
      },
      "cell_type": "code",
      "source": [
        "%%sh\n",
        "wget --quiet --output-document test.csv 'https://drive.google.com/uc?authuser=0&id=1X-jvKn6mwxmyyqFidvC2eU3GjAQyFKvx&export=download'"
      ],
      "execution_count": 0,
      "outputs": []
    },
    {
      "metadata": {
        "id": "gu5j0ihYXUg6",
        "colab_type": "code",
        "colab": {}
      },
      "cell_type": "code",
      "source": [
        "df = pd.read_csv('test.csv')\n",
        "df = df.rename(columns={\n",
        "    'Policy Number': 'policy_number'\n",
        "})"
      ],
      "execution_count": 0,
      "outputs": []
    },
    {
      "metadata": {
        "id": "5fVieOwsFNIO",
        "colab_type": "code",
        "outputId": "2bb1ee75-40e4-4e96-a27a-4971628048aa",
        "colab": {
          "base_uri": "https://localhost:8080/",
          "height": 356
        }
      },
      "cell_type": "code",
      "source": [
        "df.head(10)"
      ],
      "execution_count": 0,
      "outputs": [
        {
          "output_type": "execute_result",
          "data": {
            "text/html": [
              "<div>\n",
              "<style scoped>\n",
              "    .dataframe tbody tr th:only-of-type {\n",
              "        vertical-align: middle;\n",
              "    }\n",
              "\n",
              "    .dataframe tbody tr th {\n",
              "        vertical-align: top;\n",
              "    }\n",
              "\n",
              "    .dataframe thead th {\n",
              "        text-align: right;\n",
              "    }\n",
              "</style>\n",
              "<table border=\"1\" class=\"dataframe\">\n",
              "  <thead>\n",
              "    <tr style=\"text-align: right;\">\n",
              "      <th></th>\n",
              "      <th>policy_number</th>\n",
              "      <th>Age</th>\n",
              "      <th>Years of Driving Experience</th>\n",
              "      <th>Number of Vehicles</th>\n",
              "      <th>Gender</th>\n",
              "      <th>Married</th>\n",
              "      <th>Vehicle Age</th>\n",
              "      <th>Fuel Type</th>\n",
              "      <th>Losses</th>\n",
              "    </tr>\n",
              "  </thead>\n",
              "  <tbody>\n",
              "    <tr>\n",
              "      <th>0</th>\n",
              "      <td>150023</td>\n",
              "      <td>24</td>\n",
              "      <td>5</td>\n",
              "      <td>1</td>\n",
              "      <td>M</td>\n",
              "      <td>Married</td>\n",
              "      <td>11</td>\n",
              "      <td>P</td>\n",
              "      <td>203</td>\n",
              "    </tr>\n",
              "    <tr>\n",
              "      <th>1</th>\n",
              "      <td>152720</td>\n",
              "      <td>31</td>\n",
              "      <td>10</td>\n",
              "      <td>1</td>\n",
              "      <td>F</td>\n",
              "      <td>Single</td>\n",
              "      <td>6</td>\n",
              "      <td>P</td>\n",
              "      <td>402</td>\n",
              "    </tr>\n",
              "    <tr>\n",
              "      <th>2</th>\n",
              "      <td>174207</td>\n",
              "      <td>56</td>\n",
              "      <td>37</td>\n",
              "      <td>1</td>\n",
              "      <td>M</td>\n",
              "      <td>Married</td>\n",
              "      <td>0</td>\n",
              "      <td>D</td>\n",
              "      <td>553</td>\n",
              "    </tr>\n",
              "    <tr>\n",
              "      <th>3</th>\n",
              "      <td>139895</td>\n",
              "      <td>52</td>\n",
              "      <td>31</td>\n",
              "      <td>1</td>\n",
              "      <td>F</td>\n",
              "      <td>Married</td>\n",
              "      <td>15</td>\n",
              "      <td>P</td>\n",
              "      <td>292</td>\n",
              "    </tr>\n",
              "    <tr>\n",
              "      <th>4</th>\n",
              "      <td>174407</td>\n",
              "      <td>20</td>\n",
              "      <td>3</td>\n",
              "      <td>1</td>\n",
              "      <td>M</td>\n",
              "      <td>Single</td>\n",
              "      <td>15</td>\n",
              "      <td>P</td>\n",
              "      <td>247</td>\n",
              "    </tr>\n",
              "    <tr>\n",
              "      <th>5</th>\n",
              "      <td>170545</td>\n",
              "      <td>29</td>\n",
              "      <td>8</td>\n",
              "      <td>1</td>\n",
              "      <td>M</td>\n",
              "      <td>Married</td>\n",
              "      <td>9</td>\n",
              "      <td>P</td>\n",
              "      <td>385</td>\n",
              "    </tr>\n",
              "    <tr>\n",
              "      <th>6</th>\n",
              "      <td>123164</td>\n",
              "      <td>36</td>\n",
              "      <td>19</td>\n",
              "      <td>1</td>\n",
              "      <td>F</td>\n",
              "      <td>Single</td>\n",
              "      <td>0</td>\n",
              "      <td>P</td>\n",
              "      <td>462</td>\n",
              "    </tr>\n",
              "    <tr>\n",
              "      <th>7</th>\n",
              "      <td>147118</td>\n",
              "      <td>67</td>\n",
              "      <td>49</td>\n",
              "      <td>1</td>\n",
              "      <td>F</td>\n",
              "      <td>Married</td>\n",
              "      <td>15</td>\n",
              "      <td>P</td>\n",
              "      <td>169</td>\n",
              "    </tr>\n",
              "    <tr>\n",
              "      <th>8</th>\n",
              "      <td>119842</td>\n",
              "      <td>69</td>\n",
              "      <td>48</td>\n",
              "      <td>1</td>\n",
              "      <td>M</td>\n",
              "      <td>Single</td>\n",
              "      <td>5</td>\n",
              "      <td>P</td>\n",
              "      <td>70</td>\n",
              "    </tr>\n",
              "    <tr>\n",
              "      <th>9</th>\n",
              "      <td>192628</td>\n",
              "      <td>16</td>\n",
              "      <td>0</td>\n",
              "      <td>1</td>\n",
              "      <td>F</td>\n",
              "      <td>Single</td>\n",
              "      <td>14</td>\n",
              "      <td>P</td>\n",
              "      <td>243</td>\n",
              "    </tr>\n",
              "  </tbody>\n",
              "</table>\n",
              "</div>"
            ],
            "text/plain": [
              "   policy_number  Age  Years of Driving Experience  Number of Vehicles Gender  \\\n",
              "0         150023   24                            5                   1      M   \n",
              "1         152720   31                           10                   1      F   \n",
              "2         174207   56                           37                   1      M   \n",
              "3         139895   52                           31                   1      F   \n",
              "4         174407   20                            3                   1      M   \n",
              "5         170545   29                            8                   1      M   \n",
              "6         123164   36                           19                   1      F   \n",
              "7         147118   67                           49                   1      F   \n",
              "8         119842   69                           48                   1      M   \n",
              "9         192628   16                            0                   1      F   \n",
              "\n",
              "   Married  Vehicle Age Fuel Type  Losses  \n",
              "0  Married           11         P     203  \n",
              "1   Single            6         P     402  \n",
              "2  Married            0         D     553  \n",
              "3  Married           15         P     292  \n",
              "4   Single           15         P     247  \n",
              "5  Married            9         P     385  \n",
              "6   Single            0         P     462  \n",
              "7  Married           15         P     169  \n",
              "8   Single            5         P      70  \n",
              "9   Single           14         P     243  "
            ]
          },
          "metadata": {
            "tags": []
          },
          "execution_count": 4
        }
      ]
    },
    {
      "metadata": {
        "id": "1lVq_XHqFOsE",
        "colab_type": "code",
        "outputId": "08014627-6a12-40c6-dbd4-6ec5b761556f",
        "colab": {
          "base_uri": "https://localhost:8080/",
          "height": 294
        }
      },
      "cell_type": "code",
      "source": [
        "df.describe()"
      ],
      "execution_count": 0,
      "outputs": [
        {
          "output_type": "execute_result",
          "data": {
            "text/html": [
              "<div>\n",
              "<style scoped>\n",
              "    .dataframe tbody tr th:only-of-type {\n",
              "        vertical-align: middle;\n",
              "    }\n",
              "\n",
              "    .dataframe tbody tr th {\n",
              "        vertical-align: top;\n",
              "    }\n",
              "\n",
              "    .dataframe thead th {\n",
              "        text-align: right;\n",
              "    }\n",
              "</style>\n",
              "<table border=\"1\" class=\"dataframe\">\n",
              "  <thead>\n",
              "    <tr style=\"text-align: right;\">\n",
              "      <th></th>\n",
              "      <th>policy_number</th>\n",
              "      <th>Age</th>\n",
              "      <th>Years of Driving Experience</th>\n",
              "      <th>Number of Vehicles</th>\n",
              "      <th>Vehicle Age</th>\n",
              "      <th>Losses</th>\n",
              "    </tr>\n",
              "  </thead>\n",
              "  <tbody>\n",
              "    <tr>\n",
              "      <th>count</th>\n",
              "      <td>15290.000000</td>\n",
              "      <td>15290.000000</td>\n",
              "      <td>15290.000000</td>\n",
              "      <td>15290.000000</td>\n",
              "      <td>15290.000000</td>\n",
              "      <td>15290.000000</td>\n",
              "    </tr>\n",
              "    <tr>\n",
              "      <th>mean</th>\n",
              "      <td>149910.276651</td>\n",
              "      <td>42.328254</td>\n",
              "      <td>23.732897</td>\n",
              "      <td>2.495880</td>\n",
              "      <td>8.655723</td>\n",
              "      <td>389.858012</td>\n",
              "    </tr>\n",
              "    <tr>\n",
              "      <th>std</th>\n",
              "      <td>28948.806631</td>\n",
              "      <td>18.280511</td>\n",
              "      <td>17.850707</td>\n",
              "      <td>0.953776</td>\n",
              "      <td>4.344536</td>\n",
              "      <td>253.729469</td>\n",
              "    </tr>\n",
              "    <tr>\n",
              "      <th>min</th>\n",
              "      <td>100002.000000</td>\n",
              "      <td>16.000000</td>\n",
              "      <td>0.000000</td>\n",
              "      <td>1.000000</td>\n",
              "      <td>0.000000</td>\n",
              "      <td>13.000000</td>\n",
              "    </tr>\n",
              "    <tr>\n",
              "      <th>25%</th>\n",
              "      <td>124842.000000</td>\n",
              "      <td>24.000000</td>\n",
              "      <td>6.000000</td>\n",
              "      <td>2.000000</td>\n",
              "      <td>6.000000</td>\n",
              "      <td>226.000000</td>\n",
              "    </tr>\n",
              "    <tr>\n",
              "      <th>50%</th>\n",
              "      <td>149872.000000</td>\n",
              "      <td>42.000000</td>\n",
              "      <td>23.000000</td>\n",
              "      <td>2.000000</td>\n",
              "      <td>9.000000</td>\n",
              "      <td>355.000000</td>\n",
              "    </tr>\n",
              "    <tr>\n",
              "      <th>75%</th>\n",
              "      <td>175011.000000</td>\n",
              "      <td>61.000000</td>\n",
              "      <td>42.000000</td>\n",
              "      <td>3.000000</td>\n",
              "      <td>12.000000</td>\n",
              "      <td>489.000000</td>\n",
              "    </tr>\n",
              "    <tr>\n",
              "      <th>max</th>\n",
              "      <td>200000.000000</td>\n",
              "      <td>70.000000</td>\n",
              "      <td>53.000000</td>\n",
              "      <td>4.000000</td>\n",
              "      <td>15.000000</td>\n",
              "      <td>3500.000000</td>\n",
              "    </tr>\n",
              "  </tbody>\n",
              "</table>\n",
              "</div>"
            ],
            "text/plain": [
              "       policy_number           Age  Years of Driving Experience  \\\n",
              "count   15290.000000  15290.000000                 15290.000000   \n",
              "mean   149910.276651     42.328254                    23.732897   \n",
              "std     28948.806631     18.280511                    17.850707   \n",
              "min    100002.000000     16.000000                     0.000000   \n",
              "25%    124842.000000     24.000000                     6.000000   \n",
              "50%    149872.000000     42.000000                    23.000000   \n",
              "75%    175011.000000     61.000000                    42.000000   \n",
              "max    200000.000000     70.000000                    53.000000   \n",
              "\n",
              "       Number of Vehicles   Vehicle Age        Losses  \n",
              "count        15290.000000  15290.000000  15290.000000  \n",
              "mean             2.495880      8.655723    389.858012  \n",
              "std              0.953776      4.344536    253.729469  \n",
              "min              1.000000      0.000000     13.000000  \n",
              "25%              2.000000      6.000000    226.000000  \n",
              "50%              2.000000      9.000000    355.000000  \n",
              "75%              3.000000     12.000000    489.000000  \n",
              "max              4.000000     15.000000   3500.000000  "
            ]
          },
          "metadata": {
            "tags": []
          },
          "execution_count": 5
        }
      ]
    },
    {
      "metadata": {
        "id": "QHmpiRzjFtc9",
        "colab_type": "code",
        "outputId": "20572b57-b424-4532-d9c6-ef68d6b2932e",
        "colab": {
          "base_uri": "https://localhost:8080/",
          "height": 316
        }
      },
      "cell_type": "code",
      "source": [
        "df.hist('Losses', bins=25)"
      ],
      "execution_count": 0,
      "outputs": [
        {
          "output_type": "execute_result",
          "data": {
            "text/plain": [
              "array([[<matplotlib.axes._subplots.AxesSubplot object at 0x7f43edf4a390>]],\n",
              "      dtype=object)"
            ]
          },
          "metadata": {
            "tags": []
          },
          "execution_count": 6
        },
        {
          "output_type": "display_data",
          "data": {
            "image/png": "[encoded data removed]",
            "text/plain": [
              "<Figure size 432x288 with 1 Axes>"
            ]
          },
          "metadata": {
            "tags": []
          }
        }
      ]
    },
    {
      "metadata": {
        "id": "Y-VySCLdIlt7",
        "colab_type": "code",
        "outputId": "5e2294d1-89ab-419a-abca-1f262b14677f",
        "colab": {
          "base_uri": "https://localhost:8080/",
          "height": 318
        }
      },
      "cell_type": "code",
      "source": [
        "df.boxplot(column=['Losses'], by='Married')"
      ],
      "execution_count": 0,
      "outputs": [
        {
          "output_type": "execute_result",
          "data": {
            "text/plain": [
              "<matplotlib.axes._subplots.AxesSubplot at 0x7f43edea66d8>"
            ]
          },
          "metadata": {
            "tags": []
          },
          "execution_count": 7
        },
        {
          "output_type": "display_data",
          "data": {
            "image/png": "[encoded data removed]",
            "text/plain": [
              "<Figure size 432x288 with 1 Axes>"
            ]
          },
          "metadata": {
            "tags": []
          }
        }
      ]
    },
    {
      "metadata": {
        "id": "2AP4CKocJQiW",
        "colab_type": "code",
        "outputId": "65376bda-895d-4a64-aa8d-c3c7319036c1",
        "colab": {
          "base_uri": "https://localhost:8080/",
          "height": 173
        }
      },
      "cell_type": "code",
      "source": [
        "list(df)"
      ],
      "execution_count": 0,
      "outputs": [
        {
          "output_type": "execute_result",
          "data": {
            "text/plain": [
              "['policy_number',\n",
              " 'Age',\n",
              " 'Years of Driving Experience',\n",
              " 'Number of Vehicles',\n",
              " 'Gender',\n",
              " 'Married',\n",
              " 'Vehicle Age',\n",
              " 'Fuel Type',\n",
              " 'Losses']"
            ]
          },
          "metadata": {
            "tags": []
          },
          "execution_count": 8
        }
      ]
    },
    {
      "metadata": {
        "id": "AkKreacQKjNj",
        "colab_type": "code",
        "outputId": "cf348cd7-d6d7-4fe9-8731-50efc7d372f4",
        "colab": {
          "base_uri": "https://localhost:8080/",
          "height": 34
        }
      },
      "cell_type": "code",
      "source": [
        "x = df[(df['Losses']>= 300) & (df['Losses'] <= 340)]\n",
        "x['Losses'].count()"
      ],
      "execution_count": 0,
      "outputs": [
        {
          "output_type": "execute_result",
          "data": {
            "text/plain": [
              "1471"
            ]
          },
          "metadata": {
            "tags": []
          },
          "execution_count": 9
        }
      ]
    },
    {
      "metadata": {
        "id": "irJ6BlbHN2kl",
        "colab_type": "code",
        "outputId": "f6a87b95-301b-4570-fc41-a815d5eb0560",
        "colab": {
          "base_uri": "https://localhost:8080/",
          "height": 34
        }
      },
      "cell_type": "code",
      "source": [
        "df['Age'].count()"
      ],
      "execution_count": 0,
      "outputs": [
        {
          "output_type": "execute_result",
          "data": {
            "text/plain": [
              "15290"
            ]
          },
          "metadata": {
            "tags": []
          },
          "execution_count": 10
        }
      ]
    },
    {
      "metadata": {
        "id": "_OaHbE39PuHM",
        "colab_type": "code",
        "outputId": "140c0416-0ac0-43ca-cf46-ed55185e956b",
        "colab": {
          "base_uri": "https://localhost:8080/",
          "height": 301
        }
      },
      "cell_type": "code",
      "source": [
        "df.groupby(['Losses']).size().plot()"
      ],
      "execution_count": 0,
      "outputs": [
        {
          "output_type": "execute_result",
          "data": {
            "text/plain": [
              "<matplotlib.axes._subplots.AxesSubplot at 0x7f43ebdc8ba8>"
            ]
          },
          "metadata": {
            "tags": []
          },
          "execution_count": 11
        },
        {
          "output_type": "display_data",
          "data": {
            "image/png": "[encoded data removed]",
            "text/plain": [
              "<Figure size 432x288 with 1 Axes>"
            ]
          },
          "metadata": {
            "tags": []
          }
        }
      ]
    },
    {
      "metadata": {
        "id": "JnG_cPz-UFgT",
        "colab_type": "code",
        "colab": {}
      },
      "cell_type": "code",
      "source": [
        "df = df.replace('F', 0).replace('M', 1).replace('P', 0).replace('D', 1)"
      ],
      "execution_count": 0,
      "outputs": []
    },
    {
      "metadata": {
        "id": "MN1LSM7nUW_1",
        "colab_type": "code",
        "outputId": "2b06c591-93de-41b3-faaf-4cba40fb950d",
        "colab": {
          "base_uri": "https://localhost:8080/",
          "height": 34
        }
      },
      "cell_type": "code",
      "source": [
        "df['Age'].corr(df['Losses'])\n"
      ],
      "execution_count": 0,
      "outputs": [
        {
          "output_type": "execute_result",
          "data": {
            "text/plain": [
              "-0.44295052487397957"
            ]
          },
          "metadata": {
            "tags": []
          },
          "execution_count": 13
        }
      ]
    },
    {
      "metadata": {
        "id": "aGHkZPg9xmVm",
        "colab_type": "code",
        "outputId": "8ccff378-ed44-4a50-bde0-bf9c19272840",
        "colab": {
          "base_uri": "https://localhost:8080/",
          "height": 210
        }
      },
      "cell_type": "code",
      "source": [
        "# 287 720\n",
        "print(df.groupby('Fuel Type').size())\n",
        "df[['Fuel Type', 'Losses']].groupby('Fuel Type').sum()"
      ],
      "execution_count": 0,
      "outputs": [
        {
          "output_type": "stream",
          "text": [
            "Fuel Type\n",
            "0    11670\n",
            "1     3620\n",
            "dtype: int64\n"
          ],
          "name": "stdout"
        },
        {
          "output_type": "execute_result",
          "data": {
            "text/html": [
              "<div>\n",
              "<style scoped>\n",
              "    .dataframe tbody tr th:only-of-type {\n",
              "        vertical-align: middle;\n",
              "    }\n",
              "\n",
              "    .dataframe tbody tr th {\n",
              "        vertical-align: top;\n",
              "    }\n",
              "\n",
              "    .dataframe thead th {\n",
              "        text-align: right;\n",
              "    }\n",
              "</style>\n",
              "<table border=\"1\" class=\"dataframe\">\n",
              "  <thead>\n",
              "    <tr style=\"text-align: right;\">\n",
              "      <th></th>\n",
              "      <th>Losses</th>\n",
              "    </tr>\n",
              "    <tr>\n",
              "      <th>Fuel Type</th>\n",
              "      <th></th>\n",
              "    </tr>\n",
              "  </thead>\n",
              "  <tbody>\n",
              "    <tr>\n",
              "      <th>0</th>\n",
              "      <td>3354466</td>\n",
              "    </tr>\n",
              "    <tr>\n",
              "      <th>1</th>\n",
              "      <td>2606463</td>\n",
              "    </tr>\n",
              "  </tbody>\n",
              "</table>\n",
              "</div>"
            ],
            "text/plain": [
              "            Losses\n",
              "Fuel Type         \n",
              "0          3354466\n",
              "1          2606463"
            ]
          },
          "metadata": {
            "tags": []
          },
          "execution_count": 14
        }
      ]
    },
    {
      "metadata": {
        "id": "Z_booehNeywu",
        "colab_type": "code",
        "outputId": "5b8b2d44-bb41-48c7-ab21-988be62805b3",
        "colab": {
          "base_uri": "https://localhost:8080/",
          "height": 784
        }
      },
      "cell_type": "code",
      "source": [
        "df = df.replace('Married', 1).replace('Single', 0)\n",
        "corr = df.corr()\n",
        "            \n",
        "fig, ax = plt.subplots(figsize=(10, 10))\n",
        "ax.matshow(corr)\n",
        "plt.xticks(range(len(corr.columns)), corr.columns)\n",
        "plt.yticks(range(len(corr.columns)), corr.columns)\n",
        "corr.style.background_gradient(cmap='coolwarm').set_precision(2)"
      ],
      "execution_count": 0,
      "outputs": [
        {
          "output_type": "execute_result",
          "data": {
            "text/html": [
              "<style  type=\"text/css\" >\n",
              "    #T_0c1284fa_5e2d_11e9_a019_0242ac1c0002row0_col0 {\n",
              "            background-color:  #b40426;\n",
              "        }    #T_0c1284fa_5e2d_11e9_a019_0242ac1c0002row0_col1 {\n",
              "            background-color:  #a1c0ff;\n",
              "        }    #T_0c1284fa_5e2d_11e9_a019_0242ac1c0002row0_col2 {\n",
              "            background-color:  #a1c0ff;\n",
              "        }    #T_0c1284fa_5e2d_11e9_a019_0242ac1c0002row0_col3 {\n",
              "            background-color:  #4257c9;\n",
              "        }    #T_0c1284fa_5e2d_11e9_a019_0242ac1c0002row0_col4 {\n",
              "            background-color:  #3b4cc0;\n",
              "        }    #T_0c1284fa_5e2d_11e9_a019_0242ac1c0002row0_col5 {\n",
              "            background-color:  #80a3fa;\n",
              "        }    #T_0c1284fa_5e2d_11e9_a019_0242ac1c0002row0_col6 {\n",
              "            background-color:  #84a7fc;\n",
              "        }    #T_0c1284fa_5e2d_11e9_a019_0242ac1c0002row0_col7 {\n",
              "            background-color:  #8caffe;\n",
              "        }    #T_0c1284fa_5e2d_11e9_a019_0242ac1c0002row0_col8 {\n",
              "            background-color:  #a2c1ff;\n",
              "        }    #T_0c1284fa_5e2d_11e9_a019_0242ac1c0002row1_col0 {\n",
              "            background-color:  #3d50c3;\n",
              "        }    #T_0c1284fa_5e2d_11e9_a019_0242ac1c0002row1_col1 {\n",
              "            background-color:  #b40426;\n",
              "        }    #T_0c1284fa_5e2d_11e9_a019_0242ac1c0002row1_col2 {\n",
              "            background-color:  #b40426;\n",
              "        }    #T_0c1284fa_5e2d_11e9_a019_0242ac1c0002row1_col3 {\n",
              "            background-color:  #4055c8;\n",
              "        }    #T_0c1284fa_5e2d_11e9_a019_0242ac1c0002row1_col4 {\n",
              "            background-color:  #3e51c5;\n",
              "        }    #T_0c1284fa_5e2d_11e9_a019_0242ac1c0002row1_col5 {\n",
              "            background-color:  #7da0f9;\n",
              "        }    #T_0c1284fa_5e2d_11e9_a019_0242ac1c0002row1_col6 {\n",
              "            background-color:  #455cce;\n",
              "        }    #T_0c1284fa_5e2d_11e9_a019_0242ac1c0002row1_col7 {\n",
              "            background-color:  #3b4cc0;\n",
              "        }    #T_0c1284fa_5e2d_11e9_a019_0242ac1c0002row1_col8 {\n",
              "            background-color:  #3b4cc0;\n",
              "        }    #T_0c1284fa_5e2d_11e9_a019_0242ac1c0002row2_col0 {\n",
              "            background-color:  #3d50c3;\n",
              "        }    #T_0c1284fa_5e2d_11e9_a019_0242ac1c0002row2_col1 {\n",
              "            background-color:  #b40426;\n",
              "        }    #T_0c1284fa_5e2d_11e9_a019_0242ac1c0002row2_col2 {\n",
              "            background-color:  #b40426;\n",
              "        }    #T_0c1284fa_5e2d_11e9_a019_0242ac1c0002row2_col3 {\n",
              "            background-color:  #4055c8;\n",
              "        }    #T_0c1284fa_5e2d_11e9_a019_0242ac1c0002row2_col4 {\n",
              "            background-color:  #3f53c6;\n",
              "        }    #T_0c1284fa_5e2d_11e9_a019_0242ac1c0002row2_col5 {\n",
              "            background-color:  #7da0f9;\n",
              "        }    #T_0c1284fa_5e2d_11e9_a019_0242ac1c0002row2_col6 {\n",
              "            background-color:  #465ecf;\n",
              "        }    #T_0c1284fa_5e2d_11e9_a019_0242ac1c0002row2_col7 {\n",
              "            background-color:  #3b4cc0;\n",
              "        }    #T_0c1284fa_5e2d_11e9_a019_0242ac1c0002row2_col8 {\n",
              "            background-color:  #3b4cc0;\n",
              "        }    #T_0c1284fa_5e2d_11e9_a019_0242ac1c0002row3_col0 {\n",
              "            background-color:  #4055c8;\n",
              "        }    #T_0c1284fa_5e2d_11e9_a019_0242ac1c0002row3_col1 {\n",
              "            background-color:  #a3c2fe;\n",
              "        }    #T_0c1284fa_5e2d_11e9_a019_0242ac1c0002row3_col2 {\n",
              "            background-color:  #a2c1ff;\n",
              "        }    #T_0c1284fa_5e2d_11e9_a019_0242ac1c0002row3_col3 {\n",
              "            background-color:  #b40426;\n",
              "        }    #T_0c1284fa_5e2d_11e9_a019_0242ac1c0002row3_col4 {\n",
              "            background-color:  #3d50c3;\n",
              "        }    #T_0c1284fa_5e2d_11e9_a019_0242ac1c0002row3_col5 {\n",
              "            background-color:  #7b9ff9;\n",
              "        }    #T_0c1284fa_5e2d_11e9_a019_0242ac1c0002row3_col6 {\n",
              "            background-color:  #85a8fc;\n",
              "        }    #T_0c1284fa_5e2d_11e9_a019_0242ac1c0002row3_col7 {\n",
              "            background-color:  #8badfd;\n",
              "        }    #T_0c1284fa_5e2d_11e9_a019_0242ac1c0002row3_col8 {\n",
              "            background-color:  #9ebeff;\n",
              "        }    #T_0c1284fa_5e2d_11e9_a019_0242ac1c0002row4_col0 {\n",
              "            background-color:  #3b4cc0;\n",
              "        }    #T_0c1284fa_5e2d_11e9_a019_0242ac1c0002row4_col1 {\n",
              "            background-color:  #a2c1ff;\n",
              "        }    #T_0c1284fa_5e2d_11e9_a019_0242ac1c0002row4_col2 {\n",
              "            background-color:  #a2c1ff;\n",
              "        }    #T_0c1284fa_5e2d_11e9_a019_0242ac1c0002row4_col3 {\n",
              "            background-color:  #3d50c3;\n",
              "        }    #T_0c1284fa_5e2d_11e9_a019_0242ac1c0002row4_col4 {\n",
              "            background-color:  #b40426;\n",
              "        }    #T_0c1284fa_5e2d_11e9_a019_0242ac1c0002row4_col5 {\n",
              "            background-color:  #7da0f9;\n",
              "        }    #T_0c1284fa_5e2d_11e9_a019_0242ac1c0002row4_col6 {\n",
              "            background-color:  #82a6fb;\n",
              "        }    #T_0c1284fa_5e2d_11e9_a019_0242ac1c0002row4_col7 {\n",
              "            background-color:  #b7cff9;\n",
              "        }    #T_0c1284fa_5e2d_11e9_a019_0242ac1c0002row4_col8 {\n",
              "            background-color:  #cbd8ee;\n",
              "        }    #T_0c1284fa_5e2d_11e9_a019_0242ac1c0002row5_col0 {\n",
              "            background-color:  #3e51c5;\n",
              "        }    #T_0c1284fa_5e2d_11e9_a019_0242ac1c0002row5_col1 {\n",
              "            background-color:  #9fbfff;\n",
              "        }    #T_0c1284fa_5e2d_11e9_a019_0242ac1c0002row5_col2 {\n",
              "            background-color:  #9fbfff;\n",
              "        }    #T_0c1284fa_5e2d_11e9_a019_0242ac1c0002row5_col3 {\n",
              "            background-color:  #3b4cc0;\n",
              "        }    #T_0c1284fa_5e2d_11e9_a019_0242ac1c0002row5_col4 {\n",
              "            background-color:  #3b4cc0;\n",
              "        }    #T_0c1284fa_5e2d_11e9_a019_0242ac1c0002row5_col5 {\n",
              "            background-color:  #b40426;\n",
              "        }    #T_0c1284fa_5e2d_11e9_a019_0242ac1c0002row5_col6 {\n",
              "            background-color:  #81a4fb;\n",
              "        }    #T_0c1284fa_5e2d_11e9_a019_0242ac1c0002row5_col7 {\n",
              "            background-color:  #536edd;\n",
              "        }    #T_0c1284fa_5e2d_11e9_a019_0242ac1c0002row5_col8 {\n",
              "            background-color:  #6180e9;\n",
              "        }    #T_0c1284fa_5e2d_11e9_a019_0242ac1c0002row6_col0 {\n",
              "            background-color:  #3d50c3;\n",
              "        }    #T_0c1284fa_5e2d_11e9_a019_0242ac1c0002row6_col1 {\n",
              "            background-color:  #6687ed;\n",
              "        }    #T_0c1284fa_5e2d_11e9_a019_0242ac1c0002row6_col2 {\n",
              "            background-color:  #6788ee;\n",
              "        }    #T_0c1284fa_5e2d_11e9_a019_0242ac1c0002row6_col3 {\n",
              "            background-color:  #3f53c6;\n",
              "        }    #T_0c1284fa_5e2d_11e9_a019_0242ac1c0002row6_col4 {\n",
              "            background-color:  #3c4ec2;\n",
              "        }    #T_0c1284fa_5e2d_11e9_a019_0242ac1c0002row6_col5 {\n",
              "            background-color:  #7da0f9;\n",
              "        }    #T_0c1284fa_5e2d_11e9_a019_0242ac1c0002row6_col6 {\n",
              "            background-color:  #b40426;\n",
              "        }    #T_0c1284fa_5e2d_11e9_a019_0242ac1c0002row6_col7 {\n",
              "            background-color:  #4358cb;\n",
              "        }    #T_0c1284fa_5e2d_11e9_a019_0242ac1c0002row6_col8 {\n",
              "            background-color:  #5e7de7;\n",
              "        }    #T_0c1284fa_5e2d_11e9_a019_0242ac1c0002row7_col0 {\n",
              "            background-color:  #3d50c3;\n",
              "        }    #T_0c1284fa_5e2d_11e9_a019_0242ac1c0002row7_col1 {\n",
              "            background-color:  #536edd;\n",
              "        }    #T_0c1284fa_5e2d_11e9_a019_0242ac1c0002row7_col2 {\n",
              "            background-color:  #536edd;\n",
              "        }    #T_0c1284fa_5e2d_11e9_a019_0242ac1c0002row7_col3 {\n",
              "            background-color:  #3d50c3;\n",
              "        }    #T_0c1284fa_5e2d_11e9_a019_0242ac1c0002row7_col4 {\n",
              "            background-color:  #7295f4;\n",
              "        }    #T_0c1284fa_5e2d_11e9_a019_0242ac1c0002row7_col5 {\n",
              "            background-color:  #455cce;\n",
              "        }    #T_0c1284fa_5e2d_11e9_a019_0242ac1c0002row7_col6 {\n",
              "            background-color:  #3b4cc0;\n",
              "        }    #T_0c1284fa_5e2d_11e9_a019_0242ac1c0002row7_col7 {\n",
              "            background-color:  #b40426;\n",
              "        }    #T_0c1284fa_5e2d_11e9_a019_0242ac1c0002row7_col8 {\n",
              "            background-color:  #ec7f63;\n",
              "        }    #T_0c1284fa_5e2d_11e9_a019_0242ac1c0002row8_col0 {\n",
              "            background-color:  #3e51c5;\n",
              "        }    #T_0c1284fa_5e2d_11e9_a019_0242ac1c0002row8_col1 {\n",
              "            background-color:  #3b4cc0;\n",
              "        }    #T_0c1284fa_5e2d_11e9_a019_0242ac1c0002row8_col2 {\n",
              "            background-color:  #3b4cc0;\n",
              "        }    #T_0c1284fa_5e2d_11e9_a019_0242ac1c0002row8_col3 {\n",
              "            background-color:  #3b4cc0;\n",
              "        }    #T_0c1284fa_5e2d_11e9_a019_0242ac1c0002row8_col4 {\n",
              "            background-color:  #799cf8;\n",
              "        }    #T_0c1284fa_5e2d_11e9_a019_0242ac1c0002row8_col5 {\n",
              "            background-color:  #3b4cc0;\n",
              "        }    #T_0c1284fa_5e2d_11e9_a019_0242ac1c0002row8_col6 {\n",
              "            background-color:  #3d50c3;\n",
              "        }    #T_0c1284fa_5e2d_11e9_a019_0242ac1c0002row8_col7 {\n",
              "            background-color:  #ef886b;\n",
              "        }    #T_0c1284fa_5e2d_11e9_a019_0242ac1c0002row8_col8 {\n",
              "            background-color:  #b40426;\n",
              "        }</style>  \n",
              "<table id=\"T_0c1284fa_5e2d_11e9_a019_0242ac1c0002\" > \n",
              "<thead>    <tr> \n",
              "        <th class=\"blank level0\" ></th> \n",
              "        <th class=\"col_heading level0 col0\" >policy_number</th> \n",
              "        <th class=\"col_heading level0 col1\" >Age</th> \n",
              "        <th class=\"col_heading level0 col2\" >Years of Driving Experience</th> \n",
              "        <th class=\"col_heading level0 col3\" >Number of Vehicles</th> \n",
              "        <th class=\"col_heading level0 col4\" >Gender</th> \n",
              "        <th class=\"col_heading level0 col5\" >Married</th> \n",
              "        <th class=\"col_heading level0 col6\" >Vehicle Age</th> \n",
              "        <th class=\"col_heading level0 col7\" >Fuel Type</th> \n",
              "        <th class=\"col_heading level0 col8\" >Losses</th> \n",
              "    </tr></thead> \n",
              "<tbody>    <tr> \n",
              "        <th id=\"T_0c1284fa_5e2d_11e9_a019_0242ac1c0002level0_row0\" class=\"row_heading level0 row0\" >policy_number</th> \n",
              "        <td id=\"T_0c1284fa_5e2d_11e9_a019_0242ac1c0002row0_col0\" class=\"data row0 col0\" >1</td> \n",
              "        <td id=\"T_0c1284fa_5e2d_11e9_a019_0242ac1c0002row0_col1\" class=\"data row0 col1\" >0.00066</td> \n",
              "        <td id=\"T_0c1284fa_5e2d_11e9_a019_0242ac1c0002row0_col2\" class=\"data row0 col2\" >0.0013</td> \n",
              "        <td id=\"T_0c1284fa_5e2d_11e9_a019_0242ac1c0002row0_col3\" class=\"data row0 col3\" >0.013</td> \n",
              "        <td id=\"T_0c1284fa_5e2d_11e9_a019_0242ac1c0002row0_col4\" class=\"data row0 col4\" >-0.0092</td> \n",
              "        <td id=\"T_0c1284fa_5e2d_11e9_a019_0242ac1c0002row0_col5\" class=\"data row0 col5\" >0.0051</td> \n",
              "        <td id=\"T_0c1284fa_5e2d_11e9_a019_0242ac1c0002row0_col6\" class=\"data row0 col6\" >-0.0013</td> \n",
              "        <td id=\"T_0c1284fa_5e2d_11e9_a019_0242ac1c0002row0_col7\" class=\"data row0 col7\" >0.0024</td> \n",
              "        <td id=\"T_0c1284fa_5e2d_11e9_a019_0242ac1c0002row0_col8\" class=\"data row0 col8\" >0.0046</td> \n",
              "    </tr>    <tr> \n",
              "        <th id=\"T_0c1284fa_5e2d_11e9_a019_0242ac1c0002level0_row1\" class=\"row_heading level0 row1\" >Age</th> \n",
              "        <td id=\"T_0c1284fa_5e2d_11e9_a019_0242ac1c0002row1_col0\" class=\"data row1 col0\" >0.00066</td> \n",
              "        <td id=\"T_0c1284fa_5e2d_11e9_a019_0242ac1c0002row1_col1\" class=\"data row1 col1\" >1</td> \n",
              "        <td id=\"T_0c1284fa_5e2d_11e9_a019_0242ac1c0002row1_col2\" class=\"data row1 col2\" >1</td> \n",
              "        <td id=\"T_0c1284fa_5e2d_11e9_a019_0242ac1c0002row1_col3\" class=\"data row1 col3\" >0.0084</td> \n",
              "        <td id=\"T_0c1284fa_5e2d_11e9_a019_0242ac1c0002row1_col4\" class=\"data row1 col4\" >0.0054</td> \n",
              "        <td id=\"T_0c1284fa_5e2d_11e9_a019_0242ac1c0002row1_col5\" class=\"data row1 col5\" >-0.0043</td> \n",
              "        <td id=\"T_0c1284fa_5e2d_11e9_a019_0242ac1c0002row1_col6\" class=\"data row1 col6\" >-0.24</td> \n",
              "        <td id=\"T_0c1284fa_5e2d_11e9_a019_0242ac1c0002row1_col7\" class=\"data row1 col7\" >-0.33</td> \n",
              "        <td id=\"T_0c1284fa_5e2d_11e9_a019_0242ac1c0002row1_col8\" class=\"data row1 col8\" >-0.44</td> \n",
              "    </tr>    <tr> \n",
              "        <th id=\"T_0c1284fa_5e2d_11e9_a019_0242ac1c0002level0_row2\" class=\"row_heading level0 row2\" >Years of Driving Experience</th> \n",
              "        <td id=\"T_0c1284fa_5e2d_11e9_a019_0242ac1c0002row2_col0\" class=\"data row2 col0\" >0.0013</td> \n",
              "        <td id=\"T_0c1284fa_5e2d_11e9_a019_0242ac1c0002row2_col1\" class=\"data row2 col1\" >1</td> \n",
              "        <td id=\"T_0c1284fa_5e2d_11e9_a019_0242ac1c0002row2_col2\" class=\"data row2 col2\" >1</td> \n",
              "        <td id=\"T_0c1284fa_5e2d_11e9_a019_0242ac1c0002row2_col3\" class=\"data row2 col3\" >0.0085</td> \n",
              "        <td id=\"T_0c1284fa_5e2d_11e9_a019_0242ac1c0002row2_col4\" class=\"data row2 col4\" >0.0074</td> \n",
              "        <td id=\"T_0c1284fa_5e2d_11e9_a019_0242ac1c0002row2_col5\" class=\"data row2 col5\" >-0.005</td> \n",
              "        <td id=\"T_0c1284fa_5e2d_11e9_a019_0242ac1c0002row2_col6\" class=\"data row2 col6\" >-0.24</td> \n",
              "        <td id=\"T_0c1284fa_5e2d_11e9_a019_0242ac1c0002row2_col7\" class=\"data row2 col7\" >-0.33</td> \n",
              "        <td id=\"T_0c1284fa_5e2d_11e9_a019_0242ac1c0002row2_col8\" class=\"data row2 col8\" >-0.44</td> \n",
              "    </tr>    <tr> \n",
              "        <th id=\"T_0c1284fa_5e2d_11e9_a019_0242ac1c0002level0_row3\" class=\"row_heading level0 row3\" >Number of Vehicles</th> \n",
              "        <td id=\"T_0c1284fa_5e2d_11e9_a019_0242ac1c0002row3_col0\" class=\"data row3 col0\" >0.013</td> \n",
              "        <td id=\"T_0c1284fa_5e2d_11e9_a019_0242ac1c0002row3_col1\" class=\"data row3 col1\" >0.0084</td> \n",
              "        <td id=\"T_0c1284fa_5e2d_11e9_a019_0242ac1c0002row3_col2\" class=\"data row3 col2\" >0.0085</td> \n",
              "        <td id=\"T_0c1284fa_5e2d_11e9_a019_0242ac1c0002row3_col3\" class=\"data row3 col3\" >1</td> \n",
              "        <td id=\"T_0c1284fa_5e2d_11e9_a019_0242ac1c0002row3_col4\" class=\"data row3 col4\" >-0.0012</td> \n",
              "        <td id=\"T_0c1284fa_5e2d_11e9_a019_0242ac1c0002row3_col5\" class=\"data row3 col5\" >-0.0095</td> \n",
              "        <td id=\"T_0c1284fa_5e2d_11e9_a019_0242ac1c0002row3_col6\" class=\"data row3 col6\" >0.0059</td> \n",
              "        <td id=\"T_0c1284fa_5e2d_11e9_a019_0242ac1c0002row3_col7\" class=\"data row3 col7\" >-0.0034</td> \n",
              "        <td id=\"T_0c1284fa_5e2d_11e9_a019_0242ac1c0002row3_col8\" class=\"data row3 col8\" >-0.012</td> \n",
              "    </tr>    <tr> \n",
              "        <th id=\"T_0c1284fa_5e2d_11e9_a019_0242ac1c0002level0_row4\" class=\"row_heading level0 row4\" >Gender</th> \n",
              "        <td id=\"T_0c1284fa_5e2d_11e9_a019_0242ac1c0002row4_col0\" class=\"data row4 col0\" >-0.0092</td> \n",
              "        <td id=\"T_0c1284fa_5e2d_11e9_a019_0242ac1c0002row4_col1\" class=\"data row4 col1\" >0.0054</td> \n",
              "        <td id=\"T_0c1284fa_5e2d_11e9_a019_0242ac1c0002row4_col2\" class=\"data row4 col2\" >0.0074</td> \n",
              "        <td id=\"T_0c1284fa_5e2d_11e9_a019_0242ac1c0002row4_col3\" class=\"data row4 col3\" >-0.0012</td> \n",
              "        <td id=\"T_0c1284fa_5e2d_11e9_a019_0242ac1c0002row4_col4\" class=\"data row4 col4\" >1</td> \n",
              "        <td id=\"T_0c1284fa_5e2d_11e9_a019_0242ac1c0002row4_col5\" class=\"data row4 col5\" >-0.008</td> \n",
              "        <td id=\"T_0c1284fa_5e2d_11e9_a019_0242ac1c0002row4_col6\" class=\"data row4 col6\" >-0.0035</td> \n",
              "        <td id=\"T_0c1284fa_5e2d_11e9_a019_0242ac1c0002row4_col7\" class=\"data row4 col7\" >0.17</td> \n",
              "        <td id=\"T_0c1284fa_5e2d_11e9_a019_0242ac1c0002row4_col8\" class=\"data row4 col8\" >0.18</td> \n",
              "    </tr>    <tr> \n",
              "        <th id=\"T_0c1284fa_5e2d_11e9_a019_0242ac1c0002level0_row5\" class=\"row_heading level0 row5\" >Married</th> \n",
              "        <td id=\"T_0c1284fa_5e2d_11e9_a019_0242ac1c0002row5_col0\" class=\"data row5 col0\" >0.0051</td> \n",
              "        <td id=\"T_0c1284fa_5e2d_11e9_a019_0242ac1c0002row5_col1\" class=\"data row5 col1\" >-0.0043</td> \n",
              "        <td id=\"T_0c1284fa_5e2d_11e9_a019_0242ac1c0002row5_col2\" class=\"data row5 col2\" >-0.005</td> \n",
              "        <td id=\"T_0c1284fa_5e2d_11e9_a019_0242ac1c0002row5_col3\" class=\"data row5 col3\" >-0.0095</td> \n",
              "        <td id=\"T_0c1284fa_5e2d_11e9_a019_0242ac1c0002row5_col4\" class=\"data row5 col4\" >-0.008</td> \n",
              "        <td id=\"T_0c1284fa_5e2d_11e9_a019_0242ac1c0002row5_col5\" class=\"data row5 col5\" >1</td> \n",
              "        <td id=\"T_0c1284fa_5e2d_11e9_a019_0242ac1c0002row5_col6\" class=\"data row5 col6\" >-0.0083</td> \n",
              "        <td id=\"T_0c1284fa_5e2d_11e9_a019_0242ac1c0002row5_col7\" class=\"data row5 col7\" >-0.22</td> \n",
              "        <td id=\"T_0c1284fa_5e2d_11e9_a019_0242ac1c0002row5_col8\" class=\"data row5 col8\" >-0.27</td> \n",
              "    </tr>    <tr> \n",
              "        <th id=\"T_0c1284fa_5e2d_11e9_a019_0242ac1c0002level0_row6\" class=\"row_heading level0 row6\" >Vehicle Age</th> \n",
              "        <td id=\"T_0c1284fa_5e2d_11e9_a019_0242ac1c0002row6_col0\" class=\"data row6 col0\" >-0.0013</td> \n",
              "        <td id=\"T_0c1284fa_5e2d_11e9_a019_0242ac1c0002row6_col1\" class=\"data row6 col1\" >-0.24</td> \n",
              "        <td id=\"T_0c1284fa_5e2d_11e9_a019_0242ac1c0002row6_col2\" class=\"data row6 col2\" >-0.24</td> \n",
              "        <td id=\"T_0c1284fa_5e2d_11e9_a019_0242ac1c0002row6_col3\" class=\"data row6 col3\" >0.0059</td> \n",
              "        <td id=\"T_0c1284fa_5e2d_11e9_a019_0242ac1c0002row6_col4\" class=\"data row6 col4\" >-0.0035</td> \n",
              "        <td id=\"T_0c1284fa_5e2d_11e9_a019_0242ac1c0002row6_col5\" class=\"data row6 col5\" >-0.0083</td> \n",
              "        <td id=\"T_0c1284fa_5e2d_11e9_a019_0242ac1c0002row6_col6\" class=\"data row6 col6\" >1</td> \n",
              "        <td id=\"T_0c1284fa_5e2d_11e9_a019_0242ac1c0002row6_col7\" class=\"data row6 col7\" >-0.29</td> \n",
              "        <td id=\"T_0c1284fa_5e2d_11e9_a019_0242ac1c0002row6_col8\" class=\"data row6 col8\" >-0.27</td> \n",
              "    </tr>    <tr> \n",
              "        <th id=\"T_0c1284fa_5e2d_11e9_a019_0242ac1c0002level0_row7\" class=\"row_heading level0 row7\" >Fuel Type</th> \n",
              "        <td id=\"T_0c1284fa_5e2d_11e9_a019_0242ac1c0002row7_col0\" class=\"data row7 col0\" >0.0024</td> \n",
              "        <td id=\"T_0c1284fa_5e2d_11e9_a019_0242ac1c0002row7_col1\" class=\"data row7 col1\" >-0.33</td> \n",
              "        <td id=\"T_0c1284fa_5e2d_11e9_a019_0242ac1c0002row7_col2\" class=\"data row7 col2\" >-0.33</td> \n",
              "        <td id=\"T_0c1284fa_5e2d_11e9_a019_0242ac1c0002row7_col3\" class=\"data row7 col3\" >-0.0034</td> \n",
              "        <td id=\"T_0c1284fa_5e2d_11e9_a019_0242ac1c0002row7_col4\" class=\"data row7 col4\" >0.17</td> \n",
              "        <td id=\"T_0c1284fa_5e2d_11e9_a019_0242ac1c0002row7_col5\" class=\"data row7 col5\" >-0.22</td> \n",
              "        <td id=\"T_0c1284fa_5e2d_11e9_a019_0242ac1c0002row7_col6\" class=\"data row7 col6\" >-0.29</td> \n",
              "        <td id=\"T_0c1284fa_5e2d_11e9_a019_0242ac1c0002row7_col7\" class=\"data row7 col7\" >1</td> \n",
              "        <td id=\"T_0c1284fa_5e2d_11e9_a019_0242ac1c0002row7_col8\" class=\"data row7 col8\" >0.72</td> \n",
              "    </tr>    <tr> \n",
              "        <th id=\"T_0c1284fa_5e2d_11e9_a019_0242ac1c0002level0_row8\" class=\"row_heading level0 row8\" >Losses</th> \n",
              "        <td id=\"T_0c1284fa_5e2d_11e9_a019_0242ac1c0002row8_col0\" class=\"data row8 col0\" >0.0046</td> \n",
              "        <td id=\"T_0c1284fa_5e2d_11e9_a019_0242ac1c0002row8_col1\" class=\"data row8 col1\" >-0.44</td> \n",
              "        <td id=\"T_0c1284fa_5e2d_11e9_a019_0242ac1c0002row8_col2\" class=\"data row8 col2\" >-0.44</td> \n",
              "        <td id=\"T_0c1284fa_5e2d_11e9_a019_0242ac1c0002row8_col3\" class=\"data row8 col3\" >-0.012</td> \n",
              "        <td id=\"T_0c1284fa_5e2d_11e9_a019_0242ac1c0002row8_col4\" class=\"data row8 col4\" >0.18</td> \n",
              "        <td id=\"T_0c1284fa_5e2d_11e9_a019_0242ac1c0002row8_col5\" class=\"data row8 col5\" >-0.27</td> \n",
              "        <td id=\"T_0c1284fa_5e2d_11e9_a019_0242ac1c0002row8_col6\" class=\"data row8 col6\" >-0.27</td> \n",
              "        <td id=\"T_0c1284fa_5e2d_11e9_a019_0242ac1c0002row8_col7\" class=\"data row8 col7\" >0.72</td> \n",
              "        <td id=\"T_0c1284fa_5e2d_11e9_a019_0242ac1c0002row8_col8\" class=\"data row8 col8\" >1</td> \n",
              "    </tr></tbody> \n",
              "</table> "
            ],
            "text/plain": [
              "<pandas.io.formats.style.Styler at 0x7f43ebd57dd8>"
            ]
          },
          "metadata": {
            "tags": []
          },
          "execution_count": 15
        },
        {
          "output_type": "display_data",
          "data": {
            "image/png": "[encoded data removed]",
            "text/plain": [
              "<Figure size 720x720 with 1 Axes>"
            ]
          },
          "metadata": {
            "tags": []
          }
        }
      ]
    },
    {
      "metadata": {
        "id": "85behNW_cv1P",
        "colab_type": "code",
        "colab": {}
      },
      "cell_type": "code",
      "source": [
        ""
      ],
      "execution_count": 0,
      "outputs": []
    },
    {
      "metadata": {
        "id": "yLp04j_8tT4U",
        "colab_type": "code",
        "outputId": "63d22aa6-fffd-476d-8df2-984f177c3be2",
        "colab": {
          "base_uri": "https://localhost:8080/",
          "height": 286
        }
      },
      "cell_type": "code",
      "source": [
        "# plt.scatter(df['Years of Driving Experience'], df['Losses'])\n",
        "# plt.scatter(df['Age'], df['Losses'])\n",
        "plt.scatter(df['Fuel Type'], df['Losses'])\n"
      ],
      "execution_count": 0,
      "outputs": [
        {
          "output_type": "execute_result",
          "data": {
            "text/plain": [
              "<matplotlib.collections.PathCollection at 0x7f43eb6b4550>"
            ]
          },
          "metadata": {
            "tags": []
          },
          "execution_count": 16
        },
        {
          "output_type": "display_data",
          "data": {
            "image/png": "[encoded data removed]",
            "text/plain": [
              "<Figure size 432x288 with 1 Axes>"
            ]
          },
          "metadata": {
            "tags": []
          }
        }
      ]
    },
    {
      "metadata": {
        "id": "ctQ_h__rcQ5O",
        "colab_type": "code",
        "outputId": "fc5f36b3-1fbe-48f4-b16b-731e9803ebd1",
        "colab": {
          "base_uri": "https://localhost:8080/",
          "height": 34
        }
      },
      "cell_type": "code",
      "source": [
        "df.duplicated(['policy_number']).loc[df['policy_number'] == True]\n"
      ],
      "execution_count": 0,
      "outputs": [
        {
          "output_type": "execute_result",
          "data": {
            "text/plain": [
              "Series([], dtype: bool)"
            ]
          },
          "metadata": {
            "tags": []
          },
          "execution_count": 18
        }
      ]
    },
    {
      "metadata": {
        "id": "xjN8WHTCcZs-",
        "colab_type": "code",
        "colab": {}
      },
      "cell_type": "code",
      "source": [
        "df['policy_number'].duplicated().count()"
      ],
      "execution_count": 0,
      "outputs": []
    },
    {
      "metadata": {
        "id": "A1MgmHlmpWIR",
        "colab_type": "code",
        "colab": {}
      },
      "cell_type": "code",
      "source": [
        "x = df.groupby(['policy_number']).size()\n",
        "len(x)"
      ],
      "execution_count": 0,
      "outputs": []
    },
    {
      "metadata": {
        "id": "_NtquzY-vy3U",
        "colab_type": "code",
        "colab": {}
      },
      "cell_type": "code",
      "source": [
        "crashed_df = df[df.duplicated(subset=['policy_number'])]\n",
        "unique_pn_array = crashed_df.policy_number.unique()\n",
        "unique_pn_array"
      ],
      "execution_count": 0,
      "outputs": []
    },
    {
      "metadata": {
        "id": "y2sEBVW72ddZ",
        "colab_type": "text"
      },
      "cell_type": "markdown",
      "source": [
        ""
      ]
    },
    {
      "metadata": {
        "id": "0b6ChEGcqI0V",
        "colab_type": "code",
        "colab": {}
      },
      "cell_type": "code",
      "source": [
        "df.groupby('policy_number').size()"
      ],
      "execution_count": 0,
      "outputs": []
    },
    {
      "metadata": {
        "id": "NO3_k3I-3QjE",
        "colab_type": "code",
        "colab": {}
      },
      "cell_type": "code",
      "source": [
        "df[df.policy_number.isin(unique_pn_array)].sort_values('policy_number').groupby('policy_number').size().to_frame('size').sort_values('size').groupby('size').size()"
      ],
      "execution_count": 0,
      "outputs": []
    },
    {
      "metadata": {
        "id": "-H3SOPr7kA8h",
        "colab_type": "code",
        "colab": {}
      },
      "cell_type": "code",
      "source": [
        "\n"
      ],
      "execution_count": 0,
      "outputs": []
    },
    {
      "metadata": {
        "id": "oBKQH8x7z4jK",
        "colab_type": "code",
        "colab": {}
      },
      "cell_type": "code",
      "source": [
        "cr = df[df.policy_number.isin(unique_pn_array)]\n",
        "\n",
        "corr = cr.corr()\n",
        "            \n",
        "fig, ax = plt.subplots(figsize=(10, 10))\n",
        "ax.matshow(corr)\n",
        "plt.xticks(range(len(corr.columns)), corr.columns)\n",
        "plt.yticks(range(len(corr.columns)), corr.columns)\n",
        "corr.style.background_gradient(cmap='coolwarm').set_precision(2)"
      ],
      "execution_count": 0,
      "outputs": []
    },
    {
      "metadata": {
        "id": "jHqGzDDE1J4i",
        "colab_type": "code",
        "colab": {}
      },
      "cell_type": "code",
      "source": [
        "cr.boxplot(column=['Losses'], by='Married')"
      ],
      "execution_count": 0,
      "outputs": []
    },
    {
      "metadata": {
        "id": "54mq9jNZlM-S",
        "colab_type": "code",
        "colab": {}
      },
      "cell_type": "code",
      "source": [
        "fig = plt.figure()\n",
        "a = cr.boxplot(column=['Losses'], by='Vehicle Age')\n",
        "b = cr.boxplot(column=['Losses'], by='Years of Driving Experience')\n",
        "c = cr.boxplot(column=['Losses'], by='Gender')\n",
        "d = cr.boxplot(column=['Losses'], by='Fuel Type')\n",
        "\n",
        "a.plot()\n",
        "b.plot()\n",
        "c.plot()\n",
        "d.plot()"
      ],
      "execution_count": 0,
      "outputs": []
    },
    {
      "metadata": {
        "id": "eJKG3Jzzlwsb",
        "colab_type": "code",
        "colab": {}
      },
      "cell_type": "code",
      "source": [
        "fig, ax = plt.subplots(figsize=(8, 6))\n",
        "a = cr[['Age', 'Losses']].groupby('Age').sum()\n",
        "b = cr.groupby('Age').size().plot()\n",
        "plt.grid()\n",
        "a.plot()\n",
        "plt.grid()\n",
        "b.plot()\n",
        "\n"
      ],
      "execution_count": 0,
      "outputs": []
    },
    {
      "metadata": {
        "id": "8nHZLNhYm-c3",
        "colab_type": "code",
        "colab": {}
      },
      "cell_type": "code",
      "source": [
        "cr.groupby('Married').size()"
      ],
      "execution_count": 0,
      "outputs": []
    },
    {
      "metadata": {
        "id": "XAuKmo9qo8td",
        "colab_type": "code",
        "colab": {}
      },
      "cell_type": "code",
      "source": [
        "cr.groupby('Fuel Type').size()"
      ],
      "execution_count": 0,
      "outputs": []
    },
    {
      "metadata": {
        "id": "IlBClyW2fF_G",
        "colab_type": "code",
        "colab": {}
      },
      "cell_type": "code",
      "source": [
        ""
      ],
      "execution_count": 0,
      "outputs": []
    }
  ]
}