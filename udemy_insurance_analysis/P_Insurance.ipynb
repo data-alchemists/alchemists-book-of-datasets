{
  "nbformat": 4,
  "nbformat_minor": 0,
  "metadata": {
    "colab": {
      "name": "P_Insurance.ipynb",
      "version": "0.3.2",
      "provenance": [],
      "collapsed_sections": [],
      "toc_visible": true
    },
    "kernelspec": {
      "name": "python3",
      "display_name": "Python 3"
    }
  },
  "cells": [
    {
      "metadata": {
        "id": "ermFT8UFpRqn",
        "colab_type": "text"
      },
      "cell_type": "markdown",
      "source": [
        "# Insurance Losses - dataset analysis\n",
        "---\n",
        "This dataset represents the losses by policy_number of an insurance car company. An exploratory analysis will be taken in order to understand what kind of insights is possible to harvest from this dataset.\n"
      ]
    },
    {
      "metadata": {
        "id": "FTDHsyUGpA1V",
        "colab_type": "code",
        "colab": {}
      },
      "cell_type": "code",
      "source": [
        "# importing the core lib\n",
        "import pandas as pd\n",
        "import numpy as np\n",
        "from scipy import stats\n",
        "from sklearn import preprocessing\n",
        "from sklearn.model_selection import KFold\n",
        "from sklearn.linear_model import LinearRegression\n",
        "import matplotlib.pyplot as plt\n",
        "%matplotlib inline"
      ],
      "execution_count": 0,
      "outputs": []
    },
    {
      "metadata": {
        "id": "csmkItSqEOsY",
        "colab_type": "code",
        "colab": {}
      },
      "cell_type": "code",
      "source": [
        "# downloading the csv file from the drive\n",
        "%%sh\n",
        "wget --quiet --output-document insurance_losses.csv 'https://drive.google.com/uc?authuser=0&id=1X-jvKn6mwxmyyqFidvC2eU3GjAQyFKvx&export=download'"
      ],
      "execution_count": 0,
      "outputs": []
    },
    {
      "metadata": {
        "id": "gu5j0ihYXUg6",
        "colab_type": "code",
        "colab": {}
      },
      "cell_type": "code",
      "source": [
        "# turning the csv into a dataframe and renaming policy_number to be easier to use\n",
        "df = pd.read_csv('insurance_losses.csv', )\n",
        "df = df.rename(columns={\n",
        "    'Policy Number': 'policy_number'\n",
        "})"
      ],
      "execution_count": 0,
      "outputs": []
    },
    {
      "metadata": {
        "id": "5fVieOwsFNIO",
        "colab_type": "code",
        "outputId": "917f299e-037d-4ec1-81f2-ee4e405a3b08",
        "colab": {
          "base_uri": "https://localhost:8080/",
          "height": 227
        }
      },
      "cell_type": "code",
      "source": [
        "# showing the head of the dataframe\n",
        "df.head()"
      ],
      "execution_count": 18,
      "outputs": [
        {
          "output_type": "execute_result",
          "data": {
            "text/html": [
              "<div>\n",
              "<style scoped>\n",
              "    .dataframe tbody tr th:only-of-type {\n",
              "        vertical-align: middle;\n",
              "    }\n",
              "\n",
              "    .dataframe tbody tr th {\n",
              "        vertical-align: top;\n",
              "    }\n",
              "\n",
              "    .dataframe thead th {\n",
              "        text-align: right;\n",
              "    }\n",
              "</style>\n",
              "<table border=\"1\" class=\"dataframe\">\n",
              "  <thead>\n",
              "    <tr style=\"text-align: right;\">\n",
              "      <th></th>\n",
              "      <th>Age</th>\n",
              "      <th>Years of Driving Experience</th>\n",
              "      <th>Number of Vehicles</th>\n",
              "      <th>Gender</th>\n",
              "      <th>Married</th>\n",
              "      <th>Vehicle Age</th>\n",
              "      <th>Fuel Type</th>\n",
              "      <th>Losses</th>\n",
              "    </tr>\n",
              "    <tr>\n",
              "      <th>Policy Number</th>\n",
              "      <th></th>\n",
              "      <th></th>\n",
              "      <th></th>\n",
              "      <th></th>\n",
              "      <th></th>\n",
              "      <th></th>\n",
              "      <th></th>\n",
              "      <th></th>\n",
              "    </tr>\n",
              "  </thead>\n",
              "  <tbody>\n",
              "    <tr>\n",
              "      <th>150023</th>\n",
              "      <td>24</td>\n",
              "      <td>5</td>\n",
              "      <td>1</td>\n",
              "      <td>M</td>\n",
              "      <td>Married</td>\n",
              "      <td>11</td>\n",
              "      <td>P</td>\n",
              "      <td>203</td>\n",
              "    </tr>\n",
              "    <tr>\n",
              "      <th>152720</th>\n",
              "      <td>31</td>\n",
              "      <td>10</td>\n",
              "      <td>1</td>\n",
              "      <td>F</td>\n",
              "      <td>Single</td>\n",
              "      <td>6</td>\n",
              "      <td>P</td>\n",
              "      <td>402</td>\n",
              "    </tr>\n",
              "    <tr>\n",
              "      <th>174207</th>\n",
              "      <td>56</td>\n",
              "      <td>37</td>\n",
              "      <td>1</td>\n",
              "      <td>M</td>\n",
              "      <td>Married</td>\n",
              "      <td>0</td>\n",
              "      <td>D</td>\n",
              "      <td>553</td>\n",
              "    </tr>\n",
              "    <tr>\n",
              "      <th>139895</th>\n",
              "      <td>52</td>\n",
              "      <td>31</td>\n",
              "      <td>1</td>\n",
              "      <td>F</td>\n",
              "      <td>Married</td>\n",
              "      <td>15</td>\n",
              "      <td>P</td>\n",
              "      <td>292</td>\n",
              "    </tr>\n",
              "    <tr>\n",
              "      <th>174407</th>\n",
              "      <td>20</td>\n",
              "      <td>3</td>\n",
              "      <td>1</td>\n",
              "      <td>M</td>\n",
              "      <td>Single</td>\n",
              "      <td>15</td>\n",
              "      <td>P</td>\n",
              "      <td>247</td>\n",
              "    </tr>\n",
              "  </tbody>\n",
              "</table>\n",
              "</div>"
            ],
            "text/plain": [
              "               Age  Years of Driving Experience  Number of Vehicles Gender  \\\n",
              "Policy Number                                                                \n",
              "150023          24                            5                   1      M   \n",
              "152720          31                           10                   1      F   \n",
              "174207          56                           37                   1      M   \n",
              "139895          52                           31                   1      F   \n",
              "174407          20                            3                   1      M   \n",
              "\n",
              "               Married  Vehicle Age Fuel Type  Losses  \n",
              "Policy Number                                          \n",
              "150023         Married           11         P     203  \n",
              "152720          Single            6         P     402  \n",
              "174207         Married            0         D     553  \n",
              "139895         Married           15         P     292  \n",
              "174407          Single           15         P     247  "
            ]
          },
          "metadata": {
            "tags": []
          },
          "execution_count": 18
        }
      ]
    },
    {
      "metadata": {
        "id": "1lVq_XHqFOsE",
        "colab_type": "code",
        "outputId": "abaf59cc-8e99-4e50-f231-db97f5a1f53c",
        "colab": {
          "base_uri": "https://localhost:8080/",
          "height": 287
        }
      },
      "cell_type": "code",
      "source": [
        "# describing the dataframe\n",
        "df.describe()"
      ],
      "execution_count": 5,
      "outputs": [
        {
          "output_type": "execute_result",
          "data": {
            "text/html": [
              "<div>\n",
              "<style scoped>\n",
              "    .dataframe tbody tr th:only-of-type {\n",
              "        vertical-align: middle;\n",
              "    }\n",
              "\n",
              "    .dataframe tbody tr th {\n",
              "        vertical-align: top;\n",
              "    }\n",
              "\n",
              "    .dataframe thead th {\n",
              "        text-align: right;\n",
              "    }\n",
              "</style>\n",
              "<table border=\"1\" class=\"dataframe\">\n",
              "  <thead>\n",
              "    <tr style=\"text-align: right;\">\n",
              "      <th></th>\n",
              "      <th>policy_number</th>\n",
              "      <th>Age</th>\n",
              "      <th>Years of Driving Experience</th>\n",
              "      <th>Number of Vehicles</th>\n",
              "      <th>Vehicle Age</th>\n",
              "      <th>Losses</th>\n",
              "    </tr>\n",
              "  </thead>\n",
              "  <tbody>\n",
              "    <tr>\n",
              "      <th>count</th>\n",
              "      <td>15290.000000</td>\n",
              "      <td>15290.000000</td>\n",
              "      <td>15290.000000</td>\n",
              "      <td>15290.000000</td>\n",
              "      <td>15290.000000</td>\n",
              "      <td>15290.000000</td>\n",
              "    </tr>\n",
              "    <tr>\n",
              "      <th>mean</th>\n",
              "      <td>149910.276651</td>\n",
              "      <td>42.328254</td>\n",
              "      <td>23.732897</td>\n",
              "      <td>2.495880</td>\n",
              "      <td>8.655723</td>\n",
              "      <td>389.858012</td>\n",
              "    </tr>\n",
              "    <tr>\n",
              "      <th>std</th>\n",
              "      <td>28948.806631</td>\n",
              "      <td>18.280511</td>\n",
              "      <td>17.850707</td>\n",
              "      <td>0.953776</td>\n",
              "      <td>4.344536</td>\n",
              "      <td>253.729469</td>\n",
              "    </tr>\n",
              "    <tr>\n",
              "      <th>min</th>\n",
              "      <td>100002.000000</td>\n",
              "      <td>16.000000</td>\n",
              "      <td>0.000000</td>\n",
              "      <td>1.000000</td>\n",
              "      <td>0.000000</td>\n",
              "      <td>13.000000</td>\n",
              "    </tr>\n",
              "    <tr>\n",
              "      <th>25%</th>\n",
              "      <td>124842.000000</td>\n",
              "      <td>24.000000</td>\n",
              "      <td>6.000000</td>\n",
              "      <td>2.000000</td>\n",
              "      <td>6.000000</td>\n",
              "      <td>226.000000</td>\n",
              "    </tr>\n",
              "    <tr>\n",
              "      <th>50%</th>\n",
              "      <td>149872.000000</td>\n",
              "      <td>42.000000</td>\n",
              "      <td>23.000000</td>\n",
              "      <td>2.000000</td>\n",
              "      <td>9.000000</td>\n",
              "      <td>355.000000</td>\n",
              "    </tr>\n",
              "    <tr>\n",
              "      <th>75%</th>\n",
              "      <td>175011.000000</td>\n",
              "      <td>61.000000</td>\n",
              "      <td>42.000000</td>\n",
              "      <td>3.000000</td>\n",
              "      <td>12.000000</td>\n",
              "      <td>489.000000</td>\n",
              "    </tr>\n",
              "    <tr>\n",
              "      <th>max</th>\n",
              "      <td>200000.000000</td>\n",
              "      <td>70.000000</td>\n",
              "      <td>53.000000</td>\n",
              "      <td>4.000000</td>\n",
              "      <td>15.000000</td>\n",
              "      <td>3500.000000</td>\n",
              "    </tr>\n",
              "  </tbody>\n",
              "</table>\n",
              "</div>"
            ],
            "text/plain": [
              "       policy_number           Age  Years of Driving Experience  \\\n",
              "count   15290.000000  15290.000000                 15290.000000   \n",
              "mean   149910.276651     42.328254                    23.732897   \n",
              "std     28948.806631     18.280511                    17.850707   \n",
              "min    100002.000000     16.000000                     0.000000   \n",
              "25%    124842.000000     24.000000                     6.000000   \n",
              "50%    149872.000000     42.000000                    23.000000   \n",
              "75%    175011.000000     61.000000                    42.000000   \n",
              "max    200000.000000     70.000000                    53.000000   \n",
              "\n",
              "       Number of Vehicles   Vehicle Age        Losses  \n",
              "count        15290.000000  15290.000000  15290.000000  \n",
              "mean             2.495880      8.655723    389.858012  \n",
              "std              0.953776      4.344536    253.729469  \n",
              "min              1.000000      0.000000     13.000000  \n",
              "25%              2.000000      6.000000    226.000000  \n",
              "50%              2.000000      9.000000    355.000000  \n",
              "75%              3.000000     12.000000    489.000000  \n",
              "max              4.000000     15.000000   3500.000000  "
            ]
          },
          "metadata": {
            "tags": []
          },
          "execution_count": 5
        }
      ]
    },
    {
      "metadata": {
        "id": "S6ZlPmwytGlT",
        "colab_type": "code",
        "cellView": "form",
        "outputId": "6b977fea-7f6b-478f-a8fb-20c6026a6dae",
        "colab": {
          "base_uri": "https://localhost:8080/",
          "height": 167
        }
      },
      "cell_type": "code",
      "source": [
        "#@title Histogram of Losses\n",
        "df.hist(variable_name, bins=30)"
      ],
      "execution_count": 6,
      "outputs": [
        {
          "output_type": "error",
          "ename": "NameError",
          "evalue": "ignored",
          "traceback": [
            "\u001b[0;31m---------------------------------------------------------------------------\u001b[0m",
            "\u001b[0;31mNameError\u001b[0m                                 Traceback (most recent call last)",
            "\u001b[0;32m<ipython-input-6-4bea0667d2b7>\u001b[0m in \u001b[0;36m<module>\u001b[0;34m()\u001b[0m\n\u001b[0;32m----> 1\u001b[0;31m \u001b[0mdf\u001b[0m\u001b[0;34m.\u001b[0m\u001b[0mhist\u001b[0m\u001b[0;34m(\u001b[0m\u001b[0mvariable_name\u001b[0m\u001b[0;34m,\u001b[0m \u001b[0mbins\u001b[0m\u001b[0;34m=\u001b[0m\u001b[0;36m30\u001b[0m\u001b[0;34m)\u001b[0m\u001b[0;34m\u001b[0m\u001b[0;34m\u001b[0m\u001b[0m\n\u001b[0m",
            "\u001b[0;31mNameError\u001b[0m: name 'variable_name' is not defined"
          ]
        }
      ]
    },
    {
      "metadata": {
        "id": "hOf-2HL61RLb",
        "colab_type": "code",
        "colab": {}
      },
      "cell_type": "code",
      "source": [
        "df['Losses'].groupby(df['Married']).describe().append(df['Losses'].groupby(df['Gender']).describe())"
      ],
      "execution_count": 0,
      "outputs": []
    },
    {
      "metadata": {
        "id": "Y-VySCLdIlt7",
        "colab_type": "code",
        "cellView": "form",
        "colab": {}
      },
      "cell_type": "code",
      "source": [
        "#@title Boxplot with Losses by Gender and by Married\n",
        "fig, ax =plt.subplots(1,2)\n",
        "sns.boxplot(df['Gender'],df['Losses'], ax=ax[0])\n",
        "sns.boxplot(df['Married'], df['Losses'] ,ax=ax[1])\n",
        "fig.show()"
      ],
      "execution_count": 0,
      "outputs": []
    },
    {
      "metadata": {
        "id": "_OaHbE39PuHM",
        "colab_type": "code",
        "colab": {}
      },
      "cell_type": "code",
      "source": [
        "df.groupby(['Losses']).size().plot()\n",
        "plt.show()"
      ],
      "execution_count": 0,
      "outputs": []
    },
    {
      "metadata": {
        "id": "aGHkZPg9xmVm",
        "colab_type": "code",
        "colab": {}
      },
      "cell_type": "code",
      "source": [
        "# 0 = P and 1 = D\n",
        "\n",
        "losses_by_fuel = df[['Fuel Type', 'Losses']].groupby('Fuel Type').sum()\n",
        "losses_by_fuel['size'] = df.groupby('Fuel Type').size()\n",
        "losses_by_fuel\n"
      ],
      "execution_count": 0,
      "outputs": []
    },
    {
      "metadata": {
        "id": "Z_booehNeywu",
        "colab_type": "code",
        "outputId": "077162e2-2be6-4463-acf7-e46f81839bd6",
        "colab": {
          "base_uri": "https://localhost:8080/",
          "height": 665
        }
      },
      "cell_type": "code",
      "source": [
        "# Replacing non numeric data to 0 and 1 to find correlation between them\n",
        "df = df.replace('Married', 1).replace('Single', 0).replace('F', 0).replace('M', 1).replace('P', 0).replace('D', 1)\n",
        "corr = df.corr()\n",
        "            \n",
        "fig, ax = plt.subplots(figsize=(8, 8))\n",
        "ax.matshow(corr, cmap='coolwarm')\n",
        "plt.xticks(range(len(corr.columns)), corr.columns)\n",
        "plt.yticks(range(len(corr.columns)), corr.columns)\n",
        "corr.style.background_gradient(cmap='coolwarm').set_precision(2)"
      ],
      "execution_count": 37,
      "outputs": [
        {
          "output_type": "execute_result",
          "data": {
            "text/html": [
              "<style  type=\"text/css\" >\n",
              "    #T_3098435e_6126_11e9_81c5_0242ac1c0002row0_col0 {\n",
              "            background-color:  #b40426;\n",
              "        }    #T_3098435e_6126_11e9_81c5_0242ac1c0002row0_col1 {\n",
              "            background-color:  #a1c0ff;\n",
              "        }    #T_3098435e_6126_11e9_81c5_0242ac1c0002row0_col2 {\n",
              "            background-color:  #a1c0ff;\n",
              "        }    #T_3098435e_6126_11e9_81c5_0242ac1c0002row0_col3 {\n",
              "            background-color:  #4257c9;\n",
              "        }    #T_3098435e_6126_11e9_81c5_0242ac1c0002row0_col4 {\n",
              "            background-color:  #3b4cc0;\n",
              "        }    #T_3098435e_6126_11e9_81c5_0242ac1c0002row0_col5 {\n",
              "            background-color:  #80a3fa;\n",
              "        }    #T_3098435e_6126_11e9_81c5_0242ac1c0002row0_col6 {\n",
              "            background-color:  #84a7fc;\n",
              "        }    #T_3098435e_6126_11e9_81c5_0242ac1c0002row0_col7 {\n",
              "            background-color:  #8caffe;\n",
              "        }    #T_3098435e_6126_11e9_81c5_0242ac1c0002row0_col8 {\n",
              "            background-color:  #a2c1ff;\n",
              "        }    #T_3098435e_6126_11e9_81c5_0242ac1c0002row1_col0 {\n",
              "            background-color:  #3d50c3;\n",
              "        }    #T_3098435e_6126_11e9_81c5_0242ac1c0002row1_col1 {\n",
              "            background-color:  #b40426;\n",
              "        }    #T_3098435e_6126_11e9_81c5_0242ac1c0002row1_col2 {\n",
              "            background-color:  #b40426;\n",
              "        }    #T_3098435e_6126_11e9_81c5_0242ac1c0002row1_col3 {\n",
              "            background-color:  #4055c8;\n",
              "        }    #T_3098435e_6126_11e9_81c5_0242ac1c0002row1_col4 {\n",
              "            background-color:  #3e51c5;\n",
              "        }    #T_3098435e_6126_11e9_81c5_0242ac1c0002row1_col5 {\n",
              "            background-color:  #7da0f9;\n",
              "        }    #T_3098435e_6126_11e9_81c5_0242ac1c0002row1_col6 {\n",
              "            background-color:  #455cce;\n",
              "        }    #T_3098435e_6126_11e9_81c5_0242ac1c0002row1_col7 {\n",
              "            background-color:  #3b4cc0;\n",
              "        }    #T_3098435e_6126_11e9_81c5_0242ac1c0002row1_col8 {\n",
              "            background-color:  #3b4cc0;\n",
              "        }    #T_3098435e_6126_11e9_81c5_0242ac1c0002row2_col0 {\n",
              "            background-color:  #3d50c3;\n",
              "        }    #T_3098435e_6126_11e9_81c5_0242ac1c0002row2_col1 {\n",
              "            background-color:  #b40426;\n",
              "        }    #T_3098435e_6126_11e9_81c5_0242ac1c0002row2_col2 {\n",
              "            background-color:  #b40426;\n",
              "        }    #T_3098435e_6126_11e9_81c5_0242ac1c0002row2_col3 {\n",
              "            background-color:  #4055c8;\n",
              "        }    #T_3098435e_6126_11e9_81c5_0242ac1c0002row2_col4 {\n",
              "            background-color:  #3f53c6;\n",
              "        }    #T_3098435e_6126_11e9_81c5_0242ac1c0002row2_col5 {\n",
              "            background-color:  #7da0f9;\n",
              "        }    #T_3098435e_6126_11e9_81c5_0242ac1c0002row2_col6 {\n",
              "            background-color:  #465ecf;\n",
              "        }    #T_3098435e_6126_11e9_81c5_0242ac1c0002row2_col7 {\n",
              "            background-color:  #3b4cc0;\n",
              "        }    #T_3098435e_6126_11e9_81c5_0242ac1c0002row2_col8 {\n",
              "            background-color:  #3b4cc0;\n",
              "        }    #T_3098435e_6126_11e9_81c5_0242ac1c0002row3_col0 {\n",
              "            background-color:  #4055c8;\n",
              "        }    #T_3098435e_6126_11e9_81c5_0242ac1c0002row3_col1 {\n",
              "            background-color:  #a3c2fe;\n",
              "        }    #T_3098435e_6126_11e9_81c5_0242ac1c0002row3_col2 {\n",
              "            background-color:  #a2c1ff;\n",
              "        }    #T_3098435e_6126_11e9_81c5_0242ac1c0002row3_col3 {\n",
              "            background-color:  #b40426;\n",
              "        }    #T_3098435e_6126_11e9_81c5_0242ac1c0002row3_col4 {\n",
              "            background-color:  #3d50c3;\n",
              "        }    #T_3098435e_6126_11e9_81c5_0242ac1c0002row3_col5 {\n",
              "            background-color:  #7b9ff9;\n",
              "        }    #T_3098435e_6126_11e9_81c5_0242ac1c0002row3_col6 {\n",
              "            background-color:  #85a8fc;\n",
              "        }    #T_3098435e_6126_11e9_81c5_0242ac1c0002row3_col7 {\n",
              "            background-color:  #8badfd;\n",
              "        }    #T_3098435e_6126_11e9_81c5_0242ac1c0002row3_col8 {\n",
              "            background-color:  #9ebeff;\n",
              "        }    #T_3098435e_6126_11e9_81c5_0242ac1c0002row4_col0 {\n",
              "            background-color:  #3b4cc0;\n",
              "        }    #T_3098435e_6126_11e9_81c5_0242ac1c0002row4_col1 {\n",
              "            background-color:  #a2c1ff;\n",
              "        }    #T_3098435e_6126_11e9_81c5_0242ac1c0002row4_col2 {\n",
              "            background-color:  #a2c1ff;\n",
              "        }    #T_3098435e_6126_11e9_81c5_0242ac1c0002row4_col3 {\n",
              "            background-color:  #3d50c3;\n",
              "        }    #T_3098435e_6126_11e9_81c5_0242ac1c0002row4_col4 {\n",
              "            background-color:  #b40426;\n",
              "        }    #T_3098435e_6126_11e9_81c5_0242ac1c0002row4_col5 {\n",
              "            background-color:  #7da0f9;\n",
              "        }    #T_3098435e_6126_11e9_81c5_0242ac1c0002row4_col6 {\n",
              "            background-color:  #82a6fb;\n",
              "        }    #T_3098435e_6126_11e9_81c5_0242ac1c0002row4_col7 {\n",
              "            background-color:  #b7cff9;\n",
              "        }    #T_3098435e_6126_11e9_81c5_0242ac1c0002row4_col8 {\n",
              "            background-color:  #cbd8ee;\n",
              "        }    #T_3098435e_6126_11e9_81c5_0242ac1c0002row5_col0 {\n",
              "            background-color:  #3e51c5;\n",
              "        }    #T_3098435e_6126_11e9_81c5_0242ac1c0002row5_col1 {\n",
              "            background-color:  #9fbfff;\n",
              "        }    #T_3098435e_6126_11e9_81c5_0242ac1c0002row5_col2 {\n",
              "            background-color:  #9fbfff;\n",
              "        }    #T_3098435e_6126_11e9_81c5_0242ac1c0002row5_col3 {\n",
              "            background-color:  #3b4cc0;\n",
              "        }    #T_3098435e_6126_11e9_81c5_0242ac1c0002row5_col4 {\n",
              "            background-color:  #3b4cc0;\n",
              "        }    #T_3098435e_6126_11e9_81c5_0242ac1c0002row5_col5 {\n",
              "            background-color:  #b40426;\n",
              "        }    #T_3098435e_6126_11e9_81c5_0242ac1c0002row5_col6 {\n",
              "            background-color:  #81a4fb;\n",
              "        }    #T_3098435e_6126_11e9_81c5_0242ac1c0002row5_col7 {\n",
              "            background-color:  #536edd;\n",
              "        }    #T_3098435e_6126_11e9_81c5_0242ac1c0002row5_col8 {\n",
              "            background-color:  #6180e9;\n",
              "        }    #T_3098435e_6126_11e9_81c5_0242ac1c0002row6_col0 {\n",
              "            background-color:  #3d50c3;\n",
              "        }    #T_3098435e_6126_11e9_81c5_0242ac1c0002row6_col1 {\n",
              "            background-color:  #6687ed;\n",
              "        }    #T_3098435e_6126_11e9_81c5_0242ac1c0002row6_col2 {\n",
              "            background-color:  #6788ee;\n",
              "        }    #T_3098435e_6126_11e9_81c5_0242ac1c0002row6_col3 {\n",
              "            background-color:  #3f53c6;\n",
              "        }    #T_3098435e_6126_11e9_81c5_0242ac1c0002row6_col4 {\n",
              "            background-color:  #3c4ec2;\n",
              "        }    #T_3098435e_6126_11e9_81c5_0242ac1c0002row6_col5 {\n",
              "            background-color:  #7da0f9;\n",
              "        }    #T_3098435e_6126_11e9_81c5_0242ac1c0002row6_col6 {\n",
              "            background-color:  #b40426;\n",
              "        }    #T_3098435e_6126_11e9_81c5_0242ac1c0002row6_col7 {\n",
              "            background-color:  #4358cb;\n",
              "        }    #T_3098435e_6126_11e9_81c5_0242ac1c0002row6_col8 {\n",
              "            background-color:  #5e7de7;\n",
              "        }    #T_3098435e_6126_11e9_81c5_0242ac1c0002row7_col0 {\n",
              "            background-color:  #3d50c3;\n",
              "        }    #T_3098435e_6126_11e9_81c5_0242ac1c0002row7_col1 {\n",
              "            background-color:  #536edd;\n",
              "        }    #T_3098435e_6126_11e9_81c5_0242ac1c0002row7_col2 {\n",
              "            background-color:  #536edd;\n",
              "        }    #T_3098435e_6126_11e9_81c5_0242ac1c0002row7_col3 {\n",
              "            background-color:  #3d50c3;\n",
              "        }    #T_3098435e_6126_11e9_81c5_0242ac1c0002row7_col4 {\n",
              "            background-color:  #7295f4;\n",
              "        }    #T_3098435e_6126_11e9_81c5_0242ac1c0002row7_col5 {\n",
              "            background-color:  #455cce;\n",
              "        }    #T_3098435e_6126_11e9_81c5_0242ac1c0002row7_col6 {\n",
              "            background-color:  #3b4cc0;\n",
              "        }    #T_3098435e_6126_11e9_81c5_0242ac1c0002row7_col7 {\n",
              "            background-color:  #b40426;\n",
              "        }    #T_3098435e_6126_11e9_81c5_0242ac1c0002row7_col8 {\n",
              "            background-color:  #ec7f63;\n",
              "        }    #T_3098435e_6126_11e9_81c5_0242ac1c0002row8_col0 {\n",
              "            background-color:  #3e51c5;\n",
              "        }    #T_3098435e_6126_11e9_81c5_0242ac1c0002row8_col1 {\n",
              "            background-color:  #3b4cc0;\n",
              "        }    #T_3098435e_6126_11e9_81c5_0242ac1c0002row8_col2 {\n",
              "            background-color:  #3b4cc0;\n",
              "        }    #T_3098435e_6126_11e9_81c5_0242ac1c0002row8_col3 {\n",
              "            background-color:  #3b4cc0;\n",
              "        }    #T_3098435e_6126_11e9_81c5_0242ac1c0002row8_col4 {\n",
              "            background-color:  #799cf8;\n",
              "        }    #T_3098435e_6126_11e9_81c5_0242ac1c0002row8_col5 {\n",
              "            background-color:  #3b4cc0;\n",
              "        }    #T_3098435e_6126_11e9_81c5_0242ac1c0002row8_col6 {\n",
              "            background-color:  #3d50c3;\n",
              "        }    #T_3098435e_6126_11e9_81c5_0242ac1c0002row8_col7 {\n",
              "            background-color:  #ef886b;\n",
              "        }    #T_3098435e_6126_11e9_81c5_0242ac1c0002row8_col8 {\n",
              "            background-color:  #b40426;\n",
              "        }</style>  \n",
              "<table id=\"T_3098435e_6126_11e9_81c5_0242ac1c0002\" > \n",
              "<thead>    <tr> \n",
              "        <th class=\"blank level0\" ></th> \n",
              "        <th class=\"col_heading level0 col0\" >policy_number</th> \n",
              "        <th class=\"col_heading level0 col1\" >Age</th> \n",
              "        <th class=\"col_heading level0 col2\" >Years of Driving Experience</th> \n",
              "        <th class=\"col_heading level0 col3\" >Number of Vehicles</th> \n",
              "        <th class=\"col_heading level0 col4\" >Gender</th> \n",
              "        <th class=\"col_heading level0 col5\" >Married</th> \n",
              "        <th class=\"col_heading level0 col6\" >Vehicle Age</th> \n",
              "        <th class=\"col_heading level0 col7\" >Fuel Type</th> \n",
              "        <th class=\"col_heading level0 col8\" >Losses</th> \n",
              "    </tr></thead> \n",
              "<tbody>    <tr> \n",
              "        <th id=\"T_3098435e_6126_11e9_81c5_0242ac1c0002level0_row0\" class=\"row_heading level0 row0\" >policy_number</th> \n",
              "        <td id=\"T_3098435e_6126_11e9_81c5_0242ac1c0002row0_col0\" class=\"data row0 col0\" >1</td> \n",
              "        <td id=\"T_3098435e_6126_11e9_81c5_0242ac1c0002row0_col1\" class=\"data row0 col1\" >0.00066</td> \n",
              "        <td id=\"T_3098435e_6126_11e9_81c5_0242ac1c0002row0_col2\" class=\"data row0 col2\" >0.0013</td> \n",
              "        <td id=\"T_3098435e_6126_11e9_81c5_0242ac1c0002row0_col3\" class=\"data row0 col3\" >0.013</td> \n",
              "        <td id=\"T_3098435e_6126_11e9_81c5_0242ac1c0002row0_col4\" class=\"data row0 col4\" >-0.0092</td> \n",
              "        <td id=\"T_3098435e_6126_11e9_81c5_0242ac1c0002row0_col5\" class=\"data row0 col5\" >0.0051</td> \n",
              "        <td id=\"T_3098435e_6126_11e9_81c5_0242ac1c0002row0_col6\" class=\"data row0 col6\" >-0.0013</td> \n",
              "        <td id=\"T_3098435e_6126_11e9_81c5_0242ac1c0002row0_col7\" class=\"data row0 col7\" >0.0024</td> \n",
              "        <td id=\"T_3098435e_6126_11e9_81c5_0242ac1c0002row0_col8\" class=\"data row0 col8\" >0.0046</td> \n",
              "    </tr>    <tr> \n",
              "        <th id=\"T_3098435e_6126_11e9_81c5_0242ac1c0002level0_row1\" class=\"row_heading level0 row1\" >Age</th> \n",
              "        <td id=\"T_3098435e_6126_11e9_81c5_0242ac1c0002row1_col0\" class=\"data row1 col0\" >0.00066</td> \n",
              "        <td id=\"T_3098435e_6126_11e9_81c5_0242ac1c0002row1_col1\" class=\"data row1 col1\" >1</td> \n",
              "        <td id=\"T_3098435e_6126_11e9_81c5_0242ac1c0002row1_col2\" class=\"data row1 col2\" >1</td> \n",
              "        <td id=\"T_3098435e_6126_11e9_81c5_0242ac1c0002row1_col3\" class=\"data row1 col3\" >0.0084</td> \n",
              "        <td id=\"T_3098435e_6126_11e9_81c5_0242ac1c0002row1_col4\" class=\"data row1 col4\" >0.0054</td> \n",
              "        <td id=\"T_3098435e_6126_11e9_81c5_0242ac1c0002row1_col5\" class=\"data row1 col5\" >-0.0043</td> \n",
              "        <td id=\"T_3098435e_6126_11e9_81c5_0242ac1c0002row1_col6\" class=\"data row1 col6\" >-0.24</td> \n",
              "        <td id=\"T_3098435e_6126_11e9_81c5_0242ac1c0002row1_col7\" class=\"data row1 col7\" >-0.33</td> \n",
              "        <td id=\"T_3098435e_6126_11e9_81c5_0242ac1c0002row1_col8\" class=\"data row1 col8\" >-0.44</td> \n",
              "    </tr>    <tr> \n",
              "        <th id=\"T_3098435e_6126_11e9_81c5_0242ac1c0002level0_row2\" class=\"row_heading level0 row2\" >Years of Driving Experience</th> \n",
              "        <td id=\"T_3098435e_6126_11e9_81c5_0242ac1c0002row2_col0\" class=\"data row2 col0\" >0.0013</td> \n",
              "        <td id=\"T_3098435e_6126_11e9_81c5_0242ac1c0002row2_col1\" class=\"data row2 col1\" >1</td> \n",
              "        <td id=\"T_3098435e_6126_11e9_81c5_0242ac1c0002row2_col2\" class=\"data row2 col2\" >1</td> \n",
              "        <td id=\"T_3098435e_6126_11e9_81c5_0242ac1c0002row2_col3\" class=\"data row2 col3\" >0.0085</td> \n",
              "        <td id=\"T_3098435e_6126_11e9_81c5_0242ac1c0002row2_col4\" class=\"data row2 col4\" >0.0074</td> \n",
              "        <td id=\"T_3098435e_6126_11e9_81c5_0242ac1c0002row2_col5\" class=\"data row2 col5\" >-0.005</td> \n",
              "        <td id=\"T_3098435e_6126_11e9_81c5_0242ac1c0002row2_col6\" class=\"data row2 col6\" >-0.24</td> \n",
              "        <td id=\"T_3098435e_6126_11e9_81c5_0242ac1c0002row2_col7\" class=\"data row2 col7\" >-0.33</td> \n",
              "        <td id=\"T_3098435e_6126_11e9_81c5_0242ac1c0002row2_col8\" class=\"data row2 col8\" >-0.44</td> \n",
              "    </tr>    <tr> \n",
              "        <th id=\"T_3098435e_6126_11e9_81c5_0242ac1c0002level0_row3\" class=\"row_heading level0 row3\" >Number of Vehicles</th> \n",
              "        <td id=\"T_3098435e_6126_11e9_81c5_0242ac1c0002row3_col0\" class=\"data row3 col0\" >0.013</td> \n",
              "        <td id=\"T_3098435e_6126_11e9_81c5_0242ac1c0002row3_col1\" class=\"data row3 col1\" >0.0084</td> \n",
              "        <td id=\"T_3098435e_6126_11e9_81c5_0242ac1c0002row3_col2\" class=\"data row3 col2\" >0.0085</td> \n",
              "        <td id=\"T_3098435e_6126_11e9_81c5_0242ac1c0002row3_col3\" class=\"data row3 col3\" >1</td> \n",
              "        <td id=\"T_3098435e_6126_11e9_81c5_0242ac1c0002row3_col4\" class=\"data row3 col4\" >-0.0012</td> \n",
              "        <td id=\"T_3098435e_6126_11e9_81c5_0242ac1c0002row3_col5\" class=\"data row3 col5\" >-0.0095</td> \n",
              "        <td id=\"T_3098435e_6126_11e9_81c5_0242ac1c0002row3_col6\" class=\"data row3 col6\" >0.0059</td> \n",
              "        <td id=\"T_3098435e_6126_11e9_81c5_0242ac1c0002row3_col7\" class=\"data row3 col7\" >-0.0034</td> \n",
              "        <td id=\"T_3098435e_6126_11e9_81c5_0242ac1c0002row3_col8\" class=\"data row3 col8\" >-0.012</td> \n",
              "    </tr>    <tr> \n",
              "        <th id=\"T_3098435e_6126_11e9_81c5_0242ac1c0002level0_row4\" class=\"row_heading level0 row4\" >Gender</th> \n",
              "        <td id=\"T_3098435e_6126_11e9_81c5_0242ac1c0002row4_col0\" class=\"data row4 col0\" >-0.0092</td> \n",
              "        <td id=\"T_3098435e_6126_11e9_81c5_0242ac1c0002row4_col1\" class=\"data row4 col1\" >0.0054</td> \n",
              "        <td id=\"T_3098435e_6126_11e9_81c5_0242ac1c0002row4_col2\" class=\"data row4 col2\" >0.0074</td> \n",
              "        <td id=\"T_3098435e_6126_11e9_81c5_0242ac1c0002row4_col3\" class=\"data row4 col3\" >-0.0012</td> \n",
              "        <td id=\"T_3098435e_6126_11e9_81c5_0242ac1c0002row4_col4\" class=\"data row4 col4\" >1</td> \n",
              "        <td id=\"T_3098435e_6126_11e9_81c5_0242ac1c0002row4_col5\" class=\"data row4 col5\" >-0.008</td> \n",
              "        <td id=\"T_3098435e_6126_11e9_81c5_0242ac1c0002row4_col6\" class=\"data row4 col6\" >-0.0035</td> \n",
              "        <td id=\"T_3098435e_6126_11e9_81c5_0242ac1c0002row4_col7\" class=\"data row4 col7\" >0.17</td> \n",
              "        <td id=\"T_3098435e_6126_11e9_81c5_0242ac1c0002row4_col8\" class=\"data row4 col8\" >0.18</td> \n",
              "    </tr>    <tr> \n",
              "        <th id=\"T_3098435e_6126_11e9_81c5_0242ac1c0002level0_row5\" class=\"row_heading level0 row5\" >Married</th> \n",
              "        <td id=\"T_3098435e_6126_11e9_81c5_0242ac1c0002row5_col0\" class=\"data row5 col0\" >0.0051</td> \n",
              "        <td id=\"T_3098435e_6126_11e9_81c5_0242ac1c0002row5_col1\" class=\"data row5 col1\" >-0.0043</td> \n",
              "        <td id=\"T_3098435e_6126_11e9_81c5_0242ac1c0002row5_col2\" class=\"data row5 col2\" >-0.005</td> \n",
              "        <td id=\"T_3098435e_6126_11e9_81c5_0242ac1c0002row5_col3\" class=\"data row5 col3\" >-0.0095</td> \n",
              "        <td id=\"T_3098435e_6126_11e9_81c5_0242ac1c0002row5_col4\" class=\"data row5 col4\" >-0.008</td> \n",
              "        <td id=\"T_3098435e_6126_11e9_81c5_0242ac1c0002row5_col5\" class=\"data row5 col5\" >1</td> \n",
              "        <td id=\"T_3098435e_6126_11e9_81c5_0242ac1c0002row5_col6\" class=\"data row5 col6\" >-0.0083</td> \n",
              "        <td id=\"T_3098435e_6126_11e9_81c5_0242ac1c0002row5_col7\" class=\"data row5 col7\" >-0.22</td> \n",
              "        <td id=\"T_3098435e_6126_11e9_81c5_0242ac1c0002row5_col8\" class=\"data row5 col8\" >-0.27</td> \n",
              "    </tr>    <tr> \n",
              "        <th id=\"T_3098435e_6126_11e9_81c5_0242ac1c0002level0_row6\" class=\"row_heading level0 row6\" >Vehicle Age</th> \n",
              "        <td id=\"T_3098435e_6126_11e9_81c5_0242ac1c0002row6_col0\" class=\"data row6 col0\" >-0.0013</td> \n",
              "        <td id=\"T_3098435e_6126_11e9_81c5_0242ac1c0002row6_col1\" class=\"data row6 col1\" >-0.24</td> \n",
              "        <td id=\"T_3098435e_6126_11e9_81c5_0242ac1c0002row6_col2\" class=\"data row6 col2\" >-0.24</td> \n",
              "        <td id=\"T_3098435e_6126_11e9_81c5_0242ac1c0002row6_col3\" class=\"data row6 col3\" >0.0059</td> \n",
              "        <td id=\"T_3098435e_6126_11e9_81c5_0242ac1c0002row6_col4\" class=\"data row6 col4\" >-0.0035</td> \n",
              "        <td id=\"T_3098435e_6126_11e9_81c5_0242ac1c0002row6_col5\" class=\"data row6 col5\" >-0.0083</td> \n",
              "        <td id=\"T_3098435e_6126_11e9_81c5_0242ac1c0002row6_col6\" class=\"data row6 col6\" >1</td> \n",
              "        <td id=\"T_3098435e_6126_11e9_81c5_0242ac1c0002row6_col7\" class=\"data row6 col7\" >-0.29</td> \n",
              "        <td id=\"T_3098435e_6126_11e9_81c5_0242ac1c0002row6_col8\" class=\"data row6 col8\" >-0.27</td> \n",
              "    </tr>    <tr> \n",
              "        <th id=\"T_3098435e_6126_11e9_81c5_0242ac1c0002level0_row7\" class=\"row_heading level0 row7\" >Fuel Type</th> \n",
              "        <td id=\"T_3098435e_6126_11e9_81c5_0242ac1c0002row7_col0\" class=\"data row7 col0\" >0.0024</td> \n",
              "        <td id=\"T_3098435e_6126_11e9_81c5_0242ac1c0002row7_col1\" class=\"data row7 col1\" >-0.33</td> \n",
              "        <td id=\"T_3098435e_6126_11e9_81c5_0242ac1c0002row7_col2\" class=\"data row7 col2\" >-0.33</td> \n",
              "        <td id=\"T_3098435e_6126_11e9_81c5_0242ac1c0002row7_col3\" class=\"data row7 col3\" >-0.0034</td> \n",
              "        <td id=\"T_3098435e_6126_11e9_81c5_0242ac1c0002row7_col4\" class=\"data row7 col4\" >0.17</td> \n",
              "        <td id=\"T_3098435e_6126_11e9_81c5_0242ac1c0002row7_col5\" class=\"data row7 col5\" >-0.22</td> \n",
              "        <td id=\"T_3098435e_6126_11e9_81c5_0242ac1c0002row7_col6\" class=\"data row7 col6\" >-0.29</td> \n",
              "        <td id=\"T_3098435e_6126_11e9_81c5_0242ac1c0002row7_col7\" class=\"data row7 col7\" >1</td> \n",
              "        <td id=\"T_3098435e_6126_11e9_81c5_0242ac1c0002row7_col8\" class=\"data row7 col8\" >0.72</td> \n",
              "    </tr>    <tr> \n",
              "        <th id=\"T_3098435e_6126_11e9_81c5_0242ac1c0002level0_row8\" class=\"row_heading level0 row8\" >Losses</th> \n",
              "        <td id=\"T_3098435e_6126_11e9_81c5_0242ac1c0002row8_col0\" class=\"data row8 col0\" >0.0046</td> \n",
              "        <td id=\"T_3098435e_6126_11e9_81c5_0242ac1c0002row8_col1\" class=\"data row8 col1\" >-0.44</td> \n",
              "        <td id=\"T_3098435e_6126_11e9_81c5_0242ac1c0002row8_col2\" class=\"data row8 col2\" >-0.44</td> \n",
              "        <td id=\"T_3098435e_6126_11e9_81c5_0242ac1c0002row8_col3\" class=\"data row8 col3\" >-0.012</td> \n",
              "        <td id=\"T_3098435e_6126_11e9_81c5_0242ac1c0002row8_col4\" class=\"data row8 col4\" >0.18</td> \n",
              "        <td id=\"T_3098435e_6126_11e9_81c5_0242ac1c0002row8_col5\" class=\"data row8 col5\" >-0.27</td> \n",
              "        <td id=\"T_3098435e_6126_11e9_81c5_0242ac1c0002row8_col6\" class=\"data row8 col6\" >-0.27</td> \n",
              "        <td id=\"T_3098435e_6126_11e9_81c5_0242ac1c0002row8_col7\" class=\"data row8 col7\" >0.72</td> \n",
              "        <td id=\"T_3098435e_6126_11e9_81c5_0242ac1c0002row8_col8\" class=\"data row8 col8\" >1</td> \n",
              "    </tr></tbody> \n",
              "</table> "
            ],
            "text/plain": [
              "<pandas.io.formats.style.Styler at 0x7f86867154a8>"
            ]
          },
          "metadata": {
            "tags": []
          },
          "execution_count": 37
        },
        {
          "output_type": "display_data",
          "data": {
            "image/png": "[encoded data removed]",
            "text/plain": [
              "<Figure size 576x576 with 1 Axes>"
            ]
          },
          "metadata": {
            "tags": []
          }
        }
      ]
    },
    {
      "metadata": {
        "id": "_b1xBfXqKy6p",
        "colab_type": "text"
      },
      "cell_type": "markdown",
      "source": [
        "On the above cell, we observed a good correlation between Losses and Age/Years of Driving Experience. Besides that, we can see a strong correlation with Fuel Type, but we need to dig deeper to understand if the relationship is about the severity."
      ]
    },
    {
      "metadata": {
        "id": "yLp04j_8tT4U",
        "colab_type": "code",
        "colab": {}
      },
      "cell_type": "code",
      "source": [
        "# plt.scatter(df['Years of Driving Experience'], df['Losses'])\n",
        "# plt.scatter(df['Age'], df['Losses'])\n",
        "plt.scatter(df['Fuel Type'], df['Losses'])\n"
      ],
      "execution_count": 0,
      "outputs": []
    },
    {
      "metadata": {
        "id": "SZXrlSb2M8wO",
        "colab_type": "text"
      },
      "cell_type": "markdown",
      "source": [
        "# Subset Analysis\n",
        "---\n",
        "While analyzing the dataset, was realized that exists duplicate policy numbers, therefore needing a more in-depth analysis of a subgroup of clients that had losses with the insurance more than 1 time.\n"
      ]
    },
    {
      "metadata": {
        "id": "ctQ_h__rcQ5O",
        "colab_type": "code",
        "colab": {}
      },
      "cell_type": "code",
      "source": [
        "# We have 2244 policy_numbers duplicated in the dataset\n",
        "df.duplicated(['policy_number'], keep=False).to_frame('duplicated').groupby('duplicated').size()"
      ],
      "execution_count": 0,
      "outputs": []
    },
    {
      "metadata": {
        "id": "_NtquzY-vy3U",
        "colab_type": "code",
        "colab": {}
      },
      "cell_type": "code",
      "source": [
        "# getting the subset of only the duplicated policy_numbers\n",
        "crashed_df = df[df.duplicated(subset=['policy_number'], keep=False)]\n",
        "unique_pn_array = crashed_df.policy_number.unique()\n",
        "print(crashed_df.count())\n",
        "crashed_df.head()"
      ],
      "execution_count": 0,
      "outputs": []
    },
    {
      "metadata": {
        "id": "0b6ChEGcqI0V",
        "colab_type": "code",
        "colab": {}
      },
      "cell_type": "code",
      "source": [
        "# Understand the size of crashes by policy_numbers in the whole dataframe.\n",
        "df.groupby('policy_number').size().to_frame('size').groupby('size').size().to_frame('Policy Number Amount')"
      ],
      "execution_count": 0,
      "outputs": []
    },
    {
      "metadata": {
        "id": "oBKQH8x7z4jK",
        "colab_type": "code",
        "colab": {}
      },
      "cell_type": "code",
      "source": [
        "corr = crashed_df.corr()\n",
        "            \n",
        "fig, ax = plt.subplots(figsize=(6, 6))\n",
        "ax.matshow(corr, cmap='coolwarm')\n",
        "plt.xticks(range(len(corr.columns)), corr.columns)\n",
        "plt.yticks(range(len(corr.columns)), corr.columns)\n",
        "corr.style.background_gradient(cmap='coolwarm').set_precision(2)"
      ],
      "execution_count": 0,
      "outputs": []
    },
    {
      "metadata": {
        "id": "54mq9jNZlM-S",
        "colab_type": "code",
        "colab": {}
      },
      "cell_type": "code",
      "source": [
        "fig = plt.figure()\n",
        "a = crashed_df.boxplot(column=['Losses'], by='Vehicle Age')\n",
        "b = crashed_df.boxplot(column=['Losses'], by='Years of Driving Experience')\n",
        "c = crashed_df.boxplot(column=['Losses'], by='Gender')\n",
        "d = crashed_df.boxplot(column=['Losses'], by='Fuel Type')\n",
        "\n",
        "a.plot()\n",
        "b.plot()\n",
        "c.plot()\n",
        "d.plot()"
      ],
      "execution_count": 0,
      "outputs": []
    },
    {
      "metadata": {
        "id": "eJKG3Jzzlwsb",
        "colab_type": "code",
        "colab": {}
      },
      "cell_type": "code",
      "source": [
        "fig, ax = plt.subplots(figsize=(8, 6))\n",
        "a = crashed_df[['Age', 'Losses']].groupby('Age').sum()\n",
        "b = crashed_df.groupby('Age').size().plot()\n",
        "plt.grid()\n",
        "a.plot()\n",
        "plt.grid()\n",
        "b.plot()\n",
        "\n"
      ],
      "execution_count": 0,
      "outputs": []
    },
    {
      "metadata": {
        "id": "P7qO25gPXSQ-",
        "colab_type": "code",
        "colab": {}
      },
      "cell_type": "code",
      "source": [
        "fig, ax = plt.subplots(figsize=(8, 6))\n",
        "a = df[['Age', 'Losses']].groupby('Age').sum()\n",
        "b = df.groupby('Age').size().plot()\n",
        "plt.grid()\n",
        "a.plot()\n",
        "plt.grid()\n",
        "b.plot()"
      ],
      "execution_count": 0,
      "outputs": []
    },
    {
      "metadata": {
        "id": "44sPr6G6UGtS",
        "colab_type": "code",
        "colab": {
          "base_uri": "https://localhost:8080/",
          "height": 34
        },
        "outputId": "e9b6deab-d415-4975-b5d8-54e3658fe876"
      },
      "cell_type": "code",
      "source": [
        "X = pd.DataFrame(df['Losses'])\n",
        "y = pd.DataFrame(df['Age'])\n",
        "\n",
        "model = LinearRegression()\n",
        "scores = []\n",
        "kfold = KFold(n_splits=2, shuffle=True, random_state=42)\n",
        "\n",
        "for i, (train, test) in enumerate(kfold.split(X, y)):\n",
        "    model.fit(X.iloc[train,:], y.iloc[train,:])\n",
        "    score = model.score(X.iloc[test,:], y.iloc[test,:])\n",
        "    scores.append(score)\n",
        "\n",
        "print(scores)"
      ],
      "execution_count": 39,
      "outputs": [
        {
          "output_type": "stream",
          "text": [
            "[0.18789331176333868, 0.20253375868833745]\n"
          ],
          "name": "stdout"
        }
      ]
    },
    {
      "metadata": {
        "id": "4vyQ6HBE5WeQ",
        "colab_type": "code",
        "colab": {}
      },
      "cell_type": "code",
      "source": [
        ""
      ],
      "execution_count": 0,
      "outputs": []
    }
  ]
}